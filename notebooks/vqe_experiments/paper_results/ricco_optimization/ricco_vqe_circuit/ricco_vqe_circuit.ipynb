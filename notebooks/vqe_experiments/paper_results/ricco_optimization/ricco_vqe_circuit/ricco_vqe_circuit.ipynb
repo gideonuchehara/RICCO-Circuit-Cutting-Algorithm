{
 "cells": [
  {
   "cell_type": "code",
   "execution_count": 1,
   "metadata": {
    "collapsed": false,
    "jupyter": {
     "outputs_hidden": false
    }
   },
   "outputs": [],
   "source": [
    "# This cell is added by sphinx-gallery\n",
    "# It can be customized to whatever you like\n",
    "%matplotlib inline"
   ]
  },
  {
   "cell_type": "code",
   "execution_count": 2,
   "metadata": {
    "collapsed": false,
    "jupyter": {
     "outputs_hidden": false
    }
   },
   "outputs": [],
   "source": [
    "import matplotlib.pyplot as plt\n",
    "from pennylane import numpy as np\n",
    "import pennylane as qml"
   ]
  },
  {
   "cell_type": "markdown",
   "metadata": {
    "tags": []
   },
   "source": [
    "(2) Hydrogen VQE Example\n",
    "========================"
   ]
  },
  {
   "cell_type": "code",
   "execution_count": 3,
   "metadata": {
    "collapsed": false,
    "jupyter": {
     "outputs_hidden": false
    }
   },
   "outputs": [
    {
     "name": "stdout",
     "output_type": "stream",
     "text": [
      "Number of qubits =  4\n"
     ]
    }
   ],
   "source": [
    "geo_file = \"../h2.xyz\"\n",
    "\n",
    "symbols, coordinates = qml.qchem.read_structure(geo_file)\n",
    "hamiltonian, qubits = qml.qchem.molecular_hamiltonian(symbols, coordinates)\n",
    "\n",
    "print(\"Number of qubits = \", qubits)"
   ]
  },
  {
   "cell_type": "markdown",
   "metadata": {},
   "source": [
    "For our ansatz, we use the circuit from the [VQE\n",
    "tutorial](https://pennylane.ai/qml/demos/tutorial_vqe.html) but expand\n",
    "out the arbitrary single-qubit rotations to elementary gates (RZ-RY-RZ).\n"
   ]
  },
  {
   "cell_type": "code",
   "execution_count": 4,
   "metadata": {
    "collapsed": false,
    "jupyter": {
     "outputs_hidden": false
    }
   },
   "outputs": [],
   "source": [
    "dev = qml.device(\"lightning.qubit\", wires=qubits)\n",
    "hf_state = np.array([1, 1, 0, 0], requires_grad=False)\n",
    "\n",
    "def ansatz(params, wires=[0, 1, 2, 3]):\n",
    "    # qml.BasisState(hf_state, wires=wires)\n",
    "    qml.PauliX(wires=0)\n",
    "    qml.PauliX(wires=1)\n",
    "    for i in wires:\n",
    "        qml.RZ(params[3 * i], wires=i)\n",
    "        qml.RY(params[3 * i + 1], wires=i)\n",
    "        qml.RZ(params[3 * i + 2], wires=i)\n",
    "    qml.CNOT(wires=[2, 3])\n",
    "    qml.CNOT(wires=[2, 0])\n",
    "    qml.CNOT(wires=[3, 1])"
   ]
  },
  {
   "cell_type": "markdown",
   "metadata": {},
   "source": [
    "Note that the qubit register has been initialized to $|1100\\rangle$,\n",
    "which encodes for the Hartree-Fock state of the hydrogen molecule\n",
    "described in the minimal basis. Again, we define the cost function to be\n",
    "the following QNode that measures `expval(H)`:\n"
   ]
  },
  {
   "cell_type": "code",
   "execution_count": 5,
   "metadata": {
    "collapsed": false,
    "jupyter": {
     "outputs_hidden": false
    }
   },
   "outputs": [],
   "source": [
    "exact_value = -1.136189454088"
   ]
  },
  {
   "cell_type": "markdown",
   "metadata": {},
   "source": [
    "We now set up our optimizations runs.\n"
   ]
  },
  {
   "cell_type": "code",
   "execution_count": 6,
   "metadata": {
    "collapsed": false,
    "jupyter": {
     "outputs_hidden": false
    }
   },
   "outputs": [],
   "source": [
    "@qml.qnode(dev)\n",
    "def cost(params):\n",
    "    ansatz(params)\n",
    "    return qml.expval(hamiltonian)"
   ]
  },
  {
   "cell_type": "code",
   "execution_count": null,
   "metadata": {},
   "outputs": [],
   "source": []
  },
  {
   "cell_type": "code",
   "execution_count": 7,
   "metadata": {},
   "outputs": [
    {
     "name": "stderr",
     "output_type": "stream",
     "text": [
      "/home/gideonuchehara/anaconda3/envs/ricco/lib/python3.9/site-packages/pennylane/__init__.py:350: UserWarning: The qml.grouping module is deprecated, please use qml.pauli instead.\n",
      "  warnings.warn(\n"
     ]
    }
   ],
   "source": [
    "############## Extracting Pauli observables from the Hamiltonian ##################\n",
    "\n",
    "pauli_strings = [qml.grouping.pauli_word_to_string(P, wire_map=range(4)) for P in hamiltonian.ops]\n",
    "N_A_pauli_word = [ob[1] + ob[3] for ob in pauli_strings]\n",
    "u_obs_list = sorted(set(N_A_pauli_word)) # set of observables for uncut qubits\n",
    "\n",
    "main_pauli_strings = pauli_strings.copy()\n",
    "\n",
    "grouped_paulis = []   # Grouping of all the observables in the Hamiltonian\n",
    "grouped_coeffs = []   # Grouping of all the coefficients in the Hamiltonian\n",
    "\n",
    "u_grouped_paulis = [] # Grouping of Subcircuit_u observables in the Hamiltonian\n",
    "v_grouped_paulis = [] # Grouping of Subcircuit_v observables in the Hamiltonian\n",
    "\n",
    "H_coeff = hamiltonian.coeffs     # Hamoltonian coefficients\n",
    "H_coeff = [float(c) for c in H_coeff]\n",
    "\n",
    "for test in sorted(u_obs_list):\n",
    "    tmp_ob = []\n",
    "    tmp_coeff = []\n",
    "    tmp_coeffs = []\n",
    "    tmp_u = []\n",
    "    tmp_v = []\n",
    "    for i, word in enumerate(pauli_strings):\n",
    "        if word[1] + word[3] == test:       # group observables based on the obserabes of A0 and A1\n",
    "            tmp_ob.append(word)\n",
    "            tmp_u.append(word[1] + word[3]) # extract observables for qubits labelled A0 and A1\n",
    "            tmp_v.append(word[0] + word[2]) # extract observables for qubits labelled C0 and B0\n",
    "            tmp_coeffs.append(H_coeff[i])\n",
    "            tmp_coeff.append(float(H_coeff[i]))\n",
    "    for j, k in zip(tmp_ob, tmp_coeff):\n",
    "        pauli_strings.remove(j)\n",
    "        H_coeff.remove(k)\n",
    "        \n",
    "    grouped_paulis.append(tmp_ob)\n",
    "    grouped_coeffs.append(tmp_coeffs)\n",
    "    u_grouped_paulis.append(tmp_u)  \n",
    "    v_grouped_paulis.append(tmp_v) "
   ]
  },
  {
   "cell_type": "code",
   "execution_count": null,
   "metadata": {},
   "outputs": [],
   "source": []
  },
  {
   "cell_type": "code",
   "execution_count": 8,
   "metadata": {},
   "outputs": [],
   "source": [
    "##################### Defining Subcircuits ##################################\n",
    "\n",
    "\n",
    "N_A_wires = 2\n",
    "N_B_wires = 1\n",
    "N_C_wires = 1\n",
    "\n",
    "\n",
    "N_AB_wires = N_A_wires + N_B_wires            # subcircuit_AB total wires\n",
    "N_BC_wires = N_B_wires + N_C_wires            # subcircuit_BC total wires\n",
    "N_wires = N_A_wires + N_B_wires + N_C_wires   # total wires in circuit\n",
    "\n",
    "# Generating labels for the differenct wires\n",
    "A_wires = [\"A\" + str(x) for x in list(range(N_A_wires))]\n",
    "B_wires = [\"B\" + str(x) for x in list(range(N_B_wires))]\n",
    "C_wires = [\"C\" + str(x) for x in list(range(N_C_wires))]\n",
    "\n",
    "# mapping the wires to their respective labels\n",
    "A_wire_map = {x: idx for idx, x in enumerate(A_wires)}\n",
    "B_wire_map = {x: idx for idx, x in enumerate(B_wires)}\n",
    "C_wire_map = {x: idx for idx, x in enumerate(C_wires)}\n",
    "\n",
    "# wire labels for the different subcircuits\n",
    "AB_wires = [A_wires[0]] + B_wires + [A_wires[1]]             # subcircuit_AB wire labels\n",
    "BC_wires = C_wires  + B_wires            # subcircuit_BC twire labels\n",
    "all_wires = C_wires + AB_wires   # total wire labels\n",
    "\n",
    "# wire mapping for the different subcircuits\n",
    "AB_wires_map = {x: idx for idx, x in enumerate(AB_wires)}\n",
    "BC_wires_map = {x: idx for idx, x in enumerate(BC_wires)}\n",
    "all_wires_map = {x: idx for idx, x in enumerate(all_wires)}\n",
    "\n",
    "# Generating and ordering Pauli group for N_B_wires\n",
    "N_B_grouped = qml.grouping.partition_pauli_group(N_B_wires)\n",
    "N_B_grouped_flat = [term for group in N_B_grouped for term in group]\n",
    "N_B_order = qml.math.argsort(N_B_grouped_flat)\n",
    "N_B_pauli_word = qml.math.array(N_B_grouped_flat)[N_B_order]\n",
    "opt_pauli_string = [P for P in N_B_pauli_word if all( [c in set('IZ') for c in P])]\n",
    "\n",
    "# Pauli I and Z and their respective eigenvectors and eigenvalues\n",
    "I = [\"0\", \"1\"]                   # eigenvectors of I\n",
    "I_sign = qml.math.array([1, 1])  # eigenvalues of I\n",
    "\n",
    "Z = [\"0\", \"1\"]                   # eigenvectors of Z\n",
    "Z_sign = qml.math.array([1, -1]) # eigenvalues of Z\n",
    "\n",
    "meas_to_prep_state_dic = {\"I\":I, \"Z\":Z}           # Dictionary for eigenvectors\n",
    "meas_to_prep_sign_dic = {\"I\":I_sign, \"Z\":Z_sign}  # Dictionary for eigenvalues\n",
    "\n",
    "def observables_and_eigenvalues_u(obs):\n",
    "    # Observable for the uncut qubits (A0 and A1) of subcircuit_u\n",
    "    N_A_pauli_word = obs\n",
    "\n",
    "    # Pauli strings for the subcircuit_u\n",
    "    # sandwich qubit B0 between qubits A0 and A1\n",
    "    AB_pauli_labels = [N_A_pauli_word[0] + word + N_A_pauli_word[1] for word in N_B_pauli_word]\n",
    "\n",
    "    # convert the Pauli strings to Pauli observables mappped to the respective wires\n",
    "    AB_paulis = [qml.grouping.string_to_pauli_word(P, wire_map=AB_wires_map) \n",
    "                  for P in AB_pauli_labels]\n",
    "\n",
    "    # Paulis with only Z or I\n",
    "    opt_paulis = [qml.grouping.string_to_pauli_word(P, wire_map=AB_wires_map) \n",
    "                  for P, B in zip(AB_pauli_labels, N_B_pauli_word) if \n",
    "                  all( [c in set('IZ') for c in B]\n",
    "    )]\n",
    "\n",
    "    eig_list = []\n",
    "    for string in opt_pauli_string:\n",
    "        eig = 0\n",
    "        for indx, ob in enumerate(string):\n",
    "            if indx==0:\n",
    "                eig = meas_to_prep_sign_dic[ob]\n",
    "            else:\n",
    "                eig = qml.math.kron(eig, meas_to_prep_sign_dic[ob])\n",
    "        eig_list.append(list(eig))\n",
    "\n",
    "    eigvals = np.array(eig_list)\n",
    "    \n",
    "    return N_A_pauli_word, AB_paulis, AB_pauli_labels, opt_paulis, eigvals\n"
   ]
  },
  {
   "cell_type": "code",
   "execution_count": null,
   "metadata": {},
   "outputs": [],
   "source": []
  },
  {
   "cell_type": "code",
   "execution_count": 9,
   "metadata": {},
   "outputs": [],
   "source": [
    "dev = qml.device(\"lightning.qubit\", wires=all_wires)\n",
    "hf_state = np.array([1, 1, 0, 0], requires_grad=False)\n",
    "np.random.seed(0)\n",
    "init_params = np.random.uniform(low=0, high=2 * np.pi, size=12, requires_grad=True)\n",
    "vqe_params = init_params\n",
    "\n",
    "def modified_ansatz(vqe_params, wires=all_wires):\n",
    "    # qml.BasisState(hf_state, wires=wires)\n",
    "    qml.PauliX(wires=wires[0])\n",
    "    qml.PauliX(wires=wires[1])\n",
    "    for i, j in enumerate(wires):\n",
    "        qml.RZ(vqe_params[3 * i], wires=j)\n",
    "        qml.RY(vqe_params[3 * i + 1], wires=j)\n",
    "        qml.RZ(vqe_params[3 * i + 2], wires=j)\n",
    "    qml.CNOT(wires=[wires[2], wires[3]])\n",
    "    \n",
    "    qml.WireCut(wires=wires[2])\n",
    "    \n",
    "    qml.CNOT(wires=[wires[2], wires[0]])\n",
    "    qml.CNOT(wires=[wires[3], wires[1]])\n",
    "    \n",
    "\n",
    "@qml.qnode(dev)\n",
    "def modified_cost(_vqe_params):\n",
    "    modified_ansatz(_vqe_params, wires=all_wires)\n",
    "    return qml.expval(modified_hamiltonian)"
   ]
  },
  {
   "cell_type": "code",
   "execution_count": 10,
   "metadata": {},
   "outputs": [],
   "source": [
    "wires_map = {i:j for i,j in zip(range(N_wires), all_wires)}\n",
    "\n",
    "wires_AB_map = {key: value for key,value in wires_map.items() if ('A' in value or 'B' in value)}\n",
    "\n",
    "wires_BC_map = {key: value for key,value in wires_map.items() if ('C' in value)}"
   ]
  },
  {
   "cell_type": "code",
   "execution_count": 11,
   "metadata": {},
   "outputs": [],
   "source": [
    "import copy\n",
    "def map_wires(H, wires_map):\n",
    "    \"\"\"Map the wires of an Observable according to a wires map.\n",
    "    \n",
    "    Args:\n",
    "        H (Hamiltonian or Tensor or Observable): Hamiltonian to remap the wires of.\n",
    "        wires_map (dict): Wires map with `(origin, destination)` pairs as key-value pairs.\n",
    "    \n",
    "    Returns:\n",
    "        Hamiltonian or Tensor or Observable: A copy of the original Hamiltonian with remapped wires.\n",
    "    \"\"\"\n",
    "    if isinstance(H, qml.Hamiltonian):\n",
    "        new_ops = [map_wires(op, wires_map) for op in H.ops]\n",
    "        new_H = qml.Hamiltonian(H.coeffs, new_ops)\n",
    "    elif isinstance(H, qml.operation.Tensor):\n",
    "        new_obs = [map_wires(ob, wires_map) for ob in H.obs]\n",
    "        new_H = qml.operation.Tensor(*new_obs)\n",
    "    elif isinstance(H, qml.operation.Observable):\n",
    "        new_H = copy.copy(H)\n",
    "        new_H._wires = new_H.wires.map(wires_map)\n",
    "        \n",
    "    return new_H\n",
    "\n",
    "modified_hamiltonian = map_wires(hamiltonian, wires_map)"
   ]
  },
  {
   "cell_type": "code",
   "execution_count": 12,
   "metadata": {},
   "outputs": [
    {
     "data": {
      "image/png": "[encoded data removed]",
      "text/plain": [
       "<Figure size 720x360 with 1 Axes>"
      ]
     },
     "metadata": {},
     "output_type": "display_data"
    }
   ],
   "source": [
    "qml.drawer.use_style('black_white')\n",
    "fig, _ = qml.draw_mpl(modified_cost)(vqe_params)\n",
    "# fig.set_size_inches(12,6)\n",
    "plt.rc('font', size=100)\n",
    "plt.rcParams['text.color'] = 'maroon'\n",
    "plt.rcParams['font.weight'] = 'bold'\n",
    "plt.rcParams['patch.linewidth'] = 30\n",
    "# plt.savefig(\"full_circuit.svg\")\n",
    "plt.savefig(\"full_circuit.pdf\")"
   ]
  },
  {
   "cell_type": "code",
   "execution_count": 13,
   "metadata": {},
   "outputs": [],
   "source": [
    "def main_and_v_observables(obs):\n",
    "    \"\"\"\n",
    "    return the observables for subcircuit_v and the observable for the entire circuit\n",
    "    \"\"\"\n",
    "    # Pauli strings for qubits B0 and C0 of subcircuits_v\n",
    "    N_BC_pauli_word = obs[0] + obs[2]\n",
    "    BC_pauli_labels = [N_BC_pauli_word]\n",
    "\n",
    "    BC_paulis = [qml.grouping.string_to_pauli_word(P, wire_map=BC_wires_map) \n",
    "                      for P in BC_pauli_labels]\n",
    "\n",
    "    op = qml.grouping.string_to_pauli_word(obs, wire_map=all_wires_map)\n",
    "    return BC_paulis, BC_pauli_labels, op"
   ]
  },
  {
   "cell_type": "code",
   "execution_count": 14,
   "metadata": {},
   "outputs": [],
   "source": [
    "def vqe_template_AB(vqe_params, wires=AB_wires):\n",
    "    qml.PauliX(wires=wires[0])\n",
    "    for i, j in wires_AB_map.items():\n",
    "        qml.RZ(vqe_params[3 * i], wires=j)\n",
    "        qml.RY(vqe_params[3 * i + 1], wires=j)\n",
    "        qml.RZ(vqe_params[3 * i + 2], wires=j)\n",
    "    qml.CNOT(wires=[wires[1], wires[2]])\n",
    "    \n",
    "    qml.CNOT(wires=[wires[2], wires[0]])"
   ]
  },
  {
   "cell_type": "code",
   "execution_count": 15,
   "metadata": {},
   "outputs": [],
   "source": [
    "def vqe_template_BC(vqe_params, wires=BC_wires):\n",
    "    qml.PauliX(wires=wires[0])\n",
    "    for i, j in wires_BC_map.items():\n",
    "        qml.RZ(vqe_params[3 * i], wires=j)\n",
    "        qml.RY(vqe_params[3 * i + 1], wires=j)\n",
    "        qml.RZ(vqe_params[3 * i + 2], wires=j)\n",
    "    \n",
    "    qml.CNOT(wires=[wires[1], wires[0]])"
   ]
  },
  {
   "cell_type": "code",
   "execution_count": 16,
   "metadata": {},
   "outputs": [],
   "source": [
    "# Unitary operator to be used at cut location for one qubit cut\n",
    "def one_qubit_unitary(ricco_params, wires):\n",
    "    \"\"\"Ansatz for a general two-qubit unitary V.\"\"\"\n",
    "    qml.Rot(*ricco_params, wires=B_wires)\n",
    "\n",
    "# Conjugate of Unitary operator to be used at cut location for one qubit cut\n",
    "def one_qubit_unitary_dagger(ricco_params, wires):\n",
    "    \"\"\"Ansatz for a general two-qubit unitary V.\"\"\"\n",
    "    qml.adjoint(one_qubit_unitary)(ricco_params, wires)"
   ]
  },
  {
   "cell_type": "code",
   "execution_count": 17,
   "metadata": {},
   "outputs": [],
   "source": [
    "def quantum_function_for_AB(vqe_params, ricco_params):\n",
    "    vqe_template_AB(vqe_params) # Using optimal_params for template cct.\n",
    "    # one_qubit_unitary(ricco_params, wires=B_wires)\n",
    "    \n",
    "def quantum_function_for_BC(vqe_params, ricco_params):\n",
    "    # one_qubit_unitary_dagger(ricco_params, wires=B_wires)\n",
    "    vqe_template_BC(vqe_params) # Using optimal_params for template cct."
   ]
  },
  {
   "cell_type": "code",
   "execution_count": 18,
   "metadata": {},
   "outputs": [],
   "source": [
    "# Defining the first half of the cut circuit - Subcircuit_AB\n",
    "dev = qml.device(\"lightning.qubit\", wires=AB_wires)\n",
    "# Define ricco Parameters\n",
    "ricco_params = np.random.uniform(-np.pi, np.pi, size=4**N_B_wires-1)\n",
    "    \n",
    "@qml.qnode(dev)\n",
    "def subcircuit_for_AB(vqe_params, ricco_params, opt_paulis):\n",
    "    quantum_function_for_AB(vqe_params, ricco_params)\n",
    "    return [qml.expval(P) for P in opt_paulis]\n",
    "\n",
    "@qml.qnode(dev)\n",
    "def subcircuit_for_test(vqe_params, ricco_params, AB_paulis):\n",
    "    quantum_function_for_AB(vqe_params, ricco_params)\n",
    "    return [qml.expval(P) for P in AB_paulis]"
   ]
  },
  {
   "cell_type": "code",
   "execution_count": 19,
   "metadata": {},
   "outputs": [],
   "source": [
    "# intentionally did this for variables  BC_paulis, op\n",
    "bc_and_all_obs = []\n",
    "for group in grouped_paulis:\n",
    "    tmp_group = []\n",
    "    for obs in group:\n",
    "        BC_paulis, BC_pauli_labels, op = main_and_v_observables(obs)\n",
    "        tmp_group.append([BC_paulis, BC_pauli_labels, op])\n",
    "    bc_and_all_obs.append(tmp_group)"
   ]
  },
  {
   "cell_type": "code",
   "execution_count": 20,
   "metadata": {},
   "outputs": [],
   "source": [
    "# intentionally did this for variables  AB_paulis, opt_paulis\n",
    "opt_list = []\n",
    "for obs in u_obs_list:\n",
    "    N_A_pauli_word, AB_paulis, AB_pauli_labels, opt_paulis, eigvals = \\\n",
    "                                                        observables_and_eigenvalues_u(obs)\n",
    "    opt_list.append([N_A_pauli_word, AB_paulis, AB_pauli_labels, opt_paulis, eigvals])"
   ]
  },
  {
   "cell_type": "code",
   "execution_count": 21,
   "metadata": {},
   "outputs": [],
   "source": [
    "N_A_pauli_word, AB_paulis, AB_pauli_labels, opt_paulis, eigvals = opt_list[0]\n",
    "BC_paulis, BC_pauli_labels, op = bc_and_all_obs[0][0]"
   ]
  },
  {
   "cell_type": "code",
   "execution_count": null,
   "metadata": {},
   "outputs": [],
   "source": []
  },
  {
   "cell_type": "code",
   "execution_count": 22,
   "metadata": {},
   "outputs": [
    {
     "data": {
      "image/png": "[encoded data removed]",
      "text/plain": [
       "<Figure size 720x360 with 1 Axes>"
      ]
     },
     "metadata": {},
     "output_type": "display_data"
    }
   ],
   "source": [
    "qml.drawer.use_style('black_white')\n",
    "fig, _ = qml.draw_mpl(subcircuit_for_AB)(vqe_params, ricco_params, opt_paulis)\n",
    "fig.set_size_inches(10,5)\n",
    "# plt.rc('font', size=100)\n",
    "plt.rcParams['text.color'] = 'maroon'\n",
    "plt.rcParams['font.weight'] = 'bold'\n",
    "plt.rcParams['patch.linewidth'] = 30\n",
    "# plt.savefig(\"upstream.svg\")\n",
    "plt.savefig(\"upstream.pdf\")"
   ]
  },
  {
   "cell_type": "code",
   "execution_count": 23,
   "metadata": {},
   "outputs": [],
   "source": [
    "# Defining the second half of the cut circuit - Subcircuit_BC\n",
    "dev = qml.device(\"lightning.qubit\", wires=BC_wires)\n",
    "    \n",
    "@qml.qnode(dev)\n",
    "def subcircuit_for_BC(vqe_params, ricco_params, BC_paulis):\n",
    "    quantum_function_for_BC(vqe_params, ricco_params)\n",
    "    return [qml.expval(P) for P in BC_paulis]"
   ]
  },
  {
   "cell_type": "code",
   "execution_count": 24,
   "metadata": {},
   "outputs": [
    {
     "data": {
      "image/png": "[encoded data removed]",
      "text/plain": [
       "<Figure size 576x216 with 1 Axes>"
      ]
     },
     "metadata": {},
     "output_type": "display_data"
    }
   ],
   "source": [
    "qml.drawer.use_style('black_white')\n",
    "fig, _ = qml.draw_mpl(subcircuit_for_BC)(vqe_params, ricco_params, BC_paulis)\n",
    "# fig.set_size_inches(12,5)\n",
    "plt.rc('font', size=100)\n",
    "plt.rcParams['text.color'] = 'maroon'\n",
    "plt.rcParams['font.weight'] = 'bold'\n",
    "plt.rcParams['patch.linewidth'] = 30\n",
    "# plt.savefig(\"downstream.svg\")\n",
    "plt.savefig(\"downstream.pdf\")"
   ]
  },
  {
   "cell_type": "code",
   "execution_count": null,
   "metadata": {},
   "outputs": [],
   "source": []
  },
  {
   "cell_type": "code",
   "execution_count": null,
   "metadata": {},
   "outputs": [],
   "source": []
  },
  {
   "cell_type": "code",
   "execution_count": null,
   "metadata": {
    "tags": []
   },
   "outputs": [],
   "source": []
  },
  {
   "cell_type": "code",
   "execution_count": null,
   "metadata": {},
   "outputs": [],
   "source": []
  },
  {
   "cell_type": "code",
   "execution_count": null,
   "metadata": {},
   "outputs": [],
   "source": []
  },
  {
   "cell_type": "code",
   "execution_count": null,
   "metadata": {},
   "outputs": [],
   "source": []
  },
  {
   "cell_type": "code",
   "execution_count": null,
   "metadata": {},
   "outputs": [],
   "source": []
  },
  {
   "cell_type": "code",
   "execution_count": null,
   "metadata": {},
   "outputs": [],
   "source": []
  }
 ],
 "metadata": {
  "citation-manager": {
   "items": {}
  },
  "kernelspec": {
   "display_name": "ricco",
   "language": "python",
   "name": "ricco"
  },
  "language_info": {
   "codemirror_mode": {
    "name": "ipython",
    "version": 3
   },
   "file_extension": ".py",
   "mimetype": "text/x-python",
   "name": "python",
   "nbconvert_exporter": "python",
   "pygments_lexer": "ipython3",
   "version": "3.9.11"
  }
 },
 "nbformat": 4,
 "nbformat_minor": 4
}
