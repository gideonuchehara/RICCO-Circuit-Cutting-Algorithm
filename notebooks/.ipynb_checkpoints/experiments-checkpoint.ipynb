{
 "cells": [
  {
   "cell_type": "code",
   "execution_count": 1,
   "id": "eafe37c0-51da-4b0e-968f-ee1a1c7240dc",
   "metadata": {},
   "outputs": [],
   "source": [
    "# from ricco import ricco_expval, uncut_expval\n",
    "from ricco import ricco_random_unitary_expval\n",
    "from qcut import qcut_random_unitary_expval"
   ]
  },
  {
   "cell_type": "code",
   "execution_count": 2,
   "id": "4c5d8ace-d97c-42b8-9659-2c27d0ec9492",
   "metadata": {},
   "outputs": [
    {
     "name": "stderr",
     "output_type": "stream",
     "text": [
      "/home/gideonuchehara/anaconda3/envs/ricco/lib/python3.9/site-packages/pennylane/__init__.py:350: UserWarning: The qml.grouping module is deprecated, please use qml.pauli instead.\n",
      "  warnings.warn(\n"
     ]
    },
    {
     "data": {
      "text/plain": [
       "(tensor(0.13846945, requires_grad=True),\n",
       " tensor(0.13896968, requires_grad=True))"
      ]
     },
     "execution_count": 2,
     "metadata": {},
     "output_type": "execute_result"
    }
   ],
   "source": [
    "num_qubits = 5\n",
    "num_cuts=1\n",
    "seed_u = 103\n",
    "seed_v = 105\n",
    "\n",
    "ricco_random_unitary_expval(num_qubits, num_cuts, seed_u, seed_v)"
   ]
  },
  {
   "cell_type": "code",
   "execution_count": 3,
   "id": "89c3132b-44ef-4401-be6f-10351da751bb",
   "metadata": {},
   "outputs": [],
   "source": [
    "# uncut_expval(num_qubits, num_cuts, seed_u, seed_v)"
   ]
  },
  {
   "cell_type": "code",
   "execution_count": 4,
   "id": "993d2a44-76cf-4d9e-a85a-f83edbcda94a",
   "metadata": {},
   "outputs": [
    {
     "data": {
      "text/plain": [
       "(tensor(0.13896968, requires_grad=True),\n",
       " tensor(0.13896968, requires_grad=True))"
      ]
     },
     "execution_count": 4,
     "metadata": {},
     "output_type": "execute_result"
    }
   ],
   "source": [
    "qcut_random_unitary_expval(num_qubits, num_cuts, seed_u, seed_v)"
   ]
  },
  {
   "cell_type": "code",
   "execution_count": null,
   "id": "e113e270-4cf0-4689-97a7-ef3483705e31",
   "metadata": {},
   "outputs": [],
   "source": []
  },
  {
   "cell_type": "markdown",
   "id": "c4fe1f3c-7495-462e-af48-ab1a24292095",
   "metadata": {},
   "source": [
    "Hydrogen VQE\n",
    "============"
   ]
  },
  {
   "cell_type": "code",
   "execution_count": 5,
   "id": "48c97dea-a188-4748-98e3-4e44758727c9",
   "metadata": {},
   "outputs": [],
   "source": [
    "import matplotlib.pyplot as plt\n",
    "from pennylane import numpy as np\n",
    "import pennylane as qml"
   ]
  },
  {
   "cell_type": "code",
   "execution_count": 7,
   "id": "f5e736f3-66bd-43aa-84dd-500c4a568811",
   "metadata": {},
   "outputs": [
    {
     "name": "stdout",
     "output_type": "stream",
     "text": [
      "Number of qubits =  4\n"
     ]
    }
   ],
   "source": [
    "geo_file = \"vqe_files/h2.xyz\"\n",
    "\n",
    "symbols, coordinates = qml.qchem.read_structure(geo_file)\n",
    "hamiltonian, qubits = qml.qchem.molecular_hamiltonian(symbols, coordinates)\n",
    "\n",
    "print(\"Number of qubits = \", qubits)"
   ]
  },
  {
   "cell_type": "markdown",
   "id": "3984c817-7db8-44c5-94d1-b4c9e58a1f6c",
   "metadata": {},
   "source": [
    "For our ansatz, we use the circuit from the [VQE\n",
    "tutorial](https://pennylane.ai/qml/demos/tutorial_vqe.html) but expand\n",
    "out the arbitrary single-qubit rotations to elementary gates (RZ-RY-RZ).\n"
   ]
  },
  {
   "cell_type": "code",
   "execution_count": null,
   "id": "1bbb8ceb-703a-4087-8170-3b34ab73ca02",
   "metadata": {},
   "outputs": [],
   "source": []
  },
  {
   "cell_type": "code",
   "execution_count": 10,
   "id": "4e8f2bdf-593f-45da-a1fd-2b4cfea23e64",
   "metadata": {},
   "outputs": [],
   "source": [
    "dev = qml.device(\"lightning.qubit\", wires=qubits)\n",
    "hf_state = np.array([1, 1, 0, 0], requires_grad=False)\n",
    "\n",
    "def ansatz(params, wires=[0, 1, 2, 3]):\n",
    "    # qml.BasisState(hf_state, wires=wires)\n",
    "    qml.PauliX(wires=0)\n",
    "    qml.PauliX(wires=1)\n",
    "    for i in wires:\n",
    "        qml.RZ(params[3 * i], wires=i)\n",
    "        qml.RY(params[3 * i + 1], wires=i)\n",
    "        qml.RZ(params[3 * i + 2], wires=i)\n",
    "    qml.CNOT(wires=[2, 3])\n",
    "    qml.WireCut(wires=wires[2]) # apply cut here\n",
    "    qml.CNOT(wires=[2, 0])\n",
    "    qml.CNOT(wires=[3, 1])"
   ]
  },
  {
   "cell_type": "markdown",
   "id": "793822e6-c2f0-4cda-9501-152aa639b918",
   "metadata": {},
   "source": [
    "Note that the qubit register has been initialized to $|1100\\rangle$,\n",
    "which encodes for the Hartree-Fock state of the hydrogen molecule\n",
    "described in the minimal basis. Again, we define the cost function to be\n",
    "the following QNode that measures `expval(H)`:\n"
   ]
  },
  {
   "cell_type": "code",
   "execution_count": 51,
   "id": "bdd5f2a3-37d0-4890-8bdb-1274c3f34965",
   "metadata": {},
   "outputs": [],
   "source": [
    "from pennylane import numpy as np\n",
    "np.random.seed(0)\n",
    "num_cuts = 1\n",
    "# Define RICCO parameters for unitary rotation at cut locations\n",
    "ricco_params = np.random.uniform(-np.pi, np.pi, size=4**num_cuts - 1, requires_grad=True)\n",
    "vqe_params = np.random.uniform(low=0, high=2 * np.pi, size=12, requires_grad=True)\n",
    "max_iterations = 500\n",
    "step_size = 0.5\n",
    "conv_tol = 1e-03\n",
    "exact_value = -1.136189454088"
   ]
  },
  {
   "cell_type": "code",
   "execution_count": 71,
   "id": "25c5bd73-cc42-44e6-a66c-b194085ceaab",
   "metadata": {},
   "outputs": [],
   "source": [
    "from utils import generate_n_qubit_unitary\n",
    "def vqe_circuit(num_qubits, vqe_params, ricco_params, hamiltonian, unitary_rotation=False):\n",
    "    qubits=list(range(num_qubits))\n",
    "    \n",
    "    qml.PauliX(wires=0)\n",
    "    qml.PauliX(wires=1)\n",
    "    for i in qubits:\n",
    "        qml.RZ(vqe_params[3 * i], wires=i)\n",
    "        qml.RY(vqe_params[3 * i + 1], wires=i)\n",
    "        qml.RZ(vqe_params[3 * i + 2], wires=i)\n",
    "    qml.CNOT(wires=[2, 3])\n",
    "    \n",
    "    # Insert unitary rotation at cut location\n",
    "    if unitary_rotation:\n",
    "        generate_n_qubit_unitary(ricco_params, [qubits[2]])\n",
    "        qml.WireCut(wires=qubits[2])  # apply cut here\n",
    "        qml.adjoint(generate_n_qubit_unitary)(ricco_params, [qubits[2]])\n",
    "    else: # No unitary rotations inserted at cut location\n",
    "        qml.WireCut(wires=qubits[2])  # apply cut here\n",
    "        \n",
    "    qml.CNOT(wires=[2, 0])\n",
    "    qml.CNOT(wires=[3, 1])\n",
    "    \n",
    "    pauli_strings = [qml.grouping.pauli_word_to_string(P, wire_map=range(4)) for \n",
    "                 P in hamiltonian.ops]\n",
    "    observables = [qml.grouping.string_to_pauli_word(word) for word in pauli_strings]\n",
    "    \n",
    "    return [qml.expval(obs) for obs in observables]\n",
    "    # return [qml.expval(obs) for obs in observables]\n",
    "    "
   ]
  },
  {
   "cell_type": "code",
   "execution_count": 78,
   "id": "d9fc06cb-f6ca-4c68-8c7d-1d30f07a9405",
   "metadata": {},
   "outputs": [
    {
     "data": {
      "text/plain": [
       "tensor([-0.04207899,  0.17771288,  0.17771288,  0.17059738,  0.04475014,\n",
       "        -0.04475014, -0.04475014,  0.04475014, -0.2427428 ,  0.12293305,\n",
       "        -0.2427428 ,  0.16768319,  0.16768319,  0.12293305,  0.17627641], requires_grad=False)"
      ]
     },
     "execution_count": 78,
     "metadata": {},
     "output_type": "execute_result"
    }
   ],
   "source": [
    "H_coeff = hamiltonian.coeffs\n",
    "H_coeff"
   ]
  },
  {
   "cell_type": "code",
   "execution_count": null,
   "id": "eb870a3f-493c-4709-a5ef-f5d8ae1a9e4d",
   "metadata": {},
   "outputs": [],
   "source": []
  },
  {
   "cell_type": "code",
   "execution_count": 79,
   "id": "0bde4fc5-c1b0-47dc-b074-d5481a0ae7e8",
   "metadata": {},
   "outputs": [
    {
     "data": {
      "text/plain": [
       "tensor(-0.0624693, requires_grad=True)"
      ]
     },
     "execution_count": 79,
     "metadata": {},
     "output_type": "execute_result"
    }
   ],
   "source": [
    "np.sum(H_coeff*uncut_circuit_expval)"
   ]
  },
  {
   "cell_type": "code",
   "execution_count": 72,
   "id": "33d90689-ba92-4056-80c8-367ffe15d690",
   "metadata": {},
   "outputs": [],
   "source": [
    "# Initialize device for RICCO optimization\n",
    "dev = qml.device(\"default.qubit\", wires=range(qubits))\n",
    "\n",
    "# Define and create a QNode for the generated quantum circuit\n",
    "vqe_circuit_qnode = qml.QNode(vqe_circuit, device=dev)"
   ]
  },
  {
   "cell_type": "code",
   "execution_count": 73,
   "id": "7526291b-8fff-45a8-896e-c9e554c62785",
   "metadata": {},
   "outputs": [
    {
     "data": {
      "text/plain": [
       "tensor([ 1.        ,  0.22992236, -0.17990127, -0.61579329, -0.75231812,\n",
       "         0.58497718, -0.84802872,  0.65939851,  0.25917329,  0.88713755,\n",
       "         0.23136456,  0.79194962, -0.69413508, -0.77756625,  0.89270217], requires_grad=True)"
      ]
     },
     "execution_count": 73,
     "metadata": {},
     "output_type": "execute_result"
    }
   ],
   "source": [
    "\n",
    "uncut_circuit_expval = vqe_circuit_qnode(qubits, vqe_params, ricco_params, \n",
    "                                         hamiltonian, unitary_rotation=True)\n",
    "uncut_circuit_expval"
   ]
  },
  {
   "cell_type": "code",
   "execution_count": 74,
   "id": "331690c5-5050-4c72-b9b1-71282f42f67b",
   "metadata": {},
   "outputs": [
    {
     "data": {
      "image/png": "[encoded data removed]",
      "text/plain": [
       "<Figure size 864x360 with 1 Axes>"
      ]
     },
     "metadata": {},
     "output_type": "display_data"
    }
   ],
   "source": [
    "fig1, ax = qml.draw_mpl(vqe_circuit_qnode)(qubits, vqe_params, ricco_params,\n",
    "                                           hamiltonian, unitary_rotation=True)"
   ]
  },
  {
   "cell_type": "code",
   "execution_count": 75,
   "id": "b806b6a6-03d9-4a55-809b-835ad928e31b",
   "metadata": {},
   "outputs": [
    {
     "name": "stdout",
     "output_type": "stream",
     "text": [
      "len(fragment_tapes) =  2\n"
     ]
    },
    {
     "name": "stderr",
     "output_type": "stream",
     "text": [
      "/home/gideonuchehara/anaconda3/envs/ricco/lib/python3.9/site-packages/pennylane/operation.py:1830: UserWarning: Tensor object acts on overlapping wires; in some PennyLane functions this will lead to undefined behaviour\n",
      "  warnings.warn(\n"
     ]
    }
   ],
   "source": [
    "# Convert the uncut QNode to a quantum tape for processing\n",
    "tape = vqe_circuit_qnode.qtape\n",
    "\n",
    "# Perform circuit cutting on the quantum tape\n",
    "graph = qml.transforms.qcut.tape_to_graph(tape)\n",
    "qml.transforms.qcut.replace_wire_cut_nodes(graph)\n",
    "\n",
    "# Generate fragments and the communication graph for circuit cutting\n",
    "fragments, communication_graph = qml.transforms.qcut.fragment_graph(graph)\n",
    "fragment_tapes = [qml.transforms.qcut.graph_to_tape(f) for f in fragments]\n",
    "\n",
    "# Note for Hamiltonians Pennylane does not have the functionality to fragment tapes\n",
    "\n",
    "print(\"len(fragment_tapes) = \", len(fragment_tapes))"
   ]
  },
  {
   "cell_type": "code",
   "execution_count": 80,
   "id": "fd357f7b-9640-4a57-a119-630b31cac7d1",
   "metadata": {},
   "outputs": [
    {
     "data": {
      "text/plain": [
       "[<QuantumScript: wires=[0, 2], params=6>,\n",
       " <QuantumScript: wires=[1, 2, 3], params=12>]"
      ]
     },
     "execution_count": 80,
     "metadata": {},
     "output_type": "execute_result"
    }
   ],
   "source": [
    "fragment_tapes"
   ]
  },
  {
   "cell_type": "code",
   "execution_count": 82,
   "id": "3364a742-1cec-4749-a1b2-49096ca5cb7a",
   "metadata": {},
   "outputs": [
    {
     "data": {
      "text/plain": [
       "[expval(expval(Identity(wires=[0])) @ expval(PauliZ(wires=[0])) @ expval(PauliZ(wires=[2])) @ PauliY(wires=[2]) @ PauliY(wires=[2]) @ PauliZ(wires=[0]) @ PauliX(wires=[2]) @ PauliY(wires=[0]) @ PauliX(wires=[0]) @ PauliX(wires=[2]) @ PauliX(wires=[0]) @ PauliY(wires=[0]) @ PauliZ(wires=[2]) @ PauliZ(wires=[0]) @ PauliZ(wires=[0]) @ PauliZ(wires=[2]) @ PauliZ(wires=[2]))]"
      ]
     },
     "execution_count": 82,
     "metadata": {},
     "output_type": "execute_result"
    }
   ],
   "source": [
    "fragment_tapes[0].observables"
   ]
  },
  {
   "cell_type": "code",
   "execution_count": null,
   "id": "37cd8e4f-c783-406c-b4d8-04b7d07f9953",
   "metadata": {},
   "outputs": [],
   "source": []
  },
  {
   "cell_type": "code",
   "execution_count": null,
   "id": "080ecbd5-5d05-4788-b452-2a5fb7866cd6",
   "metadata": {},
   "outputs": [],
   "source": []
  },
  {
   "cell_type": "code",
   "execution_count": null,
   "id": "1c28ddaa-5011-46ef-9cff-3aca6f30d6db",
   "metadata": {},
   "outputs": [],
   "source": []
  },
  {
   "cell_type": "code",
   "execution_count": null,
   "id": "7d86b90b-5a24-4967-8330-615a56992117",
   "metadata": {},
   "outputs": [],
   "source": [
    "def ricco_vqe_expval(num_qubits: int, num_cuts: int, vqe_params, draw: bool = False) -> Tuple[float, float]:\n",
    "    \"\"\"\n",
    "    Computes the expectation value of a quantum circuit using the RICCO circuit-cutting approach, \n",
    "    which optimizes unitary rotations at cut locations. This function generates, cuts, optimizes, \n",
    "    and reconstructs the quantum circuit.\n",
    "\n",
    "    Args:\n",
    "        num_qubits (int): Number of qubits in the quantum circuit.\n",
    "        num_cuts (int): Number of qubits to cut in the circuit.\n",
    "        seed_u (int): Seed for random generation of unitaries for subcircuits.\n",
    "        seed_v (int): Seed for random generation of unitaries for subcircuits.\n",
    "        draw (bool): If True, displays visual representations of the circuit before and after cutting.\n",
    "\n",
    "    Returns:\n",
    "        Tuple[float, float]: The RICCO expectation value of the reconstructed circuit and the \n",
    "        expectation value of the uncut circuit for comparison.\n",
    "    \"\"\"\n",
    "    # Define RICCO parameters for unitary rotation at cut locations\n",
    "    ricco_params = np.random.uniform(-np.pi, np.pi, size=4**num_cuts - 1, requires_grad=True)\n",
    "    \n",
    "    # Initialize device for RICCO optimization\n",
    "    dev = qml.device(\"default.qubit\", wires=range(num_qubits))\n",
    "    \n",
    "    # Define and create a QNode for the generated quantum circuit\n",
    "    vqe_circuit_qnode = qml.QNode(vqe_circuit, device=dev)\n",
    "    \n",
    "    # Update QNode and Compute expectation value of the uncut circuit\n",
    "    uncut_vqe_circuit_expval = vqe_circuit_qnode(qubits, vqe_params, ricco_params, \n",
    "                                         hamiltonian, unitary_rotation=False)\n",
    "    \n",
    "    # Optionally display the uncut circuit\n",
    "    if draw:\n",
    "        fig1, ax = qml.draw_mpl(vqe_circuit_qnode)(qubits, vqe_params, ricco_params, \n",
    "                                         hamiltonian, unitary_rotation=False)\n",
    "    \n",
    "    # Convert the uncut QNode to a quantum tape for processing\n",
    "    tape = vqe_circuit_qnode.qtape\n",
    "\n",
    "    # Perform circuit cutting on the quantum tape\n",
    "    graph = qml.transforms.qcut.tape_to_graph(tape)\n",
    "    qml.transforms.qcut.replace_wire_cut_nodes(graph)\n",
    "\n",
    "    # Generate fragments and the communication graph for circuit cutting\n",
    "    fragments, communication_graph = qml.transforms.qcut.fragment_graph(graph)\n",
    "    fragment_tapes = [qml.transforms.qcut.graph_to_tape(f) for f in fragments]\n",
    "    \n",
    "    # Identify the upstream subcircuit with the unitary rotation to optimize\n",
    "    upstream_subcircuit = replace_measure_with_unitary(fragment_tapes, ricco_params, generate_n_qubit_unitary)\n",
    "\n",
    "    # Optionally display the upstream subcircuit\n",
    "    if draw:\n",
    "        print(qml.drawer.tape_mpl(upstream_subcircuit))\n",
    "    \n",
    "    # Optimize the RICCO unitary rotation at the cut location\n",
    "    optimized_params, optimal_params, cost = ricco_unitary_optimization(fragment_tapes, ricco_params)\n",
    "    \n",
    "    # Update the QNode with optimized parameters and calculate the expectation value\n",
    "    updated_vqe_circuit = vqe_circuit_qnode(qubits, vqe_params, ricco_params, \n",
    "                                         hamiltonian, unitary_rotation=True)\n",
    "\n",
    "    # Convert the updated QNode to a quantum tape for further cutting\n",
    "    updated_vqe_circuit_tape = vqe_circuit_qnode.qtape\n",
    "\n",
    "    # Perform circuit cutting on the updated tape\n",
    "    updated_graph = qml.transforms.qcut.tape_to_graph(updated_vqe_circuit_tape)\n",
    "    qml.transforms.qcut.replace_wire_cut_nodes(updated_graph)\n",
    "\n",
    "    new_fragments, new_communication_graph = qml.transforms.qcut.fragment_graph(updated_graph)\n",
    "    new_fragment_tapes = [qml.transforms.qcut.graph_to_tape(f) for f in new_fragments]\n",
    "    \n",
    "    # Define a device for running the new circuit fragments\n",
    "    dev = qml.device(\"default.qubit\", wires=len(new_fragment_tapes[0].wires))\n",
    "\n",
    "    # Remap tape wires to align with the device wires\n",
    "    new_fragment_tapes = [qml.map_wires(t, dict(zip(t.wires, dev.wires))) for t in new_fragment_tapes]\n",
    "    \n",
    "    # Expand each tape for post-processing via RICCO tensor network contraction\n",
    "    expanded = [ricco_expand_fragment_tape(t) for t in new_fragment_tapes]\n",
    "\n",
    "    # Prepare configuration lists for contraction\n",
    "    configurations, prepare_nodes, measure_nodes = [], [], []\n",
    "    for ext_tapes, p, m, eig in expanded:\n",
    "        configurations.append(ext_tapes)\n",
    "        prepare_nodes.append(p)\n",
    "        measure_nodes.append(m)\n",
    "\n",
    "    # Flatten expanded tapes for execution\n",
    "    expanded_tapes = tuple(t for c in configurations for t in c)\n",
    "    \n",
    "    # Execute the tapes and process results with RICCO tensor contraction\n",
    "    results = qml.execute(expanded_tapes, dev, gradient_fn=None)\n",
    "    ricco_expectation = ricco_processing_fn(\n",
    "        results, new_communication_graph, prepare_nodes, measure_nodes\n",
    "    )\n",
    "    \n",
    "    return np.array(ricco_expectation), uncut_random_circuit_expval"
   ]
  },
  {
   "cell_type": "code",
   "execution_count": null,
   "id": "351aec57-d568-4205-b43e-5b19a508db33",
   "metadata": {},
   "outputs": [],
   "source": []
  },
  {
   "cell_type": "code",
   "execution_count": null,
   "id": "c1d55fca-4a8c-43e3-bbc5-4b488cda890b",
   "metadata": {},
   "outputs": [],
   "source": []
  },
  {
   "cell_type": "code",
   "execution_count": 15,
   "id": "79bd5c8f-ec2b-478d-a1ef-fcc1ca1c4cd1",
   "metadata": {},
   "outputs": [],
   "source": []
  },
  {
   "cell_type": "code",
   "execution_count": 59,
   "id": "b4acf4f0-7a76-45da-9047-e55eb468e57c",
   "metadata": {},
   "outputs": [],
   "source": [
    "# @qml.qnode(dev)\n",
    "def cost(vqe_params):\n",
    "    ansatz(vqe_params)\n",
    "    return qml.expval(hamiltonian)"
   ]
  },
  {
   "cell_type": "code",
   "execution_count": 60,
   "id": "e2d97c8d-e8a8-45b3-9d03-ac2aab74dc07",
   "metadata": {},
   "outputs": [],
   "source": [
    "# Initialize device for RICCO optimization\n",
    "dev = qml.device(\"default.qubit\", wires=range(qubits))\n",
    "\n",
    "# Define and create a QNode for the generated quantum circuit\n",
    "circuit_qnode = qml.QNode(cost, device=dev)"
   ]
  },
  {
   "cell_type": "code",
   "execution_count": 62,
   "id": "3ca61648-7d3c-4e55-a27e-0d9e5bfecc3d",
   "metadata": {},
   "outputs": [
    {
     "data": {
      "text/plain": [
       "tensor(-0.0624693, requires_grad=True)"
      ]
     },
     "execution_count": 62,
     "metadata": {},
     "output_type": "execute_result"
    }
   ],
   "source": [
    "uncut_circuit_expval = circuit_qnode(vqe_params)\n",
    "uncut_circuit_expval"
   ]
  },
  {
   "cell_type": "code",
   "execution_count": 30,
   "id": "be20f9e8-58ca-4587-94c7-4e2c31950bd9",
   "metadata": {},
   "outputs": [
    {
     "data": {
      "image/png": "[encoded data removed]",
      "text/plain": [
       "<Figure size 720x360 with 1 Axes>"
      ]
     },
     "metadata": {},
     "output_type": "display_data"
    }
   ],
   "source": [
    "fig1, ax = qml.draw_mpl(circuit_qnode)(vqe_params)"
   ]
  },
  {
   "cell_type": "code",
   "execution_count": 34,
   "id": "f2d10086-6962-48ef-ab87-a88b12e85c64",
   "metadata": {},
   "outputs": [],
   "source": [
    "circ_tape = circuit_qnode.tape"
   ]
  },
  {
   "cell_type": "code",
   "execution_count": 36,
   "id": "9ada5267-2faf-460a-85ef-312765310539",
   "metadata": {},
   "outputs": [
    {
     "data": {
      "text/plain": [
       "PauliX(wires=[0])"
      ]
     },
     "execution_count": 36,
     "metadata": {},
     "output_type": "execute_result"
    }
   ],
   "source": [
    "circ_tape[0]"
   ]
  },
  {
   "cell_type": "code",
   "execution_count": 31,
   "id": "539c964a-819a-4d05-8b2c-2f094278ce3d",
   "metadata": {},
   "outputs": [],
   "source": [
    "circuit_tape = circuit_qnode.qtape"
   ]
  },
  {
   "cell_type": "code",
   "execution_count": 32,
   "id": "9049e729-6426-43c9-b089-23c7f3d67a07",
   "metadata": {},
   "outputs": [
    {
     "name": "stdout",
     "output_type": "stream",
     "text": [
      "(<Figure size 720x360 with 1 Axes>, <Axes:>)\n"
     ]
    },
    {
     "data": {
      "image/png": "[encoded data removed]",
      "text/plain": [
       "<Figure size 720x360 with 1 Axes>"
      ]
     },
     "metadata": {},
     "output_type": "display_data"
    }
   ],
   "source": [
    "print(qml.drawer.tape_mpl(circuit_tape))"
   ]
  },
  {
   "cell_type": "code",
   "execution_count": null,
   "id": "0d11eeca-58a7-408c-9fa9-dd34e19608e4",
   "metadata": {},
   "outputs": [],
   "source": []
  },
  {
   "cell_type": "code",
   "execution_count": null,
   "id": "45b54d51-da47-435f-9f96-d2eef16fbbe1",
   "metadata": {},
   "outputs": [],
   "source": [
    "def ricco_random_unitary_expval(circuit_qnode, num_qubits: int, num_cuts: int, draw: bool = False) -> Tuple[float, float]:\n",
    "    \"\"\"\n",
    "    Computes the expectation value of a quantum circuit using the RICCO circuit-cutting approach, \n",
    "    which optimizes unitary rotations at cut locations. This function generates, cuts, optimizes, \n",
    "    and reconstructs the quantum circuit.\n",
    "\n",
    "    Args:\n",
    "        num_qubits (int): Number of qubits in the quantum circuit.\n",
    "        num_cuts (int): Number of qubits to cut in the circuit.\n",
    "        seed_u (int): Seed for random generation of unitaries for subcircuits.\n",
    "        seed_v (int): Seed for random generation of unitaries for subcircuits.\n",
    "        draw (bool): If True, displays visual representations of the circuit before and after cutting.\n",
    "\n",
    "    Returns:\n",
    "        Tuple[float, float]: The RICCO expectation value of the reconstructed circuit and the \n",
    "        expectation value of the uncut circuit for comparison.\n",
    "    \"\"\"\n",
    "    # Define RICCO parameters for unitary rotation at cut locations\n",
    "    params = np.random.uniform(-np.pi, np.pi, size=4**num_cuts - 1, requires_grad=True)\n",
    "    \n",
    "        \n",
    "    # Convert the uncut QNode to a quantum tape for processing\n",
    "    tape = circuit_qnode.qtape\n",
    "\n",
    "    # Perform circuit cutting on the quantum tape\n",
    "    graph = qml.transforms.qcut.tape_to_graph(tape)\n",
    "    qml.transforms.qcut.replace_wire_cut_nodes(graph)\n",
    "\n",
    "    # Generate fragments and the communication graph for circuit cutting\n",
    "    fragments, communication_graph = qml.transforms.qcut.fragment_graph(graph)\n",
    "    fragment_tapes = [qml.transforms.qcut.graph_to_tape(f) for f in fragments]\n",
    "    \n",
    "    # Identify the upstream subcircuit with the unitary rotation to optimize\n",
    "    upstream_subcircuit = replace_measure_with_unitary(fragment_tapes, params, generate_n_qubit_unitary)\n",
    "\n",
    "    # Optionally display the upstream subcircuit\n",
    "    if draw:\n",
    "        print(qml.drawer.tape_mpl(upstream_subcircuit))\n",
    "    \n",
    "    # Optimize the RICCO unitary rotation at the cut location\n",
    "    optimized_params, optimal_params, cost = ricco_unitary_optimization(fragment_tapes, params)\n",
    "    \n",
    "    # Update the QNode with optimized parameters and calculate the expectation value\n",
    "    updated_random_circuit = circuit_qnode(\n",
    "        num_qubits, optimized_params, num_cuts, seed_u, seed_v, unitary_rotation=True\n",
    "    )\n",
    "\n",
    "    # Convert the updated QNode to a quantum tape for further cutting\n",
    "    updated_random_circuit_tape = circuit_qnode.qtape\n",
    "\n",
    "    # Perform circuit cutting on the updated tape\n",
    "    updated_graph = qml.transforms.qcut.tape_to_graph(updated_random_circuit_tape)\n",
    "    qml.transforms.qcut.replace_wire_cut_nodes(updated_graph)\n",
    "\n",
    "    new_fragments, new_communication_graph = qml.transforms.qcut.fragment_graph(updated_graph)\n",
    "    new_fragment_tapes = [qml.transforms.qcut.graph_to_tape(f) for f in new_fragments]\n",
    "    \n",
    "    # Define a device for running the new circuit fragments\n",
    "    dev = qml.device(\"default.qubit\", wires=len(new_fragment_tapes[0].wires))\n",
    "\n",
    "    # Remap tape wires to align with the device wires\n",
    "    new_fragment_tapes = [qml.map_wires(t, dict(zip(t.wires, dev.wires))) for t in new_fragment_tapes]\n",
    "    \n",
    "    # Expand each tape for post-processing via RICCO tensor network contraction\n",
    "    expanded = [ricco_expand_fragment_tape(t) for t in new_fragment_tapes]\n",
    "\n",
    "    # Prepare configuration lists for contraction\n",
    "    configurations, prepare_nodes, measure_nodes = [], [], []\n",
    "    for ext_tapes, p, m, eig in expanded:\n",
    "        configurations.append(ext_tapes)\n",
    "        prepare_nodes.append(p)\n",
    "        measure_nodes.append(m)\n",
    "\n",
    "    # Flatten expanded tapes for execution\n",
    "    expanded_tapes = tuple(t for c in configurations for t in c)\n",
    "    \n",
    "    # Execute the tapes and process results with RICCO tensor contraction\n",
    "    results = qml.execute(expanded_tapes, dev, gradient_fn=None)\n",
    "    ricco_expectation = ricco_processing_fn(\n",
    "        results, new_communication_graph, prepare_nodes, measure_nodes\n",
    "    )\n",
    "    \n",
    "    return np.array(ricco_expectation), uncut_random_circuit_expval"
   ]
  },
  {
   "cell_type": "code",
   "execution_count": null,
   "id": "10b912a6-b084-4c81-add3-e14de02ed522",
   "metadata": {},
   "outputs": [],
   "source": []
  },
  {
   "cell_type": "code",
   "execution_count": null,
   "id": "b174660c-5bbd-427d-bb12-1e2478075001",
   "metadata": {},
   "outputs": [],
   "source": []
  },
  {
   "cell_type": "code",
   "execution_count": null,
   "id": "cb08ccd4-cfb8-4ced-897a-d8d8c1a626be",
   "metadata": {},
   "outputs": [],
   "source": [
    "import pennylane as qml\n",
    "from pennylane import numpy as np\n",
    "from typing import Callable, Tuple, Union\n",
    "import random\n",
    "\n",
    "def ricco_qfunc_expval(\n",
    "    circuit: Callable,\n",
    "    num_qubits: int,\n",
    "    num_cuts: int,\n",
    "    draw: bool = False\n",
    ") -> Tuple[float, float]:\n",
    "    \"\"\"\n",
    "    Computes the expectation value of a quantum circuit using the RICCO circuit-cutting approach, \n",
    "    which optimizes unitary rotations at cut locations. This function detects cut locations, \n",
    "    generates random seeds, cuts, optimizes, and reconstructs the quantum circuit.\n",
    "\n",
    "    Args:\n",
    "        circuit (Callable): A quantum circuit function with potential WireCut locations.\n",
    "        num_qubits (int): Number of qubits in the quantum circuit.\n",
    "        num_cuts (int): Number of qubits to cut in the circuit.\n",
    "        draw (bool): If True, displays visual representations of the circuit before and after cutting.\n",
    "\n",
    "    Returns:\n",
    "        Tuple[float, float]: The RICCO expectation value of the reconstructed circuit and the \n",
    "        expectation value of the uncut circuit for comparison.\n",
    "    \"\"\"\n",
    "    # Initialize a test device to simulate the circuit and detect the number of qubits and cuts\n",
    "    dev = qml.device(\"default.qubit\", wires=num_qubits)  # Initialize with an estimated number of wires\n",
    "    \n",
    "    # Set up a QNode to analyze the circuit\n",
    "    circuit_qnode = qml.QNode(circuit, device=dev)\n",
    "    \n",
    "#     # Execute the circuit once to create the tape\n",
    "#     # Example parameters (you may need to replace this based on the expected param count)\n",
    "#     sample_params = np.random.uniform(-np.pi, np.pi, size=12)\n",
    "#     circuit_qnode(sample_params)\n",
    "#     tape = circuit_qnode.qtape\n",
    "    \n",
    "#     # Detect cut locations (WireCut operations) and determine num_cuts and num_qubits\n",
    "#     cut_locations = [op.wires for op in tape.operations if isinstance(op, qml.WireCut)]\n",
    "#     num_cuts = len(cut_locations)\n",
    "#     num_qubits = len(tape.wires)\n",
    "\n",
    "    # Define RICCO parameters for unitary rotation at detected cut locations\n",
    "    params = np.random.uniform(-np.pi, np.pi, size=4**num_cuts - 1, requires_grad=True)\n",
    "    \n",
    "    # Generate random seeds for reproducibility (this replaces the previous seed inputs)\n",
    "    seed_u = random.randint(0, 2**32 - 1)\n",
    "    seed_v = random.randint(0, 2**32 - 1)\n",
    "\n",
    "    # Define a new device for RICCO optimization with the detected qubits\n",
    "    dev = qml.device(\"default.qubit\", wires=range(num_qubits))\n",
    "\n",
    "    # Compute expectation value of the uncut circuit\n",
    "    uncut_random_circuit_expval = circuit_qnode(sample_params)\n",
    "    \n",
    "    # Optionally display the uncut circuit\n",
    "    if draw:\n",
    "        fig1, ax = qml.draw_mpl(circuit_qnode)(sample_params)\n",
    "    \n",
    "    # Perform circuit cutting on the quantum tape\n",
    "    graph = qml.transforms.qcut.tape_to_graph(tape)\n",
    "    qml.transforms.qcut.replace_wire_cut_nodes(graph)\n",
    "\n",
    "    # Generate fragments and the communication graph for circuit cutting\n",
    "    fragments, communication_graph = qml.transforms.qcut.fragment_graph(graph)\n",
    "    fragment_tapes = [qml.transforms.qcut.graph_to_tape(f) for f in fragments]\n",
    "    \n",
    "    # Identify the upstream subcircuit with the unitary rotation to optimize\n",
    "    upstream_subcircuit = replace_measure_with_unitary(fragment_tapes, params, generate_n_qubit_unitary)\n",
    "\n",
    "    # Optionally display the upstream subcircuit\n",
    "    if draw:\n",
    "        print(qml.drawer.tape_mpl(upstream_subcircuit))\n",
    "    \n",
    "    # Optimize the RICCO unitary rotation at the cut location\n",
    "    optimized_params, optimal_params, cost = ricco_unitary_optimization(fragment_tapes, params)\n",
    "    \n",
    "    # Update the QNode with optimized parameters and calculate the expectation value\n",
    "    updated_circuit_qnode = qml.QNode(circuit, device=dev)\n",
    "    updated_random_circuit_expval = updated_circuit_qnode(sample_params)\n",
    "\n",
    "    # Convert the updated QNode to a quantum tape for further cutting\n",
    "    updated_tape = updated_circuit_qnode.qtape\n",
    "\n",
    "    # Perform circuit cutting on the updated tape\n",
    "    updated_graph = qml.transforms.qcut.tape_to_graph(updated_tape)\n",
    "    qml.transforms.qcut.replace_wire_cut_nodes(updated_graph)\n",
    "\n",
    "    new_fragments, new_communication_graph = qml.transforms.qcut.fragment_graph(updated_graph)\n",
    "    new_fragment_tapes = [qml.transforms.qcut.graph_to_tape(f) for f in new_fragments]\n",
    "    \n",
    "    # Define a device for running the new circuit fragments\n",
    "    dev = qml.device(\"default.qubit\", wires=len(new_fragment_tapes[0].wires))\n",
    "\n",
    "    # Remap tape wires to align with the device wires\n",
    "    new_fragment_tapes = [qml.map_wires(t, dict(zip(t.wires, dev.wires))) for t in new_fragment_tapes]\n",
    "    \n",
    "    # Expand each tape for post-processing via RICCO tensor network contraction\n",
    "    expanded = [ricco_expand_fragment_tape(t) for t in new_fragment_tapes]\n",
    "\n",
    "    # Prepare configuration lists for contraction\n",
    "    configurations, prepare_nodes, measure_nodes = [], [], []\n",
    "    for ext_tapes, p, m, eig in expanded:\n",
    "        configurations.append(ext_tapes)\n",
    "        prepare_nodes.append(p)\n",
    "        measure_nodes.append(m)\n",
    "\n",
    "    # Flatten expanded tapes for execution\n",
    "    expanded_tapes = tuple(t for c in configurations for t in c)\n",
    "    \n",
    "    # Execute the tapes and process results with RICCO tensor contraction\n",
    "    results = qml.execute(expanded_tapes, dev, gradient_fn=None)\n",
    "    ricco_expectation = ricco_processing_fn(\n",
    "        results, new_communication_graph, prepare_nodes, measure_nodes\n",
    "    )\n",
    "    \n",
    "    return np.array(ricco_expectation), uncut_random_circuit_expval\n"
   ]
  },
  {
   "cell_type": "code",
   "execution_count": null,
   "id": "09020150-0677-451a-b19b-a3c08f49ac2a",
   "metadata": {},
   "outputs": [],
   "source": []
  },
  {
   "cell_type": "code",
   "execution_count": null,
   "id": "460ea2af-125f-4d32-a369-aeb8e41dcc1b",
   "metadata": {},
   "outputs": [],
   "source": []
  },
  {
   "cell_type": "code",
   "execution_count": null,
   "id": "8c801f81-21fa-47d8-8739-da8f0784a288",
   "metadata": {},
   "outputs": [],
   "source": []
  },
  {
   "cell_type": "code",
   "execution_count": null,
   "id": "d464a718-4372-47ec-9d98-b9e061fb576e",
   "metadata": {},
   "outputs": [],
   "source": [
    "import pennylane as qml\n",
    "from pennylane import numpy as np\n",
    "from typing import Callable, Tuple, Union\n",
    "\n",
    "def ricco_random_unitary_expval(\n",
    "    circuit: Union[Callable, qml.tape.QuantumTape], \n",
    "    num_qubits: int, \n",
    "    num_cuts: int, \n",
    "    seed_u: int, \n",
    "    seed_v: int, \n",
    "    draw: bool = False\n",
    ") -> Tuple[float, float]:\n",
    "    \"\"\"\n",
    "    Computes the expectation value of a quantum circuit using the RICCO circuit-cutting approach, \n",
    "    which optimizes unitary rotations at cut locations. This function generates, cuts, optimizes, \n",
    "    and reconstructs the quantum circuit.\n",
    "\n",
    "    Args:\n",
    "        circuit (Union[Callable, QuantumTape]): A quantum circuit function or a quantum tape.\n",
    "        num_qubits (int): Number of qubits in the quantum circuit.\n",
    "        num_cuts (int): Number of qubits to cut in the circuit.\n",
    "        seed_u (int): Seed for random generation of unitaries for subcircuits.\n",
    "        seed_v (int): Seed for random generation of unitaries for subcircuits.\n",
    "        draw (bool): If True, displays visual representations of the circuit before and after cutting.\n",
    "\n",
    "    Returns:\n",
    "        Tuple[float, float]: The RICCO expectation value of the reconstructed circuit and the \n",
    "        expectation value of the uncut circuit for comparison.\n",
    "    \"\"\"\n",
    "    # Define RICCO parameters for unitary rotation at cut locations\n",
    "    params = np.random.uniform(-np.pi, np.pi, size=4**num_cuts - 1, requires_grad=True)\n",
    "    \n",
    "    # Initialize device for RICCO optimization\n",
    "    dev = qml.device(\"default.qubit\", wires=range(num_qubits))\n",
    "\n",
    "    # Create a quantum tape if the input is a circuit function\n",
    "    if isinstance(circuit, Callable):\n",
    "        circuit_qnode = qml.QNode(circuit, device=dev)\n",
    "        uncut_random_circuit_expval = circuit_qnode(\n",
    "            num_qubits, params, num_cuts, seed_u, seed_v, unitary_rotation=False\n",
    "        )\n",
    "        tape = circuit_qnode.qtape\n",
    "    elif isinstance(circuit, qml.tape.QuantumTape):\n",
    "        tape = circuit\n",
    "        uncut_random_circuit_expval = qml.execute([tape], dev, gradient_fn=None)[0]\n",
    "    else:\n",
    "        raise ValueError(\"`circuit` must be a callable or a QuantumTape instance.\")\n",
    "    \n",
    "    # Optionally display the uncut circuit\n",
    "    if draw and isinstance(circuit, Callable):\n",
    "        fig1, ax = qml.draw_mpl(circuit_qnode)(num_qubits, params, num_cuts, seed_u, seed_v, unitary_rotation=False)\n",
    "    \n",
    "    # Perform circuit cutting on the quantum tape\n",
    "    graph = qml.transforms.qcut.tape_to_graph(tape)\n",
    "    qml.transforms.qcut.replace_wire_cut_nodes(graph)\n",
    "\n",
    "    # Generate fragments and the communication graph for circuit cutting\n",
    "    fragments, communication_graph = qml.transforms.qcut.fragment_graph(graph)\n",
    "    fragment_tapes = [qml.transforms.qcut.graph_to_tape(f) for f in fragments]\n",
    "    \n",
    "    # Identify the upstream subcircuit with the unitary rotation to optimize\n",
    "    upstream_subcircuit = replace_measure_with_unitary(fragment_tapes, params, generate_n_qubit_unitary)\n",
    "\n",
    "    # Optionally display the upstream subcircuit\n",
    "    if draw:\n",
    "        print(qml.drawer.tape_mpl(upstream_subcircuit))\n",
    "    \n",
    "    # Optimize the RICCO unitary rotation at the cut location\n",
    "    optimized_params, optimal_params, cost = ricco_unitary_optimization(fragment_tapes, params)\n",
    "    \n",
    "    # Update the tape with optimized parameters\n",
    "    if isinstance(circuit, Callable):\n",
    "        updated_circuit_qnode = qml.QNode(circuit, device=dev)\n",
    "        updated_random_circuit_expval = updated_circuit_qnode(\n",
    "            num_qubits, optimized_params, num_cuts, seed_u, seed_v, unitary_rotation=True\n",
    "        )\n",
    "        updated_tape = updated_circuit_qnode.qtape\n",
    "    else:\n",
    "        tape.set_parameters(optimized_params)\n",
    "        updated_tape = tape\n",
    "\n",
    "    # Perform circuit cutting on the updated tape\n",
    "    updated_graph = qml.transforms.qcut.tape_to_graph(updated_tape)\n",
    "    qml.transforms.qcut.replace_wire_cut_nodes(updated_graph)\n",
    "\n",
    "    new_fragments, new_communication_graph = qml.transforms.qcut.fragment_graph(updated_graph)\n",
    "    new_fragment_tapes = [qml.transforms.qcut.graph_to_tape(f) for f in new_fragments]\n",
    "    \n",
    "    # Define a device for running the new circuit fragments\n",
    "    dev = qml.device(\"default.qubit\", wires=len(new_fragment_tapes[0].wires))\n",
    "\n",
    "    # Remap tape wires to align with the device wires\n",
    "    new_fragment_tapes = [qml.map_wires(t, dict(zip(t.wires, dev.wires))) for t in new_fragment_tapes]\n",
    "    \n",
    "    # Expand each tape for post-processing via RICCO tensor network contraction\n",
    "    expanded = [ricco_expand_fragment_tape(t) for t in new_fragment_tapes]\n",
    "\n",
    "    # Prepare configuration lists for contraction\n",
    "    configurations, prepare_nodes, measure_nodes = [], [], []\n",
    "    for ext_tapes, p, m, eig in expanded:\n",
    "        configurations.append(ext_tapes)\n",
    "        prepare_nodes.append(p)\n",
    "        measure_nodes.append(m)\n",
    "\n",
    "    # Flatten expanded tapes for execution\n",
    "    expanded_tapes = tuple(t for c in configurations for t in c)\n",
    "    \n",
    "    # Execute the tapes and process results with RICCO tensor contraction\n",
    "    results = qml.execute(expanded_tapes, dev, gradient_fn=None)\n",
    "    ricco_expectation = ricco_processing_fn(\n",
    "        results, new_communication_graph, prepare_nodes, measure_nodes\n",
    "    )\n",
    "    \n",
    "    return np.array(ricco_expectation), uncut_random_circuit_expval\n"
   ]
  },
  {
   "cell_type": "code",
   "execution_count": null,
   "id": "e7db5e0f-6269-4c79-91da-550550e595b1",
   "metadata": {},
   "outputs": [],
   "source": []
  }
 ],
 "metadata": {
  "citation-manager": {
   "items": {}
  },
  "kernelspec": {
   "display_name": "ricco",
   "language": "python",
   "name": "ricco"
  },
  "language_info": {
   "codemirror_mode": {
    "name": "ipython",
    "version": 3
   },
   "file_extension": ".py",
   "mimetype": "text/x-python",
   "name": "python",
   "nbconvert_exporter": "python",
   "pygments_lexer": "ipython3",
   "version": "3.9.11"
  }
 },
 "nbformat": 4,
 "nbformat_minor": 5
}
