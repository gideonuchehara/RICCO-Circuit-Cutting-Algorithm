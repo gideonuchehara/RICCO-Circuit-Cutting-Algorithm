{
 "cells": [
  {
   "cell_type": "code",
   "execution_count": 1,
   "id": "eafe37c0-51da-4b0e-968f-ee1a1c7240dc",
   "metadata": {},
   "outputs": [],
   "source": [
    "# from ricco import ricco_expval, uncut_expval\n",
    "from ricco import ricco_random_unitary_expval, ricco_vqe_expval\n",
    "from qcut import qcut_random_unitary_expval, qcut_vqe_expval"
   ]
  },
  {
   "cell_type": "markdown",
   "id": "c4fe1f3c-7495-462e-af48-ab1a24292095",
   "metadata": {},
   "source": [
    "Hydrogen VQE\n",
    "============"
   ]
  },
  {
   "cell_type": "code",
   "execution_count": 2,
   "id": "48c97dea-a188-4748-98e3-4e44758727c9",
   "metadata": {},
   "outputs": [],
   "source": [
    "import pennylane as qml\n",
    "from pennylane import numpy as np\n",
    "import matplotlib.pyplot as plt\n"
   ]
  },
  {
   "cell_type": "code",
   "execution_count": 3,
   "id": "f5e736f3-66bd-43aa-84dd-500c4a568811",
   "metadata": {},
   "outputs": [
    {
     "name": "stdout",
     "output_type": "stream",
     "text": [
      "Number of qubits =  4\n"
     ]
    }
   ],
   "source": [
    "geo_file = \"vqe_files/h2.xyz\"\n",
    "\n",
    "symbols, coordinates = qml.qchem.read_structure(geo_file)\n",
    "hamiltonian, num_qubits = qml.qchem.molecular_hamiltonian(symbols, coordinates)\n",
    "\n",
    "print(\"Number of qubits = \", num_qubits)"
   ]
  },
  {
   "cell_type": "code",
   "execution_count": null,
   "id": "c51579d0-0733-42e6-b199-b3ca4fbe170a",
   "metadata": {},
   "outputs": [],
   "source": []
  },
  {
   "cell_type": "code",
   "execution_count": null,
   "id": "0d39e51d-e410-4582-b860-f67e2cf260c1",
   "metadata": {},
   "outputs": [],
   "source": []
  },
  {
   "cell_type": "code",
   "execution_count": 4,
   "id": "bdd5f2a3-37d0-4890-8bdb-1274c3f34965",
   "metadata": {},
   "outputs": [],
   "source": [
    "from pennylane import numpy as np\n",
    "np.random.seed(0)\n",
    "num_cuts = 1\n",
    "# Define RICCO parameters for unitary rotation at cut locations\n",
    "# ricco_params = np.random.uniform(-np.pi, np.pi, size=4**num_cuts - 1, requires_grad=True)\n",
    "vqe_params = np.random.uniform(low=0, high=2 * np.pi, size=12, requires_grad=True)\n",
    "# max_iterations = 500\n",
    "# step_size = 0.5\n",
    "# conv_tol = 1e-03\n",
    "# exact_value = -1.136189454088"
   ]
  },
  {
   "cell_type": "code",
   "execution_count": 5,
   "id": "8c8afa72-81e6-4c39-a89d-387ea7268d9b",
   "metadata": {},
   "outputs": [
    {
     "name": "stdout",
     "output_type": "stream",
     "text": [
      "obs =  Identity(wires=[0]) @ Identity(wires=[1]) @ Identity(wires=[2]) @ Identity(wires=[3])\n",
      "results =  [array([1.]), array([1.]), array([1.]), array([1.]), array([1.        , 0.77756625]), array([-0.58183283]), array([0.13519771])]\n",
      "\n",
      "obs =  PauliZ(wires=[0]) @ Identity(wires=[1]) @ Identity(wires=[2]) @ Identity(wires=[3])\n",
      "results =  [array([0.21698192]), array([-0.21698192]), array([0.]), array([0.]), array([1.        , 0.77756625]), array([-0.58183283]), array([0.13519771])]\n",
      "\n",
      "obs =  Identity(wires=[0]) @ PauliZ(wires=[1]) @ Identity(wires=[2]) @ Identity(wires=[3])\n",
      "results =  [array([1.]), array([1.]), array([1.]), array([1.]), array([0.17877986, 0.22992236]), array([-0.02201762]), array([-0.09475436])]\n",
      "\n",
      "obs =  PauliZ(wires=[0]) @ PauliZ(wires=[1]) @ Identity(wires=[2]) @ Identity(wires=[3])\n"
     ]
    },
    {
     "name": "stderr",
     "output_type": "stream",
     "text": [
      "/home/gideonuchehara/anaconda3/envs/ricco/lib/python3.9/site-packages/pennylane/__init__.py:350: UserWarning: The qml.grouping module is deprecated, please use qml.pauli instead.\n",
      "  warnings.warn(\n"
     ]
    },
    {
     "name": "stdout",
     "output_type": "stream",
     "text": [
      "results =  [array([0.21698192]), array([-0.21698192]), array([0.]), array([0.]), array([0.17877986, 0.22992236]), array([-0.02201762]), array([-0.09475436])]\n",
      "\n",
      "obs =  PauliY(wires=[0]) @ PauliX(wires=[1]) @ PauliX(wires=[2]) @ PauliY(wires=[3])\n",
      "results =  [array([0.]), array([0.]), array([0.]), array([0.21698192]), array([0.13559741, 0.17438695]), array([0.0368855]), array([0.15873931])]\n",
      "\n",
      "obs =  PauliY(wires=[0]) @ PauliY(wires=[1]) @ PauliX(wires=[2]) @ PauliX(wires=[3])\n",
      "results =  [array([0.]), array([0.]), array([0.]), array([0.21698192]), array([0.12029355, 0.15470522]), array([0.03272251]), array([0.14082361])]\n",
      "\n",
      "obs =  PauliX(wires=[0]) @ PauliX(wires=[1]) @ PauliY(wires=[2]) @ PauliY(wires=[3])\n",
      "results =  [array([0.]), array([0.]), array([0.]), array([1.]), array([0.13559741, 0.17438695]), array([0.0368855]), array([0.15873931])]\n",
      "\n",
      "obs =  PauliX(wires=[0]) @ PauliY(wires=[1]) @ PauliY(wires=[2]) @ PauliX(wires=[3])\n",
      "results =  [array([0.]), array([0.]), array([0.]), array([1.]), array([0.12029355, 0.15470522]), array([0.03272251]), array([0.14082361])]\n",
      "\n",
      "obs =  Identity(wires=[0]) @ Identity(wires=[1]) @ PauliZ(wires=[2]) @ Identity(wires=[3])\n",
      "results =  [array([1.]), array([-1.]), array([0.]), array([0.]), array([1.        , 0.77756625]), array([-0.58183283]), array([0.13519771])]\n",
      "\n",
      "obs =  PauliZ(wires=[0]) @ Identity(wires=[1]) @ PauliZ(wires=[2]) @ Identity(wires=[3])\n",
      "results =  [array([0.21698192]), array([0.21698192]), array([0.21698192]), array([0.21698192]), array([1.        , 0.77756625]), array([-0.58183283]), array([0.13519771])]\n",
      "\n",
      "obs =  Identity(wires=[0]) @ Identity(wires=[1]) @ Identity(wires=[2]) @ PauliZ(wires=[3])\n",
      "results =  [array([1.]), array([1.]), array([1.]), array([1.]), array([0.2015244 , 0.25917329]), array([-0.02481872]), array([-0.1068091])]\n",
      "\n",
      "obs =  PauliZ(wires=[0]) @ Identity(wires=[1]) @ Identity(wires=[2]) @ PauliZ(wires=[3])\n",
      "results =  [array([0.21698192]), array([-0.21698192]), array([0.]), array([0.]), array([0.2015244 , 0.25917329]), array([-0.02481872]), array([-0.1068091])]\n",
      "\n",
      "obs =  Identity(wires=[0]) @ PauliZ(wires=[1]) @ PauliZ(wires=[2]) @ Identity(wires=[3])\n",
      "results =  [array([1.]), array([-1.]), array([0.]), array([0.]), array([0.17877986, 0.22992236]), array([-0.02201762]), array([-0.09475436])]\n",
      "\n",
      "obs =  Identity(wires=[0]) @ PauliZ(wires=[1]) @ Identity(wires=[2]) @ PauliZ(wires=[3])\n",
      "results =  [array([1.]), array([1.]), array([1.]), array([1.]), array([0.88713755, 0.68980822]), array([-0.51616576]), array([0.11993897])]\n",
      "\n",
      "obs =  Identity(wires=[0]) @ Identity(wires=[1]) @ PauliZ(wires=[2]) @ PauliZ(wires=[3])\n",
      "results =  [array([1.]), array([-1.]), array([0.]), array([0.]), array([0.2015244 , 0.25917329]), array([-0.02481872]), array([-0.1068091])]\n",
      "\n",
      "pauli_strings =  ['IIII', 'ZIII', 'IZII', 'ZZII', 'YXXY', 'YYXX', 'XXYY', 'XYYX', 'IIZI', 'ZIZI', 'IIIZ', 'ZIIZ', 'IZZI', 'IZIZ', 'IIZZ']\n",
      "expectation_vals =  [0.9999999999999999, 0.1687178158266014, 0.17877986423013228, 0.04988899398882692, 0.03444356059684968, 0.030556175972215868, 0.15873931295228955, 0.14082360523210377, 0.7775662475956453, 0.21698191806589193, 0.20152440189853282, 0.056235917384835576, 0.22992235681904552, 0.8871375503208176, 0.25917328912060833]\n",
      "uncut_expectation_vals =  [0.9999999999999996, 0.16871781582660159, 0.1787798642301321, 0.049888993988826874, 0.03444356059684968, 0.03055617597221589, 0.15873931295228955, 0.14082360523210372, 0.777566247595645, 0.21698191806589207, 0.20152440189853266, 0.05623591738483555, 0.22992235681904533, 0.8871375503208172, 0.2591732891206081]\n"
     ]
    },
    {
     "data": {
      "text/plain": [
       "(tensor(0.01929463, requires_grad=True),\n",
       " tensor(0.01929463, requires_grad=True))"
      ]
     },
     "execution_count": 5,
     "metadata": {},
     "output_type": "execute_result"
    }
   ],
   "source": [
    "qcut_vqe_expval(num_qubits, num_cuts, vqe_params, hamiltonian, draw=False)"
   ]
  },
  {
   "cell_type": "code",
   "execution_count": 6,
   "id": "0ba819fe-2ba1-4226-bc59-d013a847e157",
   "metadata": {},
   "outputs": [],
   "source": [
    "# 0.03444356059684963"
   ]
  },
  {
   "cell_type": "code",
   "execution_count": 7,
   "id": "e7db5e0f-6269-4c79-91da-550550e595b1",
   "metadata": {},
   "outputs": [
    {
     "name": "stdout",
     "output_type": "stream",
     "text": [
      "obs =  Identity(wires=[0]) @ Identity(wires=[1]) @ Identity(wires=[2]) @ Identity(wires=[3])\n",
      "num_cut_qubits =  1\n",
      "num_cut_qubits =  1\n",
      "num_cut_qubits =  1\n",
      "results =  [tensor([1.], requires_grad=True), tensor([1.], requires_grad=True), tensor([1.], requires_grad=True), tensor([-0.69944277], requires_grad=True)]\n",
      "\n",
      "obs =  PauliZ(wires=[0]) @ Identity(wires=[1]) @ Identity(wires=[2]) @ Identity(wires=[3])\n",
      "num_cut_qubits =  1\n",
      "num_cut_qubits =  1\n",
      "num_cut_qubits =  1\n",
      "results =  [tensor([-0.14854642], requires_grad=True), tensor([0.14854642], requires_grad=True), tensor([1.], requires_grad=True), tensor([-0.50995415], requires_grad=True)]\n",
      "\n",
      "obs =  Identity(wires=[0]) @ PauliZ(wires=[1]) @ Identity(wires=[2]) @ Identity(wires=[3])\n",
      "num_cut_qubits =  1\n",
      "num_cut_qubits =  1\n",
      "num_cut_qubits =  1\n",
      "results =  [tensor([1.], requires_grad=True), tensor([1.], requires_grad=True), tensor([0.17877986], requires_grad=True), tensor([0.24646058], requires_grad=True)]\n",
      "\n",
      "obs =  PauliZ(wires=[0]) @ PauliZ(wires=[1]) @ Identity(wires=[2]) @ Identity(wires=[3])\n",
      "num_cut_qubits =  1\n",
      "num_cut_qubits =  1\n",
      "num_cut_qubits =  1\n",
      "results =  [tensor([0.13839243], requires_grad=True), tensor([-0.13839243], requires_grad=True), tensor([0.17877986], requires_grad=True), tensor([0.1835372], requires_grad=True)]\n",
      "\n",
      "obs =  PauliY(wires=[0]) @ PauliX(wires=[1]) @ PauliX(wires=[2]) @ PauliY(wires=[3])\n",
      "num_cut_qubits =  1\n",
      "num_cut_qubits =  1\n",
      "num_cut_qubits =  1\n"
     ]
    },
    {
     "name": "stderr",
     "output_type": "stream",
     "text": [
      "/home/gideonuchehara/.local/lib/python3.9/site-packages/autograd/tracer.py:14: UserWarning: Output seems independent of input.\n",
      "  warnings.warn(\"Output seems independent of input.\")\n"
     ]
    },
    {
     "name": "stdout",
     "output_type": "stream",
     "text": [
      "results =  [tensor([0.0101163], requires_grad=True), tensor([-0.0101163], requires_grad=True), tensor([0.13559741], requires_grad=True), tensor([0.1848929], requires_grad=True)]\n",
      "\n",
      "obs =  PauliY(wires=[0]) @ PauliY(wires=[1]) @ PauliX(wires=[2]) @ PauliX(wires=[3])\n",
      "num_cut_qubits =  1\n",
      "num_cut_qubits =  1\n",
      "num_cut_qubits =  1\n",
      "results =  [tensor([-0.21357515], requires_grad=True), tensor([0.21357515], requires_grad=True), tensor([0.12029355], requires_grad=True), tensor([-0.16503172], requires_grad=True)]\n",
      "\n",
      "obs =  PauliX(wires=[0]) @ PauliX(wires=[1]) @ PauliY(wires=[2]) @ PauliY(wires=[3])\n",
      "num_cut_qubits =  1\n",
      "num_cut_qubits =  1\n",
      "num_cut_qubits =  1\n",
      "results =  [tensor([-0.04909963], requires_grad=True), tensor([0.04909963], requires_grad=True), tensor([0.13559741], requires_grad=True), tensor([-0.17701798], requires_grad=True)]\n",
      "\n",
      "obs =  PauliX(wires=[0]) @ PauliY(wires=[1]) @ PauliY(wires=[2]) @ PauliX(wires=[3])\n",
      "num_cut_qubits =  1\n",
      "num_cut_qubits =  1\n",
      "num_cut_qubits =  1\n",
      "results =  [tensor([0.43407936], requires_grad=True), tensor([-0.43407936], requires_grad=True), tensor([0.12029355], requires_grad=True), tensor([0.15920622], requires_grad=True)]\n",
      "\n",
      "obs =  Identity(wires=[0]) @ Identity(wires=[1]) @ PauliZ(wires=[2]) @ Identity(wires=[3])\n",
      "num_cut_qubits =  1\n",
      "num_cut_qubits =  1\n",
      "num_cut_qubits =  1\n",
      "results =  [tensor([0.63503856], requires_grad=True), tensor([-0.63503856], requires_grad=True), tensor([1.], requires_grad=True), tensor([0.2120795], requires_grad=True)]\n",
      "\n",
      "obs =  PauliZ(wires=[0]) @ Identity(wires=[1]) @ PauliZ(wires=[2]) @ Identity(wires=[3])\n",
      "num_cut_qubits =  1\n",
      "num_cut_qubits =  1\n",
      "num_cut_qubits =  1\n",
      "results =  [tensor([0.21698192], requires_grad=True), tensor([0.21698192], requires_grad=True), tensor([1.], requires_grad=True), tensor([-0.83928402], requires_grad=True)]\n",
      "\n",
      "obs =  Identity(wires=[0]) @ Identity(wires=[1]) @ Identity(wires=[2]) @ PauliZ(wires=[3])\n",
      "num_cut_qubits =  1\n",
      "num_cut_qubits =  1\n",
      "num_cut_qubits =  1\n",
      "results =  [tensor([1.], requires_grad=True), tensor([1.], requires_grad=True), tensor([0.2015244], requires_grad=True), tensor([0.01555822], requires_grad=True)]\n",
      "\n",
      "obs =  PauliZ(wires=[0]) @ Identity(wires=[1]) @ Identity(wires=[2]) @ PauliZ(wires=[3])\n",
      "num_cut_qubits =  1\n",
      "num_cut_qubits =  1\n",
      "num_cut_qubits =  1\n",
      "results =  [tensor([0.14216959], requires_grad=True), tensor([-0.14216959], requires_grad=True), tensor([0.2015244], requires_grad=True), tensor([0.08835603], requires_grad=True)]\n",
      "\n",
      "obs =  Identity(wires=[0]) @ PauliZ(wires=[1]) @ PauliZ(wires=[2]) @ Identity(wires=[3])\n",
      "num_cut_qubits =  1\n",
      "num_cut_qubits =  1\n",
      "num_cut_qubits =  1\n",
      "results =  [tensor([-0.99733308], requires_grad=True), tensor([0.99733308], requires_grad=True), tensor([0.17877986], requires_grad=True), tensor([-0.22521813], requires_grad=True)]\n",
      "\n",
      "obs =  Identity(wires=[0]) @ PauliZ(wires=[1]) @ Identity(wires=[2]) @ PauliZ(wires=[3])\n",
      "num_cut_qubits =  1\n",
      "num_cut_qubits =  1\n",
      "num_cut_qubits =  1\n",
      "results =  [tensor([1.], requires_grad=True), tensor([1.], requires_grad=True), tensor([0.88713755], requires_grad=True), tensor([-0.15446264], requires_grad=True)]\n",
      "\n",
      "obs =  Identity(wires=[0]) @ Identity(wires=[1]) @ PauliZ(wires=[2]) @ PauliZ(wires=[3])\n",
      "num_cut_qubits =  1\n",
      "num_cut_qubits =  1\n",
      "num_cut_qubits =  1\n",
      "results =  [tensor([0.97768023], requires_grad=True), tensor([-0.97768023], requires_grad=True), tensor([0.2015244], requires_grad=True), tensor([0.23084514], requires_grad=True)]\n",
      "\n",
      "pauli_strings =  ['IIII', 'ZIII', 'IZII', 'ZZII', 'YXXY', 'YYXX', 'XXYY', 'XYYX', 'IIZI', 'ZIZI', 'IIIZ', 'ZIIZ', 'IZZI', 'IZIZ', 'IIZZ']\n",
      "expectation_vals =  [1.0000000000000002, 0.07575186223491055, 0.1787798642301321, 0.02540015893608903, 0.0018704319107385851, 0.035246674848911655, 0.008691518049493483, 0.06910813433574332, 0.1346786569411556, 0.21698191806589193, 0.20152440189853266, 0.01256153979220641, 0.22461749535542277, 0.8871375503208173, 0.2256927310517058]\n",
      "uncut_expectation_vals =  [0.9999999999999997, 0.16871781582660159, 0.17877986423013204, 0.04988899398882704, 0.03444356059684963, 0.03055617597221596, 0.1587393129522895, 0.14082360523210388, 0.7775662475956452, 0.21698191806589207, 0.2015244018985326, 0.05623591738483555, 0.22992235681904538, 0.887137550320817, 0.259173289120608]\n"
     ]
    },
    {
     "data": {
      "text/plain": [
       "(tensor(0.14237499, requires_grad=True),\n",
       " tensor(0.01929463, requires_grad=True))"
      ]
     },
     "execution_count": 7,
     "metadata": {},
     "output_type": "execute_result"
    }
   ],
   "source": [
    "ricco_vqe_expval(num_qubits, num_cuts, vqe_params, hamiltonian, draw=False)"
   ]
  },
  {
   "cell_type": "code",
   "execution_count": null,
   "id": "765843cd-91ea-40bb-88dd-b1bdcc5717f0",
   "metadata": {},
   "outputs": [],
   "source": []
  },
  {
   "cell_type": "code",
   "execution_count": 8,
   "id": "ce8c42b5-0360-44a9-94c5-1b0c8c16ed56",
   "metadata": {},
   "outputs": [
    {
     "ename": "NameError",
     "evalue": "name 'Tuple' is not defined",
     "output_type": "error",
     "traceback": [
      "\u001b[0;31m---------------------------------------------------------------------------\u001b[0m",
      "\u001b[0;31mNameError\u001b[0m                                 Traceback (most recent call last)",
      "\u001b[0;32m/tmp/ipykernel_788374/1888253649.py\u001b[0m in \u001b[0;36m<module>\u001b[0;34m\u001b[0m\n\u001b[0;32m----> 1\u001b[0;31m \u001b[0;32mdef\u001b[0m \u001b[0mricco_vqe_expval\u001b[0m\u001b[0;34m(\u001b[0m\u001b[0mnum_qubits\u001b[0m\u001b[0;34m:\u001b[0m \u001b[0mint\u001b[0m\u001b[0;34m,\u001b[0m \u001b[0mnum_cuts\u001b[0m\u001b[0;34m:\u001b[0m \u001b[0mint\u001b[0m\u001b[0;34m,\u001b[0m \u001b[0mvqe_params\u001b[0m\u001b[0;34m,\u001b[0m \u001b[0mhamiltonian\u001b[0m\u001b[0;34m,\u001b[0m \u001b[0mdraw\u001b[0m\u001b[0;34m:\u001b[0m \u001b[0mbool\u001b[0m \u001b[0;34m=\u001b[0m \u001b[0;32mFalse\u001b[0m\u001b[0;34m)\u001b[0m \u001b[0;34m->\u001b[0m \u001b[0mTuple\u001b[0m\u001b[0;34m[\u001b[0m\u001b[0mfloat\u001b[0m\u001b[0;34m,\u001b[0m \u001b[0mfloat\u001b[0m\u001b[0;34m]\u001b[0m\u001b[0;34m:\u001b[0m\u001b[0;34m\u001b[0m\u001b[0;34m\u001b[0m\u001b[0m\n\u001b[0m\u001b[1;32m      2\u001b[0m     \"\"\"\n\u001b[1;32m      3\u001b[0m     \u001b[0mComputes\u001b[0m \u001b[0mthe\u001b[0m \u001b[0mexpectation\u001b[0m \u001b[0mvalue\u001b[0m \u001b[0mof\u001b[0m \u001b[0ma\u001b[0m \u001b[0mquantum\u001b[0m \u001b[0mcircuit\u001b[0m \u001b[0musing\u001b[0m \u001b[0mthe\u001b[0m \u001b[0mRICCO\u001b[0m \u001b[0mcircuit\u001b[0m\u001b[0;34m-\u001b[0m\u001b[0mcutting\u001b[0m \u001b[0mapproach\u001b[0m\u001b[0;34m,\u001b[0m\u001b[0;34m\u001b[0m\u001b[0;34m\u001b[0m\u001b[0m\n\u001b[1;32m      4\u001b[0m     \u001b[0mwhich\u001b[0m \u001b[0moptimizes\u001b[0m \u001b[0munitary\u001b[0m \u001b[0mrotations\u001b[0m \u001b[0mat\u001b[0m \u001b[0mcut\u001b[0m \u001b[0mlocations\u001b[0m\u001b[0;34m.\u001b[0m \u001b[0mThis\u001b[0m \u001b[0mfunction\u001b[0m \u001b[0mgenerates\u001b[0m\u001b[0;34m,\u001b[0m \u001b[0mcuts\u001b[0m\u001b[0;34m,\u001b[0m \u001b[0moptimizes\u001b[0m\u001b[0;34m,\u001b[0m\u001b[0;34m\u001b[0m\u001b[0;34m\u001b[0m\u001b[0m\n\u001b[1;32m      5\u001b[0m     \u001b[0;32mand\u001b[0m \u001b[0mreconstructs\u001b[0m \u001b[0mthe\u001b[0m \u001b[0mquantum\u001b[0m \u001b[0mcircuit\u001b[0m\u001b[0;34m.\u001b[0m\u001b[0;34m\u001b[0m\u001b[0;34m\u001b[0m\u001b[0m\n",
      "\u001b[0;31mNameError\u001b[0m: name 'Tuple' is not defined"
     ]
    }
   ],
   "source": [
    "def ricco_vqe_expval(num_qubits: int, num_cuts: int, vqe_params, hamiltonian, draw: bool = False) -> Tuple[float, float]:\n",
    "    \"\"\"\n",
    "    Computes the expectation value of a quantum circuit using the RICCO circuit-cutting approach, \n",
    "    which optimizes unitary rotations at cut locations. This function generates, cuts, optimizes, \n",
    "    and reconstructs the quantum circuit.\n",
    "\n",
    "    Args:\n",
    "        num_qubits (int): Number of qubits in the quantum circuit.\n",
    "        num_cuts (int): Number of qubits to cut in the circuit.\n",
    "        seed_u (int): Seed for random generation of unitaries for subcircuits.\n",
    "        seed_v (int): Seed for random generation of unitaries for subcircuits.\n",
    "        draw (bool): If True, displays visual representations of the circuit before and after cutting.\n",
    "\n",
    "    Returns:\n",
    "        Tuple[float, float]: The RICCO expectation value of the reconstructed circuit and the \n",
    "        expectation value of the uncut circuit for comparison.\n",
    "    \"\"\"\n",
    "    # # Define RICCO parameters for unitary rotation at cut locations\n",
    "    # ricco_params = np.random.uniform(-np.pi, np.pi, size=4**num_cuts - 1, requires_grad=True)\n",
    "    \n",
    "    # Initialize device for RICCO optimization\n",
    "    dev = qml.device(\"default.qubit\", wires=range(num_qubits))\n",
    "    \n",
    "    # Define and create a QNode for the generated quantum circuit\n",
    "    vqe_circuit_qnode = qml.QNode(vqe_circuit, device=dev)\n",
    "    \n",
    "    # Define RICCO parameters for unitary rotation at cut locations\n",
    "    ricco_params = np.random.uniform(-np.pi, np.pi, size=4**num_cuts - 1, requires_grad=True)\n",
    "    \n",
    "    # Get the upstream circuit from the vqe_circuit\n",
    "    upstream_subcircuit = get_upstream_subcircuit(vqe_circuit, num_qubits, num_cuts, vqe_params, ricco_params, \n",
    "                                                 obs, unitary_rotation=False)\n",
    "    \n",
    "    # Identify and replace measureNode in the upstream subcircuit with the unitary rotation to optimize\n",
    "    upstream_subcircuit = replace_measure_with_unitary(upstream_subcircuit, ricco_params, generate_n_qubit_unitary)\n",
    "\n",
    "    # Optimize the RICCO unitary rotation at the cut location\n",
    "    optimized_params, optimal_params, cost = ricco_unitary_optimization(fragment_tapes, ricco_params)\n",
    "\n",
    "    # Update the QNode with optimized parameters and calculate the expectation value\n",
    "    updated_vqe_circuit = vqe_circuit_qnode(num_qubits, vqe_params, optimized_params, \n",
    "                                         obs, unitary_rotation=True)\n",
    "    \n",
    "    \n",
    "    \n",
    "    pauli_strings = [qml.grouping.pauli_word_to_string(P, wire_map=range(4)) for \n",
    "             P in hamiltonian.ops]\n",
    "    observables = [ricco_string_to_pauli_word(word) for word in pauli_strings]\n",
    "    \n",
    "    H_coeff = hamiltonian.coeffs\n",
    "    \n",
    "    expectation_vals = []\n",
    "    \n",
    "    uncut_expectation_vals = []\n",
    "    \n",
    "    \n",
    "    \n",
    "    for obs in observables:\n",
    "        print(\"obs = \", obs)\n",
    "        \n",
    "        # Update QNode and Compute expectation value of the uncut circuit\n",
    "        uncut_vqe_circuit_expval = vqe_circuit_qnode(num_qubits, vqe_params, ricco_params, \n",
    "                                             obs, unitary_rotation=False)\n",
    "        \n",
    "       \n",
    "        # Update the QNode with optimized parameters and calculate the expectation value\n",
    "        updated_vqe_circuit = vqe_circuit_qnode(num_qubits, vqe_params, optimized_params, \n",
    "                                             obs, unitary_rotation=True)\n",
    "        \n",
    "        uncut_expectation_vals.append(float(updated_vqe_circuit))\n",
    "        \n",
    "        # if draw:\n",
    "        #     fig1, ax = qml.draw_mpl(vqe_circuit_qnode)(num_qubits, vqe_params, ricco_params, \n",
    "        #                                      obs, unitary_rotation=True)\n",
    "\n",
    "        # Convert the updated QNode to a quantum tape for further cutting\n",
    "        updated_vqe_circuit_tape = vqe_circuit_qnode.qtape\n",
    "\n",
    "        # Perform circuit cutting on the updated tape\n",
    "        updated_graph = qml.transforms.qcut.tape_to_graph(updated_vqe_circuit_tape)\n",
    "        qml.transforms.qcut.replace_wire_cut_nodes(updated_graph)\n",
    "\n",
    "        new_fragments, new_communication_graph = qml.transforms.qcut.fragment_graph(updated_graph)\n",
    "        # new_fragments, new_communication_graph = ricco_fragment_graph(updated_graph)\n",
    "        new_fragment_tapes = [qml.transforms.qcut.graph_to_tape(f) for f in new_fragments]\n",
    "\n",
    "        # Define a device for running the new circuit fragments\n",
    "        dev = qml.device(\"default.qubit\", wires=range(max(len(new_fragment_tapes[0].wires),\n",
    "                                                   len(new_fragment_tapes[1].wires))))\n",
    "\n",
    "        # Remap tape wires to align with the device wires\n",
    "        new_fragment_tapes = [qml.map_wires(t, dict(zip(t.wires, dev.wires))) for t in new_fragment_tapes]\n",
    "\n",
    "        # Expand each tape for post-processing via RICCO tensor network contraction\n",
    "        expanded = [ricco_expand_fragment_tape(t) for t in new_fragment_tapes]\n",
    "\n",
    "        # Prepare configuration lists for contraction\n",
    "        configurations, prepare_nodes, measure_nodes = [], [], []\n",
    "        for ext_tapes, p, m, eig in expanded:\n",
    "            configurations.append(ext_tapes)\n",
    "            prepare_nodes.append(p)\n",
    "            measure_nodes.append(m)\n",
    "\n",
    "        # Flatten expanded tapes for execution\n",
    "        expanded_tapes = tuple(t for c in configurations for t in c)\n",
    "\n",
    "        # Execute the tapes and process results with RICCO tensor contraction\n",
    "        results = qml.execute(expanded_tapes, dev, gradient_fn=None)\n",
    "        # pennylane does not implement the measurement of the identity. Here we\n",
    "        # identify where the identity observable was measure and replace it with\n",
    "        # 1 to indicate the expectation value of the identity operator which is 1\n",
    "        # results = [qml.math.array([1]) if arr.size == 0 else arr for arr in results]\n",
    "        # results = [arr for arr in results if arr.size > 0]\n",
    "        print(\"results = \", results)\n",
    "        exp_val = ricco_processing_fn(\n",
    "            results, new_communication_graph, prepare_nodes, measure_nodes\n",
    "        )\n",
    "        \n",
    "        expectation_vals.append(exp_val)\n",
    "        print()\n",
    "        \n",
    "    print(\"pauli_strings = \", pauli_strings)\n",
    "    ricco_expectation = np.sum(H_coeff*np.array(expectation_vals))\n",
    "    print(\"expectation_vals = \", expectation_vals)\n",
    "    uncut_circuit_expval = np.sum(H_coeff*np.array(uncut_expectation_vals))\n",
    "    print(\"uncut_expectation_vals = \", uncut_expectation_vals)\n",
    "    \n",
    "    return np.array(ricco_expectation), uncut_circuit_expval"
   ]
  },
  {
   "cell_type": "code",
   "execution_count": null,
   "id": "d531a3e8-b519-4ded-b9b8-f40569cd4a3d",
   "metadata": {},
   "outputs": [],
   "source": []
  },
  {
   "cell_type": "code",
   "execution_count": null,
   "id": "f33c6e45-0b4e-4d03-bae3-102f40f4309b",
   "metadata": {},
   "outputs": [],
   "source": [
    "from utils import vqe_circuit, ricco_string_to_pauli_word\n",
    "from pennylane import tape\n",
    "\n",
    "def get_upstream_subcircuit(vqe_circuit, num_qubits, num_cuts, vqe_params, ricco_params, \n",
    "                                                 obs, unitary_rotation=False):\n",
    "    # Initialize device for RICCO optimization\n",
    "    dev = qml.device(\"default.qubit\", wires=range(num_qubits))\n",
    "\n",
    "    # Define and create a QNode for the generated quantum circuit\n",
    "    vqe_circuit_qnode = qml.QNode(vqe_circuit, device=dev)\n",
    "\n",
    "    pauli_strings = [qml.grouping.pauli_word_to_string(P, wire_map=range(4)) for \n",
    "                     P in hamiltonian.ops]\n",
    "    observables = [ricco_string_to_pauli_word(word) for word in pauli_strings]\n",
    "\n",
    "    H_coeff = hamiltonian.coeffs\n",
    "\n",
    "    expectation_vals = []\n",
    "    uncut_expectation_vals = []\n",
    "    observable_list = []\n",
    "\n",
    "    for obs in observables:\n",
    "        # print(\"obs = \", obs)\n",
    "        # Define RICCO parameters for unitary rotation at cut locations\n",
    "        ricco_params = np.random.uniform(-np.pi, np.pi, size=4**num_cuts - 1, requires_grad=True)\n",
    "\n",
    "        # Update QNode and Compute expectation value of the uncut circuit\n",
    "        uncut_vqe_circuit_expval = vqe_circuit_qnode(num_qubits, vqe_params, ricco_params, \n",
    "                                                     obs, unitary_rotation=False)\n",
    "\n",
    "        # Convert the uncut QNode to a quantum tape for processing\n",
    "        tape = vqe_circuit_qnode.qtape\n",
    "\n",
    "        # Perform circuit cutting on the quantum tape\n",
    "        graph = qml.transforms.qcut.tape_to_graph(tape)\n",
    "        qml.transforms.qcut.replace_wire_cut_nodes(graph)\n",
    "\n",
    "        # Generate fragments and the communication graph for circuit cutting\n",
    "        fragments, communication_graph = qml.transforms.qcut.fragment_graph(graph)\n",
    "        fragment_tapes = [qml.transforms.qcut.graph_to_tape(f) for f in fragments]\n",
    "\n",
    "        # Identify the subcircuit that contains MeasureNodes\n",
    "        subcircuit_with_measure = None\n",
    "        for subcircuit in fragment_tapes:\n",
    "            if any(isinstance(op, qml.transforms.qcut.MeasureNode) for op in subcircuit.operations):\n",
    "                subcircuit_with_measure = subcircuit\n",
    "                break\n",
    "\n",
    "        # Raise an error if no subcircuit with MeasureNodes is found\n",
    "        if subcircuit_with_measure is None:\n",
    "            raise ValueError(\"No subcircuit contains MeasureNodes.\")\n",
    "\n",
    "        # Extract the observables from subcircuit_with_measure\n",
    "        ob = subcircuit_with_measure.observables\n",
    "        observable_list.append(ob[0])\n",
    "\n",
    "    # Create a new tape from subcircuit_with_measure with updated observables\n",
    "    with qml.tape.QuantumTape() as upstream_subcircuit:\n",
    "        # Reapply operations from the original subcircuit\n",
    "        for op in subcircuit_with_measure.operations:\n",
    "            op.queue()\n",
    "\n",
    "        # Replace observables with new observables from observable_list\n",
    "        for obs in observable_list:\n",
    "            qml.expval(obs)\n",
    "\n",
    "    # new_tape now has the operations from subcircuit_with_measure and observables from observable_list\n",
    "\n",
    "    return upstream_subcircuit"
   ]
  },
  {
   "cell_type": "code",
   "execution_count": null,
   "id": "5f23219a-e021-45d1-b3fd-7f692c18dc99",
   "metadata": {},
   "outputs": [],
   "source": [
    "upstream_subcircuit = get_upstream_subcircuit(vqe_circuit, num_qubits, num_cuts, vqe_params, ricco_params, \n",
    "                                                 obs, unitary_rotation=False)"
   ]
  },
  {
   "cell_type": "code",
   "execution_count": null,
   "id": "1374a153-6919-4fe9-a7be-d2b782a6ca13",
   "metadata": {},
   "outputs": [],
   "source": [
    "upstream_subcircuit.operations"
   ]
  },
  {
   "cell_type": "code",
   "execution_count": null,
   "id": "288cbf89-9565-45c4-9ab2-45503dc95c17",
   "metadata": {},
   "outputs": [],
   "source": [
    "any(isinstance(op, qml.transforms.qcut.MeasureNode) for op in upstream_subcircuit.operations)"
   ]
  },
  {
   "cell_type": "code",
   "execution_count": null,
   "id": "a9846ba6-83fe-4718-bb02-8a92a2435f9b",
   "metadata": {},
   "outputs": [],
   "source": [
    "new_tape.observables"
   ]
  },
  {
   "cell_type": "code",
   "execution_count": null,
   "id": "47ae28c3-4004-4a97-b313-4b1a8496e05a",
   "metadata": {},
   "outputs": [],
   "source": [
    "new_tape.operations"
   ]
  },
  {
   "cell_type": "code",
   "execution_count": null,
   "id": "d973429e-ec15-4e1b-95f0-2c907765e8b9",
   "metadata": {},
   "outputs": [],
   "source": []
  },
  {
   "cell_type": "code",
   "execution_count": null,
   "id": "a26883a0-0608-43e5-bb6a-2c0cca863cf9",
   "metadata": {},
   "outputs": [],
   "source": [
    "from utils import vqe_circuit, ricco_string_to_pauli_word\n",
    "# Initialize device for RICCO optimization\n",
    "dev = qml.device(\"default.qubit\", wires=range(num_qubits))\n",
    "\n",
    "# Define and create a QNode for the generated quantum circuit\n",
    "vqe_circuit_qnode = qml.QNode(vqe_circuit, device=dev)\n",
    "\n",
    "pauli_strings = [qml.grouping.pauli_word_to_string(P, wire_map=range(4)) for \n",
    "         P in hamiltonian.ops]\n",
    "observables = [ricco_string_to_pauli_word(word) for word in pauli_strings]\n",
    "\n",
    "H_coeff = hamiltonian.coeffs\n",
    "\n",
    "expectation_vals = []\n",
    "\n",
    "uncut_expectation_vals = []\n",
    "\n",
    "observable_list = []\n",
    "\n",
    "for obs in observables:\n",
    "    print(\"obs = \", obs)\n",
    "    # Define RICCO parameters for unitary rotation at cut locations\n",
    "    ricco_params = np.random.uniform(-np.pi, np.pi, size=4**num_cuts - 1, requires_grad=True)\n",
    "\n",
    "    # Update QNode and Compute expectation value of the uncut circuit\n",
    "    uncut_vqe_circuit_expval = vqe_circuit_qnode(num_qubits, vqe_params, ricco_params, \n",
    "                                         obs, unitary_rotation=False)\n",
    "\n",
    "    # Convert the uncut QNode to a quantum tape for processing\n",
    "    tape = vqe_circuit_qnode.qtape\n",
    "\n",
    "    # Perform circuit cutting on the quantum tape\n",
    "    graph = qml.transforms.qcut.tape_to_graph(tape)\n",
    "    qml.transforms.qcut.replace_wire_cut_nodes(graph)\n",
    "\n",
    "    # Generate fragments and the communication graph for circuit cutting\n",
    "    fragments, communication_graph = qml.transforms.qcut.fragment_graph(graph)\n",
    "    # print(\"len(fragments) = \", len(fragments))\n",
    "    # this was modified to account for measurement observables that are identity\n",
    "    # fragments, communication_graph = ricco_fragment_graph(graph)\n",
    "    fragment_tapes = [qml.transforms.qcut.graph_to_tape(f) for f in fragments]\n",
    "    \n",
    "    # Identify the subcircuit that contains MeasureNodes\n",
    "    subcircuit_with_measure = None\n",
    "    for subcircuit in fragment_tapes:\n",
    "        if any(isinstance(op, qml.transforms.qcut.MeasureNode) for op in subcircuit.operations):\n",
    "            subcircuit_with_measure = subcircuit\n",
    "            break\n",
    "\n",
    "    # Raise an error if no subcircuit with MeasureNodes is found\n",
    "    if subcircuit_with_measure is None:\n",
    "        raise ValueError(\"No subcircuit contains MeasureNodes.\")\n",
    "        \n",
    "    # extract the observables from subcircuit_with_measure\n",
    "    ob = subcircuit_with_measure.observables\n",
    "    observable_list.append(ob[0])"
   ]
  },
  {
   "cell_type": "code",
   "execution_count": null,
   "id": "57e24622-0420-480b-a8c3-ea755032e3bb",
   "metadata": {},
   "outputs": [],
   "source": [
    "observable_list"
   ]
  },
  {
   "cell_type": "code",
   "execution_count": null,
   "id": "140e9178-4b79-409b-8936-2843946b1a29",
   "metadata": {},
   "outputs": [],
   "source": []
  },
  {
   "cell_type": "code",
   "execution_count": null,
   "id": "44e13525-6bd0-439c-b6f1-29a4b22a73dc",
   "metadata": {},
   "outputs": [],
   "source": [
    "new_tape.observables"
   ]
  },
  {
   "cell_type": "code",
   "execution_count": null,
   "id": "1bfefc8d-a510-4b3d-bc74-46bf11d91bd0",
   "metadata": {},
   "outputs": [],
   "source": [
    "qml.expval(observable_list[-1])"
   ]
  },
  {
   "cell_type": "code",
   "execution_count": null,
   "id": "5335a445-5263-4a23-b79e-a8a9b6e8dce3",
   "metadata": {},
   "outputs": [],
   "source": [
    "from pennylane.ops import Identity, PauliX, PauliY, PauliZ\n",
    "qml.expval(Identity(wires=[1]) @ Identity(wires=[3]))"
   ]
  },
  {
   "cell_type": "code",
   "execution_count": null,
   "id": "a73b8fd9-41a6-45e3-bb78-c498db76599d",
   "metadata": {},
   "outputs": [],
   "source": [
    "subcircuit_with_measure.observables "
   ]
  },
  {
   "cell_type": "code",
   "execution_count": null,
   "id": "c75c62e4-0872-498a-9e2f-d4410e2032e1",
   "metadata": {},
   "outputs": [],
   "source": [
    "subcircuit_with_measure.operations"
   ]
  },
  {
   "cell_type": "code",
   "execution_count": null,
   "id": "2ed8638a-27fc-48f0-9bf4-5747f7af005d",
   "metadata": {},
   "outputs": [],
   "source": [
    "fragment_tapes[0].observables"
   ]
  },
  {
   "cell_type": "code",
   "execution_count": null,
   "id": "a1da9b54-66df-462f-abdb-0a23cb00910c",
   "metadata": {},
   "outputs": [],
   "source": [
    "subcircuit_with_measure.observables"
   ]
  },
  {
   "cell_type": "code",
   "execution_count": null,
   "id": "75fcdd42-dfba-41d6-95fb-5995e87e6188",
   "metadata": {},
   "outputs": [],
   "source": [
    "subcircuit_with_measure."
   ]
  },
  {
   "cell_type": "code",
   "execution_count": null,
   "id": "cb8bbbd5-619f-484d-9b51-25378a8684b3",
   "metadata": {},
   "outputs": [],
   "source": []
  },
  {
   "cell_type": "code",
   "execution_count": null,
   "id": "9ae8d64b-8e2e-417d-aac9-6a048ed5aee3",
   "metadata": {},
   "outputs": [],
   "source": [
    "pauli_strings = [qml.grouping.pauli_word_to_string(P, wire_map=range(4)) for \n",
    "             P in hamiltonian.ops]\n",
    "observables = [ricco_string_to_pauli_word(word) for word in pauli_strings]"
   ]
  },
  {
   "cell_type": "code",
   "execution_count": null,
   "id": "f30bb7b4-aff4-49f0-a9c3-ba2b35b28f34",
   "metadata": {},
   "outputs": [],
   "source": [
    "observables"
   ]
  },
  {
   "cell_type": "code",
   "execution_count": null,
   "id": "1d1fae79-c466-492f-8ee3-2d1f7ce9202b",
   "metadata": {},
   "outputs": [],
   "source": [
    "pauli_strings"
   ]
  },
  {
   "cell_type": "code",
   "execution_count": null,
   "id": "81c06776-fdfd-4773-ae45-80077f1b4f3e",
   "metadata": {},
   "outputs": [],
   "source": [
    "from pennylane.ops import Identity, PauliX, PauliY, PauliZ\n",
    "def ricco_string_to_pauli_word(pauli_string, wire_map=None):\n",
    "    \"\"\"Convert a string in terms of ``'I'``, ``'X'``, ``'Y'``, and ``'Z'`` into a Pauli word\n",
    "    for the given wire map.\n",
    "\n",
    "    Args:\n",
    "        pauli_string (str): A string of characters consisting of ``'I'``, ``'X'``, ``'Y'``, and ``'Z'``\n",
    "            indicating a Pauli word.\n",
    "        wire_map (dict[Union[str, int], int]): dictionary containing all wire labels used in\n",
    "            the Pauli word as keys, and unique integer labels as their values\n",
    "\n",
    "    Returns:\n",
    "        .Observable: The Pauli word representing of ``pauli_string`` on the wires\n",
    "        enumerated in the wire map.\n",
    "\n",
    "    **Example**\n",
    "\n",
    "    >>> wire_map = {'a' : 0, 'b' : 1, 'c' : 2}\n",
    "    >>> string_to_pauli_word('XIY', wire_map=wire_map)\n",
    "    PauliX(wires=['a']) @ PauliY(wires=['c'])\n",
    "    \"\"\"\n",
    "    character_map = {\"I\": Identity, \"X\": PauliX, \"Y\": PauliY, \"Z\": PauliZ}\n",
    "\n",
    "    if not isinstance(pauli_string, str):\n",
    "        raise TypeError(f\"Input to string_to_pauli_word must be string, obtained {pauli_string}\")\n",
    "\n",
    "    # String can only consist of I, X, Y, Z\n",
    "    if any(char not in character_map for char in pauli_string):\n",
    "        raise ValueError(\n",
    "            \"Invalid characters encountered in string_to_pauli_word \"\n",
    "            f\"string {pauli_string}. Permitted characters are 'I', 'X', 'Y', and 'Z'\"\n",
    "        )\n",
    "\n",
    "    # If no wire map is provided, construct one using integers based on the length of the string\n",
    "    if wire_map is None:\n",
    "        wire_map = {x: x for x in range(len(pauli_string))}\n",
    "\n",
    "    if len(pauli_string) != len(wire_map):\n",
    "        raise ValueError(\n",
    "            \"Wire map and pauli_string must have the same length to convert \"\n",
    "            \"from string to Pauli word.\"\n",
    "        )\n",
    "\n",
    "    # # Special case: all-identity Pauli\n",
    "    # if pauli_string == \"I\" * len(wire_map):\n",
    "    #     first_wire = list(wire_map)[0]\n",
    "    #     return Identity(first_wire)\n",
    "\n",
    "    pauli_word = None\n",
    "\n",
    "    for wire_name, wire_idx in wire_map.items():\n",
    "        pauli_char = pauli_string[wire_idx]\n",
    "\n",
    "        # # Don't care about the identity\n",
    "        # if pauli_char == \"I\":\n",
    "        #     continue\n",
    "\n",
    "        if pauli_word is not None:\n",
    "            pauli_word = pauli_word @ character_map[pauli_char](wire_name)\n",
    "        else:\n",
    "            pauli_word = character_map[pauli_char](wire_name)\n",
    "\n",
    "    return pauli_word"
   ]
  },
  {
   "cell_type": "code",
   "execution_count": null,
   "id": "aef5e092-b186-4cde-83b6-b19662d03181",
   "metadata": {},
   "outputs": [],
   "source": [
    "string_to_pauli_word('IZII')"
   ]
  },
  {
   "cell_type": "code",
   "execution_count": null,
   "id": "568ac39e-519a-48ff-8bdf-28ac0ea6e86c",
   "metadata": {},
   "outputs": [],
   "source": [
    "def vqe_circuit(num_qubits, vqe_params, observable, unitary_rotation=False):\n",
    "    qubits=list(range(num_qubits))\n",
    "    \n",
    "    qml.PauliX(wires=0)\n",
    "    qml.PauliX(wires=1)\n",
    "    for i in qubits:\n",
    "        qml.RZ(vqe_params[3 * i], wires=i)\n",
    "        qml.RY(vqe_params[3 * i + 1], wires=i)\n",
    "        qml.RZ(vqe_params[3 * i + 2], wires=i)\n",
    "    qml.CNOT(wires=[2, 3])\n",
    "    \n",
    "    # Insert unitary rotation at cut location\n",
    "    if unitary_rotation:\n",
    "        generate_n_qubit_unitary(ricco_params, [qubits[2]])\n",
    "        qml.WireCut(wires=qubits[2])  # apply cut here\n",
    "        qml.adjoint(generate_n_qubit_unitary)(ricco_params, [qubits[2]])\n",
    "    else: # No unitary rotations inserted at cut location\n",
    "        qml.WireCut(wires=qubits[2])  # apply cut here\n",
    "        \n",
    "    qml.CNOT(wires=[2, 0])\n",
    "    qml.CNOT(wires=[3, 1])\n",
    "    \n",
    "    # return qml.expval(observable)\n",
    "    return qml.expval(string_to_pauli_word(observable))"
   ]
  },
  {
   "cell_type": "code",
   "execution_count": null,
   "id": "51a55808-52a3-4d62-b66b-e5f4c9d0276c",
   "metadata": {},
   "outputs": [],
   "source": [
    "qml.expval(qml.pauli.string_to_pauli_word(observable))"
   ]
  },
  {
   "cell_type": "code",
   "execution_count": null,
   "id": "0db3340f-02ab-4e11-9b84-69f7c3771a21",
   "metadata": {},
   "outputs": [],
   "source": [
    "qml.pauli.string_to_pauli_word(observable)"
   ]
  },
  {
   "cell_type": "code",
   "execution_count": null,
   "id": "5d4647a8-674d-43b7-817b-0b75ebf6e7bc",
   "metadata": {},
   "outputs": [],
   "source": [
    "dev = qml.device('default.qubit', wires=num_qubits)\n",
    "observable = 'IZII'\n",
    "vqe_circuit_qnode = qml.QNode(vqe_circuit, device=dev)\n",
    "vqe_circuit_expval = vqe_circuit_qnode(num_qubits, vqe_params, observable)\n",
    "vqe_circuit_tape = vqe_circuit_qnode.qtape\n",
    "# Perform circuit cutting on the quantum tape\n",
    "vqe_circuit_graph = qml.transforms.qcut.tape_to_graph(vqe_circuit_tape)\n",
    "qml.transforms.qcut.replace_wire_cut_nodes(vqe_circuit_graph)\n",
    "fragments, communication_graph = qml.transforms.qcut.fragment_graph(vqe_circuit_graph)\n",
    "print(\"len(fragments) = \", len(fragments))"
   ]
  },
  {
   "cell_type": "code",
   "execution_count": null,
   "id": "84dc842c-20a0-4821-bac7-d7e8d8f270b3",
   "metadata": {},
   "outputs": [],
   "source": []
  },
  {
   "cell_type": "code",
   "execution_count": null,
   "id": "2a729527-69bd-483a-8b2b-b75bdaf10590",
   "metadata": {},
   "outputs": [],
   "source": [
    "'IZII'"
   ]
  },
  {
   "cell_type": "code",
   "execution_count": null,
   "id": "bf373856-aee1-435c-b6cb-0230dd58375c",
   "metadata": {},
   "outputs": [],
   "source": []
  },
  {
   "cell_type": "code",
   "execution_count": null,
   "id": "194f7c6f-d185-4e73-ba4c-ca1d6e63e95c",
   "metadata": {},
   "outputs": [],
   "source": [
    "dev = qml.device('default.qubit', wires=1)\n",
    "def test_circut():\n",
    "    qml.Hadamard(wires=0)\n",
    "    qml.WireCut(wires=0)\n",
    "    qml.X(wires=0)\n",
    "    # return qml.expval(qml.Identity(0))\n",
    "    return qml.expval(qml.pauli.string_to_pauli_word(\"I\"))"
   ]
  },
  {
   "cell_type": "code",
   "execution_count": null,
   "id": "2bf67ace-92bb-4579-9080-3f359b1a3ff8",
   "metadata": {},
   "outputs": [],
   "source": [
    "test_circut_qnode = qml.QNode(test_circut, device=dev)\n",
    "test_circut_expval = test_circut_qnode()\n",
    "test_circut_tape = test_circut_qnode.qtape\n",
    "# Perform circuit cutting on the quantum tape\n",
    "test_circut_graph = qml.transforms.qcut.tape_to_graph(test_circut_tape)\n",
    "qml.transforms.qcut.replace_wire_cut_nodes(test_circut_graph)\n",
    "fragments, communication_graph = qml.transforms.qcut.fragment_graph(test_circut_graph)\n",
    "print(\"len(fragments) = \", len(fragments))"
   ]
  },
  {
   "cell_type": "code",
   "execution_count": null,
   "id": "bca46bce-09e5-4c07-85ec-2fd283cc66a3",
   "metadata": {},
   "outputs": [],
   "source": []
  },
  {
   "cell_type": "code",
   "execution_count": null,
   "id": "57e484b9-d24d-4151-8f60-eb6e37a3bddf",
   "metadata": {},
   "outputs": [],
   "source": []
  },
  {
   "cell_type": "code",
   "execution_count": null,
   "id": "2799b869-11a9-4ab6-8cb2-762c424771ec",
   "metadata": {},
   "outputs": [],
   "source": [
    "def fragment_graph(graph: MultiDiGraph) -> Tuple[Tuple[MultiDiGraph], MultiDiGraph]:\n",
    "    \"\"\"\n",
    "    Fragments a graph into a collection of subgraphs as well as returning\n",
    "    the communication (`quotient <https://en.wikipedia.org/wiki/Quotient_graph>`__)\n",
    "    graph.\n",
    "\n",
    "    The input ``graph`` is fragmented by disconnecting each :class:`~.MeasureNode` and\n",
    "    :class:`~.PrepareNode` pair and finding the resultant disconnected subgraph fragments.\n",
    "    Each node of the communication graph represents a subgraph fragment and the edges\n",
    "    denote the flow of qubits between fragments due to the removed :class:`~.MeasureNode` and\n",
    "    :class:`~.PrepareNode` pairs.\n",
    "\n",
    "    .. note::\n",
    "\n",
    "        This operation is designed for use as part of the circuit cutting workflow.\n",
    "        Check out the :func:`qml.cut_circuit() <pennylane.cut_circuit>` transform for more details.\n",
    "\n",
    "    Args:\n",
    "        graph (nx.MultiDiGraph): directed multigraph containing measure and prepare\n",
    "            nodes at cut locations\n",
    "\n",
    "    Returns:\n",
    "        Tuple[Tuple[nx.MultiDiGraph], nx.MultiDiGraph]: the subgraphs of the cut graph\n",
    "        and the communication graph.\n",
    "\n",
    "    **Example**\n",
    "\n",
    "    Consider the following circuit with manually-placed wire cuts:\n",
    "\n",
    "    .. code-block:: python\n",
    "\n",
    "        wire_cut_0 = qml.WireCut(wires=0)\n",
    "        wire_cut_1 = qml.WireCut(wires=1)\n",
    "        multi_wire_cut = qml.WireCut(wires=[0, 1])\n",
    "\n",
    "        with qml.tape.QuantumTape() as tape:\n",
    "            qml.RX(0.4, wires=0)\n",
    "            qml.apply(wire_cut_0)\n",
    "            qml.RY(0.5, wires=0)\n",
    "            qml.apply(wire_cut_1)\n",
    "            qml.CNOT(wires=[0, 1])\n",
    "            qml.apply(multi_wire_cut)\n",
    "            qml.RZ(0.6, wires=1)\n",
    "            qml.expval(qml.PauliZ(0))\n",
    "\n",
    "    We can find the corresponding graph, remove all the wire cut nodes, and\n",
    "    find the subgraphs and communication graph by using:\n",
    "\n",
    "    >>> graph = qml.transforms.qcut.tape_to_graph(tape)\n",
    "    >>> qml.transforms.qcut.replace_wire_cut_nodes(graph)\n",
    "    >>> qml.transforms.qcut.fragment_graph(graph)\n",
    "    ((<networkx.classes.multidigraph.MultiDiGraph object at 0x7fb3b2311940>,\n",
    "      <networkx.classes.multidigraph.MultiDiGraph object at 0x7fb3b2311c10>,\n",
    "      <networkx.classes.multidigraph.MultiDiGraph object at 0x7fb3b23e2820>,\n",
    "      <networkx.classes.multidigraph.MultiDiGraph object at 0x7fb3b23e27f0>),\n",
    "     <networkx.classes.multidigraph.MultiDiGraph object at 0x7fb3b23e26a0>)\n",
    "    \"\"\"\n",
    "\n",
    "    graph_copy = graph.copy()\n",
    "\n",
    "    cut_edges = []\n",
    "    measure_nodes = [n for n in graph.nodes if isinstance(n, MeasurementProcess)]\n",
    "    #print(\"measure_nodes = \", measure_nodes)\n",
    "\n",
    "    for node1, node2, wire_key in graph.edges:\n",
    "        if isinstance(node1, MeasureNode):\n",
    "            assert isinstance(node2, PrepareNode)\n",
    "            cut_edges.append((node1, node2, wire_key))\n",
    "            graph_copy.remove_edge(node1, node2, key=wire_key)\n",
    "\n",
    "    subgraph_nodes = weakly_connected_components(graph_copy)\n",
    "    subgraphs = tuple(MultiDiGraph(graph_copy.subgraph(n)) for n in subgraph_nodes)\n",
    "    #print(\"len(subgraphs) = \", len(subgraphs))\n",
    "\n",
    "    communication_graph = MultiDiGraph()\n",
    "    communication_graph.add_nodes_from(range(len(subgraphs)))\n",
    "\n",
    "    for node1, node2, _ in cut_edges:\n",
    "        for i, subgraph in enumerate(subgraphs):\n",
    "            if subgraph.has_node(node1):\n",
    "                start_fragment = i\n",
    "            if subgraph.has_node(node2):\n",
    "                end_fragment = i\n",
    "\n",
    "        if start_fragment != end_fragment:\n",
    "            communication_graph.add_edge(start_fragment, end_fragment, pair=(node1, node2))\n",
    "        else:\n",
    "            # The MeasureNode and PrepareNode pair live in the same fragment and did not result\n",
    "            # in a disconnection. We can therefore remove these nodes. Note that we do not need\n",
    "            # to worry about adding back an edge between the predecessor to node1 and the successor\n",
    "            # to node2 because our next step is to convert the fragment circuit graphs to tapes,\n",
    "            # a process that does not depend on edge connections in the subgraph.\n",
    "            subgraphs[start_fragment].remove_node(node1)\n",
    "            subgraphs[end_fragment].remove_node(node2)\n",
    "\n",
    "    return subgraphs, communication_graph"
   ]
  }
 ],
 "metadata": {
  "citation-manager": {
   "items": {}
  },
  "kernelspec": {
   "display_name": "Python 3 (ipykernel)",
   "language": "python",
   "name": "python3"
  },
  "language_info": {
   "codemirror_mode": {
    "name": "ipython",
    "version": 3
   },
   "file_extension": ".py",
   "mimetype": "text/x-python",
   "name": "python",
   "nbconvert_exporter": "python",
   "pygments_lexer": "ipython3",
   "version": "3.9.21"
  }
 },
 "nbformat": 4,
 "nbformat_minor": 5
}
