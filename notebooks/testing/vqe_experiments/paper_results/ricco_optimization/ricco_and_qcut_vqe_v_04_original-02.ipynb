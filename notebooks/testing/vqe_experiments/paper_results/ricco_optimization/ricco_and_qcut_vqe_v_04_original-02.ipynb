{
 "cells": [
  {
   "cell_type": "code",
   "execution_count": 1,
   "metadata": {
    "collapsed": false,
    "jupyter": {
     "outputs_hidden": false
    }
   },
   "outputs": [],
   "source": [
    "# This cell is added by sphinx-gallery\n",
    "# It can be customized to whatever you like\n",
    "%matplotlib inline"
   ]
  },
  {
   "cell_type": "code",
   "execution_count": 2,
   "metadata": {
    "collapsed": false,
    "jupyter": {
     "outputs_hidden": false
    }
   },
   "outputs": [],
   "source": [
    "import matplotlib.pyplot as plt\n",
    "from pennylane import numpy as np\n",
    "import pennylane as qml"
   ]
  },
  {
   "cell_type": "markdown",
   "metadata": {
    "tags": []
   },
   "source": [
    "(2) Hydrogen VQE Example\n",
    "========================"
   ]
  },
  {
   "cell_type": "code",
   "execution_count": 3,
   "metadata": {
    "collapsed": false,
    "jupyter": {
     "outputs_hidden": false
    }
   },
   "outputs": [
    {
     "name": "stdout",
     "output_type": "stream",
     "text": [
      "Number of qubits =  4\n"
     ]
    }
   ],
   "source": [
    "geo_file = \"h2.xyz\"\n",
    "\n",
    "symbols, coordinates = qml.qchem.read_structure(geo_file)\n",
    "hamiltonian, qubits = qml.qchem.molecular_hamiltonian(symbols, coordinates)\n",
    "\n",
    "print(\"Number of qubits = \", qubits)"
   ]
  },
  {
   "cell_type": "markdown",
   "metadata": {},
   "source": [
    "For our ansatz, we use the circuit from the [VQE\n",
    "tutorial](https://pennylane.ai/qml/demos/tutorial_vqe.html) but expand\n",
    "out the arbitrary single-qubit rotations to elementary gates (RZ-RY-RZ).\n"
   ]
  },
  {
   "cell_type": "code",
   "execution_count": 4,
   "metadata": {
    "collapsed": false,
    "jupyter": {
     "outputs_hidden": false
    }
   },
   "outputs": [],
   "source": [
    "dev = qml.device(\"lightning.qubit\", wires=qubits)\n",
    "hf_state = np.array([1, 1, 0, 0], requires_grad=False)\n",
    "\n",
    "def ansatz(params, wires=[0, 1, 2, 3]):\n",
    "    # qml.BasisState(hf_state, wires=wires)\n",
    "    qml.PauliX(wires=0)\n",
    "    qml.PauliX(wires=1)\n",
    "    for i in wires:\n",
    "        qml.RZ(params[3 * i], wires=i)\n",
    "        qml.RY(params[3 * i + 1], wires=i)\n",
    "        qml.RZ(params[3 * i + 2], wires=i)\n",
    "    qml.CNOT(wires=[2, 3])\n",
    "    qml.CNOT(wires=[2, 0])\n",
    "    qml.CNOT(wires=[3, 1])"
   ]
  },
  {
   "cell_type": "markdown",
   "metadata": {},
   "source": [
    "Note that the qubit register has been initialized to $|1100\\rangle$,\n",
    "which encodes for the Hartree-Fock state of the hydrogen molecule\n",
    "described in the minimal basis. Again, we define the cost function to be\n",
    "the following QNode that measures `expval(H)`:\n"
   ]
  },
  {
   "cell_type": "code",
   "execution_count": 5,
   "metadata": {
    "collapsed": false,
    "jupyter": {
     "outputs_hidden": false
    }
   },
   "outputs": [],
   "source": [
    "exact_value = -1.136189454088"
   ]
  },
  {
   "cell_type": "markdown",
   "metadata": {},
   "source": [
    "We now set up our optimizations runs.\n"
   ]
  },
  {
   "cell_type": "code",
   "execution_count": 6,
   "metadata": {
    "collapsed": false,
    "jupyter": {
     "outputs_hidden": false
    }
   },
   "outputs": [],
   "source": [
    "@qml.qnode(dev)\n",
    "def cost(params):\n",
    "    ansatz(params)\n",
    "    return qml.expval(hamiltonian)"
   ]
  },
  {
   "cell_type": "code",
   "execution_count": null,
   "metadata": {},
   "outputs": [],
   "source": []
  },
  {
   "cell_type": "code",
   "execution_count": 7,
   "metadata": {
    "collapsed": false,
    "jupyter": {
     "outputs_hidden": false
    }
   },
   "outputs": [],
   "source": [
    "np.random.seed(0)\n",
    "init_params = np.random.uniform(low=0, high=2 * np.pi, size=12, requires_grad=True)\n",
    "max_iterations = 500\n",
    "step_size = 0.5\n",
    "conv_tol = 1e-04"
   ]
  },
  {
   "cell_type": "markdown",
   "metadata": {},
   "source": [
    "As was done with our previous VQE example, we run the standard gradient\n",
    "descent optimizer.\n"
   ]
  },
  {
   "cell_type": "code",
   "execution_count": 8,
   "metadata": {
    "collapsed": false,
    "jupyter": {
     "outputs_hidden": false
    }
   },
   "outputs": [
    {
     "name": "stdout",
     "output_type": "stream",
     "text": [
      "Iteration = 0,  Energy = -0.09424333 Ha\n",
      "Iteration = 20,  Energy = -0.55156841 Ha\n",
      "Iteration = 40,  Energy = -1.12731586 Ha\n",
      "\n",
      "Final convergence parameter = 0.00009337 Ha\n",
      "Number of iterations =  51\n",
      "Final value of the ground-state energy = -1.13551998 Ha\n",
      "Accuracy with respect to the FCI energy: 0.00066947 Ha (0.42009482 kcal/mol)\n",
      "\n",
      "Final circuit parameters = \n",
      " [3.44829694 6.28271026 3.78727399 3.42360201 0.03410232 4.0582724\n",
      " 2.74944154 6.07646918 6.12121959 2.40923412 6.27933596 3.32314479]\n"
     ]
    }
   ],
   "source": [
    "opt = qml.GradientDescentOptimizer(step_size)\n",
    "\n",
    "params = init_params\n",
    "\n",
    "gd_cost = []\n",
    "\n",
    "for n in range(max_iterations):\n",
    "    params, prev_energy = opt.step_and_cost(cost, params)\n",
    "    gd_cost.append(prev_energy)\n",
    "\n",
    "    energy = cost(params)\n",
    "    conv = np.abs(energy - prev_energy)\n",
    "\n",
    "    if n % 20 == 0:\n",
    "        print(\n",
    "            \"Iteration = {:},  Energy = {:.8f} Ha\".format(n, energy)\n",
    "        )\n",
    "\n",
    "    if conv <= conv_tol:\n",
    "        break\n",
    "\n",
    "\n",
    "print()\n",
    "print(\"Final convergence parameter = {:.8f} Ha\".format(conv))\n",
    "print(\"Number of iterations = \", n)\n",
    "print(\"Final value of the ground-state energy = {:.8f} Ha\".format(energy))\n",
    "print(\n",
    "    \"Accuracy with respect to the FCI energy: {:.8f} Ha ({:.8f} kcal/mol)\".format(\n",
    "        np.abs(energy - exact_value), np.abs(energy - exact_value) * 627.503\n",
    "    )\n",
    ")\n",
    "print()\n",
    "print(\"Final circuit parameters = \\n\", params)"
   ]
  },
  {
   "cell_type": "markdown",
   "metadata": {},
   "source": [
    "#### Unsing Adam optimizer"
   ]
  },
  {
   "cell_type": "code",
   "execution_count": 9,
   "metadata": {},
   "outputs": [
    {
     "name": "stdout",
     "output_type": "stream",
     "text": [
      "Iteration = 0,  Energy = -0.30707269 Ha\n",
      "Iteration = 20,  Energy = -1.09168372 Ha\n",
      "Iteration = 40,  Energy = -1.12896005 Ha\n",
      "\n",
      "Final convergence parameter = 0.00006329 Ha\n",
      "Number of iterations =  48\n",
      "Final value of the ground-state energy = -1.13136704 Ha\n",
      "Accuracy with respect to the FCI energy: 0.00482242 Ha (3.02608182 kcal/mol)\n",
      "\n",
      "Final circuit parameters = \n",
      " [ 3.44829695  6.19914712  3.78727401  3.42360202 -0.03559182  4.05827242\n",
      "  2.74944152  6.15682797  6.06069332  2.40923412  6.28232467  3.32314478]\n"
     ]
    }
   ],
   "source": [
    "opt = qml.AdamOptimizer(step_size)\n",
    "\n",
    "params = init_params\n",
    "\n",
    "adam_cost = []\n",
    "\n",
    "for n in range(max_iterations):\n",
    "    params, prev_energy = opt.step_and_cost(cost, params)\n",
    "    adam_cost.append(prev_energy)\n",
    "\n",
    "    energy = cost(params)\n",
    "    conv = np.abs(energy - prev_energy)\n",
    "\n",
    "    if n % 20 == 0:\n",
    "        print(\n",
    "            \"Iteration = {:},  Energy = {:.8f} Ha\".format(n, energy)\n",
    "        )\n",
    "\n",
    "    if conv <= conv_tol:\n",
    "        break\n",
    "\n",
    "\n",
    "print()\n",
    "print(\"Final convergence parameter = {:.8f} Ha\".format(conv))\n",
    "print(\"Number of iterations = \", n)\n",
    "print(\"Final value of the ground-state energy = {:.8f} Ha\".format(energy))\n",
    "print(\n",
    "    \"Accuracy with respect to the FCI energy: {:.8f} Ha ({:.8f} kcal/mol)\".format(\n",
    "        np.abs(energy - exact_value), np.abs(energy - exact_value) * 627.503\n",
    "    )\n",
    ")\n",
    "print()\n",
    "print(\"Final circuit parameters = \\n\", params)"
   ]
  },
  {
   "cell_type": "markdown",
   "metadata": {},
   "source": [
    "Next, we run the optimizer employing quantum natural gradients. We also\n",
    "need to make the Hamiltonian coefficients non-differentiable by setting\n",
    "`requires_grad=False`.\n"
   ]
  },
  {
   "cell_type": "code",
   "execution_count": 10,
   "metadata": {
    "collapsed": false,
    "jupyter": {
     "outputs_hidden": false
    }
   },
   "outputs": [
    {
     "name": "stdout",
     "output_type": "stream",
     "text": [
      "Iteration = 0,  Energy = -0.32164519 Ha\n",
      "Iteration = 4,  Energy = -0.46875033 Ha\n",
      "Iteration = 8,  Energy = -0.85091050 Ha\n",
      "Iteration = 12,  Energy = -1.13575339 Ha\n",
      "\n",
      "Final convergence parameter = 0.00005376 Ha\n",
      "Number of iterations =  14\n",
      "Final value of the ground-state energy = -1.13618002 Ha\n",
      "Accuracy with respect to the FCI energy: 0.00000944 Ha (0.00592189 kcal/mol)\n",
      "\n",
      "Final circuit parameters = \n",
      " [3.44829694 6.28318142 3.78727399 3.42360201 0.00749429 4.0582724\n",
      " 2.74944154 6.07262586 6.27874585 2.40923412 6.28315827 3.32314479]\n"
     ]
    }
   ],
   "source": [
    "hamiltonian = qml.Hamiltonian(np.array(hamiltonian.coeffs, requires_grad=False), hamiltonian.ops)\n",
    "\n",
    "opt = qml.QNGOptimizer(step_size, lam=0.001, approx=\"block-diag\")\n",
    "\n",
    "params = init_params\n",
    "prev_energy = cost(params)\n",
    "qngd_cost = []\n",
    "\n",
    "for n in range(max_iterations):\n",
    "    params, prev_energy = opt.step_and_cost(cost, params)\n",
    "    qngd_cost.append(prev_energy)\n",
    "\n",
    "    energy = cost(params)\n",
    "    conv = np.abs(energy - prev_energy)\n",
    "\n",
    "    if n % 4 == 0:\n",
    "        print(\n",
    "            \"Iteration = {:},  Energy = {:.8f} Ha\".format(n, energy)\n",
    "        )\n",
    "\n",
    "    if conv <= conv_tol:\n",
    "        break\n",
    "\n",
    "\n",
    "print(\"\\nFinal convergence parameter = {:.8f} Ha\".format(conv))\n",
    "print(\"Number of iterations = \", n)\n",
    "print(\"Final value of the ground-state energy = {:.8f} Ha\".format(energy))\n",
    "print(\n",
    "    \"Accuracy with respect to the FCI energy: {:.8f} Ha ({:.8f} kcal/mol)\".format(\n",
    "        np.abs(energy - exact_value), np.abs(energy - exact_value) * 627.503\n",
    "    )\n",
    ")\n",
    "print()\n",
    "print(\"Final circuit parameters = \\n\", params)"
   ]
  },
  {
   "cell_type": "code",
   "execution_count": null,
   "metadata": {},
   "outputs": [],
   "source": []
  },
  {
   "cell_type": "code",
   "execution_count": null,
   "metadata": {},
   "outputs": [],
   "source": []
  },
  {
   "cell_type": "markdown",
   "metadata": {},
   "source": [
    "### RICCO Experiments Starts Here!"
   ]
  },
  {
   "cell_type": "code",
   "execution_count": 11,
   "metadata": {},
   "outputs": [],
   "source": [
    "############## Extracting Pauli observables from the Hamiltonian ##################\n",
    "\n",
    "pauli_strings = [qml.grouping.pauli_word_to_string(P, wire_map=range(4)) for P in hamiltonian.ops]\n",
    "N_A_pauli_word = [ob[1] + ob[3] for ob in pauli_strings]\n",
    "u_obs_list = sorted(set(N_A_pauli_word)) # set of observables for uncut qubits\n",
    "\n",
    "main_pauli_strings = pauli_strings.copy()\n",
    "\n",
    "grouped_paulis = []   # Grouping of all the observables in the Hamiltonian\n",
    "grouped_coeffs = []   # Grouping of all the coefficients in the Hamiltonian\n",
    "\n",
    "u_grouped_paulis = [] # Grouping of Subcircuit_u observables in the Hamiltonian\n",
    "v_grouped_paulis = [] # Grouping of Subcircuit_v observables in the Hamiltonian\n",
    "\n",
    "H_coeff = hamiltonian.coeffs     # Hamoltonian coefficients\n",
    "H_coeff = [float(c) for c in H_coeff]\n",
    "\n",
    "for test in sorted(u_obs_list):\n",
    "    tmp_ob = []\n",
    "    tmp_coeff = []\n",
    "    tmp_coeffs = []\n",
    "    tmp_u = []\n",
    "    tmp_v = []\n",
    "    for i, word in enumerate(pauli_strings):\n",
    "        if word[1] + word[3] == test:       # group observables based on the obserabes of A0 and A1\n",
    "            tmp_ob.append(word)\n",
    "            tmp_u.append(word[1] + word[3]) # extract observables for qubits labelled A0 and A1\n",
    "            tmp_v.append(word[0] + word[2]) # extract observables for qubits labelled C0 and B0\n",
    "            tmp_coeffs.append(H_coeff[i])\n",
    "            tmp_coeff.append(float(H_coeff[i]))\n",
    "    for j, k in zip(tmp_ob, tmp_coeff):\n",
    "        pauli_strings.remove(j)\n",
    "        H_coeff.remove(k)\n",
    "        \n",
    "    grouped_paulis.append(tmp_ob)\n",
    "    grouped_coeffs.append(tmp_coeffs)\n",
    "    u_grouped_paulis.append(tmp_u)  \n",
    "    v_grouped_paulis.append(tmp_v) "
   ]
  },
  {
   "cell_type": "code",
   "execution_count": null,
   "metadata": {},
   "outputs": [],
   "source": []
  },
  {
   "cell_type": "code",
   "execution_count": 12,
   "metadata": {},
   "outputs": [],
   "source": [
    "##################### Defining Subcircuits ##################################\n",
    "\n",
    "\n",
    "N_A_wires = 2\n",
    "N_B_wires = 1\n",
    "N_C_wires = 1\n",
    "\n",
    "\n",
    "N_AB_wires = N_A_wires + N_B_wires            # subcircuit_AB total wires\n",
    "N_BC_wires = N_B_wires + N_C_wires            # subcircuit_BC total wires\n",
    "N_wires = N_A_wires + N_B_wires + N_C_wires   # total wires in circuit\n",
    "\n",
    "# Generating labels for the differenct wires\n",
    "A_wires = [\"A\" + str(x) for x in list(range(N_A_wires))]\n",
    "B_wires = [\"B\" + str(x) for x in list(range(N_B_wires))]\n",
    "C_wires = [\"C\" + str(x) for x in list(range(N_C_wires))]\n",
    "\n",
    "# mapping the wires to their respective labels\n",
    "A_wire_map = {x: idx for idx, x in enumerate(A_wires)}\n",
    "B_wire_map = {x: idx for idx, x in enumerate(B_wires)}\n",
    "C_wire_map = {x: idx for idx, x in enumerate(C_wires)}\n",
    "\n",
    "# wire labels for the different subcircuits\n",
    "AB_wires = [A_wires[0]] + B_wires + [A_wires[1]]             # subcircuit_AB wire labels\n",
    "BC_wires = C_wires  + B_wires            # subcircuit_BC twire labels\n",
    "all_wires = C_wires + AB_wires   # total wire labels\n",
    "\n",
    "# wire mapping for the different subcircuits\n",
    "AB_wires_map = {x: idx for idx, x in enumerate(AB_wires)}\n",
    "BC_wires_map = {x: idx for idx, x in enumerate(BC_wires)}\n",
    "all_wires_map = {x: idx for idx, x in enumerate(all_wires)}\n",
    "\n",
    "# Generating and ordering Pauli group for N_B_wires\n",
    "N_B_grouped = qml.grouping.partition_pauli_group(N_B_wires)\n",
    "N_B_grouped_flat = [term for group in N_B_grouped for term in group]\n",
    "N_B_order = qml.math.argsort(N_B_grouped_flat)\n",
    "N_B_pauli_word = qml.math.array(N_B_grouped_flat)[N_B_order]\n",
    "opt_pauli_string = [P for P in N_B_pauli_word if all( [c in set('IZ') for c in P])]\n",
    "\n",
    "# Pauli I and Z and their respective eigenvectors and eigenvalues\n",
    "I = [\"0\", \"1\"]                   # eigenvectors of I\n",
    "I_sign = qml.math.array([1, 1])  # eigenvalues of I\n",
    "\n",
    "Z = [\"0\", \"1\"]                   # eigenvectors of Z\n",
    "Z_sign = qml.math.array([1, -1]) # eigenvalues of Z\n",
    "\n",
    "meas_to_prep_state_dic = {\"I\":I, \"Z\":Z}           # Dictionary for eigenvectors\n",
    "meas_to_prep_sign_dic = {\"I\":I_sign, \"Z\":Z_sign}  # Dictionary for eigenvalues\n",
    "\n",
    "def observables_and_eigenvalues_u(obs):\n",
    "    # Observable for the uncut qubits (A0 and A1) of subcircuit_u\n",
    "    N_A_pauli_word = obs\n",
    "\n",
    "    # Pauli strings for the subcircuit_u\n",
    "    # sandwich qubit B0 between qubits A0 and A1\n",
    "    AB_pauli_labels = [N_A_pauli_word[0] + word + N_A_pauli_word[1] for word in N_B_pauli_word]\n",
    "\n",
    "    # convert the Pauli strings to Pauli observables mappped to the respective wires\n",
    "    AB_paulis = [qml.grouping.string_to_pauli_word(P, wire_map=AB_wires_map) \n",
    "                  for P in AB_pauli_labels]\n",
    "\n",
    "    # Paulis with only Z or I\n",
    "    opt_paulis = [qml.grouping.string_to_pauli_word(P, wire_map=AB_wires_map) \n",
    "                  for P, B in zip(AB_pauli_labels, N_B_pauli_word) if \n",
    "                  all( [c in set('IZ') for c in B]\n",
    "    )]\n",
    "\n",
    "    eig_list = []\n",
    "    for string in opt_pauli_string:\n",
    "        eig = 0\n",
    "        for indx, ob in enumerate(string):\n",
    "            if indx==0:\n",
    "                eig = meas_to_prep_sign_dic[ob]\n",
    "            else:\n",
    "                eig = qml.math.kron(eig, meas_to_prep_sign_dic[ob])\n",
    "        eig_list.append(list(eig))\n",
    "\n",
    "    eigvals = np.array(eig_list)\n",
    "    \n",
    "    return N_A_pauli_word, AB_paulis, AB_pauli_labels, opt_paulis, eigvals\n"
   ]
  },
  {
   "cell_type": "code",
   "execution_count": 13,
   "metadata": {},
   "outputs": [],
   "source": [
    "def main_and_v_observables(obs):\n",
    "    \"\"\"\n",
    "    return the observables for subcircuit_v and the observable for the entire circuit\n",
    "    \"\"\"\n",
    "    # Pauli strings for qubits B0 and C0 of subcircuits_v\n",
    "    N_BC_pauli_word = obs[0] + obs[2]\n",
    "    BC_pauli_labels = [N_BC_pauli_word]\n",
    "\n",
    "    BC_paulis = [qml.grouping.string_to_pauli_word(P, wire_map=BC_wires_map) \n",
    "                      for P in BC_pauli_labels]\n",
    "\n",
    "    op = qml.grouping.string_to_pauli_word(obs, wire_map=all_wires_map)\n",
    "    return BC_paulis, BC_pauli_labels, op"
   ]
  },
  {
   "cell_type": "code",
   "execution_count": 14,
   "metadata": {},
   "outputs": [],
   "source": [
    "# Define ricco Parameters\n",
    "ricco_params = np.random.uniform(-np.pi, np.pi, size=4**N_B_wires-1)\n",
    "\n",
    "# parameters for vqe gates\n",
    "# vqe_params = np.random.uniform(low=0, high=2 * np.pi, size=12, requires_grad=True)\n",
    "vqe_params = init_params"
   ]
  },
  {
   "cell_type": "code",
   "execution_count": 15,
   "metadata": {},
   "outputs": [
    {
     "data": {
      "text/plain": [
       "tensor(0.01929463, requires_grad=True)"
      ]
     },
     "execution_count": 15,
     "metadata": {},
     "output_type": "execute_result"
    },
    {
     "data": {
      "image/png": "[encoded data removed]",
      "text/plain": [
       "<Figure size 648x360 with 1 Axes>"
      ]
     },
     "metadata": {},
     "output_type": "display_data"
    }
   ],
   "source": [
    "fig, _ = qml.draw_mpl(cost)(vqe_params)\n",
    "cost(vqe_params)"
   ]
  },
  {
   "cell_type": "code",
   "execution_count": 16,
   "metadata": {},
   "outputs": [],
   "source": [
    "dev = qml.device(\"lightning.qubit\", wires=all_wires)\n",
    "hf_state = np.array([1, 1, 0, 0], requires_grad=False)\n",
    "\n",
    "def modified_ansatz(vqe_params, wires=all_wires):\n",
    "    # qml.BasisState(hf_state, wires=wires)\n",
    "    qml.PauliX(wires=wires[0])\n",
    "    qml.PauliX(wires=wires[1])\n",
    "    for i, j in enumerate(wires):\n",
    "        qml.RZ(vqe_params[3 * i], wires=j)\n",
    "        qml.RY(vqe_params[3 * i + 1], wires=j)\n",
    "        qml.RZ(vqe_params[3 * i + 2], wires=j)\n",
    "    qml.CNOT(wires=[wires[2], wires[3]])\n",
    "    \n",
    "    qml.WireCut(wires=wires[2])\n",
    "    \n",
    "    qml.CNOT(wires=[wires[2], wires[0]])\n",
    "    qml.CNOT(wires=[wires[3], wires[1]])"
   ]
  },
  {
   "cell_type": "code",
   "execution_count": 17,
   "metadata": {},
   "outputs": [],
   "source": [
    "@qml.qnode(dev)\n",
    "def modified_cost(_vqe_params):\n",
    "    modified_ansatz(_vqe_params, wires=all_wires)\n",
    "    return qml.expval(modified_hamiltonian)"
   ]
  },
  {
   "cell_type": "code",
   "execution_count": 18,
   "metadata": {},
   "outputs": [],
   "source": [
    "wires_map = {i:j for i,j in zip(range(N_wires), all_wires)}\n",
    "\n",
    "wires_AB_map = {key: value for key,value in wires_map.items() if ('A' in value or 'B' in value)}\n",
    "\n",
    "wires_BC_map = {key: value for key,value in wires_map.items() if ('C' in value)}"
   ]
  },
  {
   "cell_type": "code",
   "execution_count": 19,
   "metadata": {},
   "outputs": [],
   "source": [
    "import copy\n",
    "def map_wires(H, wires_map):\n",
    "    \"\"\"Map the wires of an Observable according to a wires map.\n",
    "    \n",
    "    Args:\n",
    "        H (Hamiltonian or Tensor or Observable): Hamiltonian to remap the wires of.\n",
    "        wires_map (dict): Wires map with `(origin, destination)` pairs as key-value pairs.\n",
    "    \n",
    "    Returns:\n",
    "        Hamiltonian or Tensor or Observable: A copy of the original Hamiltonian with remapped wires.\n",
    "    \"\"\"\n",
    "    if isinstance(H, qml.Hamiltonian):\n",
    "        new_ops = [map_wires(op, wires_map) for op in H.ops]\n",
    "        new_H = qml.Hamiltonian(H.coeffs, new_ops)\n",
    "    elif isinstance(H, qml.operation.Tensor):\n",
    "        new_obs = [map_wires(ob, wires_map) for ob in H.obs]\n",
    "        new_H = qml.operation.Tensor(*new_obs)\n",
    "    elif isinstance(H, qml.operation.Observable):\n",
    "        new_H = copy.copy(H)\n",
    "        new_H._wires = new_H.wires.map(wires_map)\n",
    "        \n",
    "    return new_H\n",
    "\n",
    "modified_hamiltonian = map_wires(hamiltonian, wires_map)"
   ]
  },
  {
   "cell_type": "code",
   "execution_count": 20,
   "metadata": {},
   "outputs": [
    {
     "data": {
      "text/plain": [
       "tensor(0.01929463, requires_grad=True)"
      ]
     },
     "execution_count": 20,
     "metadata": {},
     "output_type": "execute_result"
    },
    {
     "data": {
      "image/png": "[encoded data removed]",
      "text/plain": [
       "<Figure size 720x360 with 1 Axes>"
      ]
     },
     "metadata": {},
     "output_type": "display_data"
    }
   ],
   "source": [
    "fig, _ = qml.draw_mpl(modified_cost)(vqe_params)\n",
    "modified_cost(vqe_params)"
   ]
  },
  {
   "cell_type": "code",
   "execution_count": 21,
   "metadata": {},
   "outputs": [],
   "source": [
    "# intentionally did this for variables  BC_paulis, op\n",
    "bc_and_all_obs = []\n",
    "for group in grouped_paulis:\n",
    "    tmp_group = []\n",
    "    for obs in group:\n",
    "        BC_paulis, BC_pauli_labels, op = main_and_v_observables(obs)\n",
    "        tmp_group.append([BC_paulis, BC_pauli_labels, op])\n",
    "    bc_and_all_obs.append(tmp_group)"
   ]
  },
  {
   "cell_type": "code",
   "execution_count": 22,
   "metadata": {},
   "outputs": [],
   "source": [
    "# intentionally did this for variables  AB_paulis, opt_paulis\n",
    "opt_list = []\n",
    "for obs in u_obs_list:\n",
    "    N_A_pauli_word, AB_paulis, AB_pauli_labels, opt_paulis, eigvals = \\\n",
    "                                                        observables_and_eigenvalues_u(obs)\n",
    "    opt_list.append([N_A_pauli_word, AB_paulis, AB_pauli_labels, opt_paulis, eigvals])"
   ]
  },
  {
   "cell_type": "code",
   "execution_count": 23,
   "metadata": {},
   "outputs": [],
   "source": [
    "N_A_pauli_word, AB_paulis, AB_pauli_labels, opt_paulis, eigvals = opt_list[0]\n",
    "BC_paulis, BC_pauli_labels, op = bc_and_all_obs[0][0]"
   ]
  },
  {
   "cell_type": "code",
   "execution_count": 24,
   "metadata": {},
   "outputs": [],
   "source": [
    "def vqe_template_AB(vqe_params, wires=AB_wires):\n",
    "    qml.PauliX(wires=wires[0])\n",
    "    for i, j in wires_AB_map.items():\n",
    "        qml.RZ(vqe_params[3 * i], wires=j)\n",
    "        qml.RY(vqe_params[3 * i + 1], wires=j)\n",
    "        qml.RZ(vqe_params[3 * i + 2], wires=j)\n",
    "    qml.CNOT(wires=[wires[1], wires[2]])\n",
    "    \n",
    "    qml.CNOT(wires=[wires[2], wires[0]])"
   ]
  },
  {
   "cell_type": "code",
   "execution_count": 25,
   "metadata": {},
   "outputs": [],
   "source": [
    "def vqe_template_BC(vqe_params, wires=BC_wires):\n",
    "    qml.PauliX(wires=wires[0])\n",
    "    for i, j in wires_BC_map.items():\n",
    "        qml.RZ(vqe_params[3 * i], wires=j)\n",
    "        qml.RY(vqe_params[3 * i + 1], wires=j)\n",
    "        qml.RZ(vqe_params[3 * i + 2], wires=j)\n",
    "    \n",
    "    qml.CNOT(wires=[wires[1], wires[0]])"
   ]
  },
  {
   "cell_type": "code",
   "execution_count": 26,
   "metadata": {},
   "outputs": [],
   "source": [
    "# Unitary operator to be used at cut location for one qubit cut\n",
    "def one_qubit_unitary(ricco_params, wires):\n",
    "    \"\"\"Ansatz for a general two-qubit unitary V.\"\"\"\n",
    "    qml.Rot(*ricco_params, wires=B_wires)\n",
    "\n",
    "# Conjugate of Unitary operator to be used at cut location for one qubit cut\n",
    "def one_qubit_unitary_dagger(ricco_params, wires):\n",
    "    \"\"\"Ansatz for a general two-qubit unitary V.\"\"\"\n",
    "    qml.adjoint(one_qubit_unitary)(ricco_params, wires)"
   ]
  },
  {
   "cell_type": "code",
   "execution_count": 27,
   "metadata": {},
   "outputs": [],
   "source": [
    "def quantum_function_for_AB(vqe_params, ricco_params):\n",
    "    vqe_template_AB(vqe_params) # Using optimal_params for template cct.\n",
    "    one_qubit_unitary(ricco_params, wires=B_wires)\n",
    "    \n",
    "def quantum_function_for_BC(vqe_params, ricco_params):\n",
    "    one_qubit_unitary_dagger(ricco_params, wires=B_wires)\n",
    "    vqe_template_BC(vqe_params) # Using optimal_params for template cct."
   ]
  },
  {
   "cell_type": "code",
   "execution_count": 28,
   "metadata": {},
   "outputs": [],
   "source": [
    "# Defining the first half of the cut circuit - Subcircuit_AB\n",
    "dev = qml.device(\"lightning.qubit\", wires=AB_wires)\n",
    "    \n",
    "@qml.qnode(dev)\n",
    "def subcircuit_for_AB(vqe_params, ricco_params, opt_paulis):\n",
    "    quantum_function_for_AB(vqe_params, ricco_params)\n",
    "    return [qml.expval(P) for P in opt_paulis]\n",
    "\n",
    "@qml.qnode(dev)\n",
    "def subcircuit_for_test(vqe_params, ricco_params, AB_paulis):\n",
    "    quantum_function_for_AB(vqe_params, ricco_params)\n",
    "    return [qml.expval(P) for P in AB_paulis]"
   ]
  },
  {
   "cell_type": "code",
   "execution_count": 29,
   "metadata": {},
   "outputs": [
    {
     "data": {
      "image/png": "[encoded data removed]",
      "text/plain": [
       "<Figure size 864x432 with 1 Axes>"
      ]
     },
     "metadata": {},
     "output_type": "display_data"
    }
   ],
   "source": [
    "fig, _ = qml.draw_mpl(subcircuit_for_AB)(vqe_params, ricco_params, opt_paulis)\n",
    "fig.set_size_inches(12,6)"
   ]
  },
  {
   "cell_type": "code",
   "execution_count": 30,
   "metadata": {},
   "outputs": [],
   "source": [
    "# Defining the second half of the cut circuit - Subcircuit_BC\n",
    "dev = qml.device(\"lightning.qubit\", wires=BC_wires)\n",
    "    \n",
    "@qml.qnode(dev)\n",
    "def subcircuit_for_BC(vqe_params, ricco_params, BC_paulis):\n",
    "    quantum_function_for_BC(vqe_params, ricco_params)\n",
    "    return [qml.expval(P) for P in BC_paulis]"
   ]
  },
  {
   "cell_type": "code",
   "execution_count": 31,
   "metadata": {},
   "outputs": [
    {
     "data": {
      "image/png": "[encoded data removed]",
      "text/plain": [
       "<Figure size 864x432 with 1 Axes>"
      ]
     },
     "metadata": {},
     "output_type": "display_data"
    }
   ],
   "source": [
    "fig, _ = qml.draw_mpl(subcircuit_for_BC)(vqe_params, ricco_params, BC_paulis)\n",
    "fig.set_size_inches(12,6)"
   ]
  },
  {
   "cell_type": "markdown",
   "metadata": {},
   "source": [
    "### Sanity Checks"
   ]
  },
  {
   "cell_type": "code",
   "execution_count": 32,
   "metadata": {},
   "outputs": [
    {
     "data": {
      "text/plain": [
       "tensor(0.01929463, requires_grad=True)"
      ]
     },
     "execution_count": 32,
     "metadata": {},
     "output_type": "execute_result"
    },
    {
     "data": {
      "image/png": "[encoded data removed]",
      "text/plain": [
       "<Figure size 864x360 with 1 Axes>"
      ]
     },
     "metadata": {},
     "output_type": "display_data"
    }
   ],
   "source": [
    "# Original uncut circuit with parameterized unitaries at cut locations\n",
    "dev = qml.device(\"lightning.qubit\", wires=all_wires)\n",
    "@qml.qnode(dev)\n",
    "def combined_circuit(params):\n",
    "    quantum_function_for_AB(vqe_params, ricco_params)\n",
    "    qml.WireCut(wires=B_wires)\n",
    "    quantum_function_for_BC(vqe_params, ricco_params)\n",
    "    return qml.expval(modified_hamiltonian)\n",
    "\n",
    "fig, ax = qml.draw_mpl(combined_circuit)(params)\n",
    "combined_expval = combined_circuit(params)\n",
    "combined_expval"
   ]
  },
  {
   "cell_type": "code",
   "execution_count": 33,
   "metadata": {},
   "outputs": [
    {
     "data": {
      "text/plain": [
       "tensor(0.01929463, requires_grad=True)"
      ]
     },
     "execution_count": 33,
     "metadata": {},
     "output_type": "execute_result"
    },
    {
     "data": {
      "image/png": "[encoded data removed]",
      "text/plain": [
       "<Figure size 720x360 with 1 Axes>"
      ]
     },
     "metadata": {},
     "output_type": "display_data"
    }
   ],
   "source": [
    "# Original uncut circuit with parameterized unitaries at cut locations\n",
    "dev = qml.device(\"lightning.qubit\", wires=all_wires)\n",
    "@qml.qnode(dev)\n",
    "def uncut_circuit():\n",
    "    vqe_template_AB(vqe_params)\n",
    "    qml.WireCut(wires=B_wires)\n",
    "    vqe_template_BC(vqe_params)\n",
    "    return qml.expval(modified_hamiltonian)\n",
    "\n",
    "fig, ax = qml.draw_mpl(uncut_circuit)()\n",
    "uncut_expval = uncut_circuit()\n",
    "uncut_expval"
   ]
  },
  {
   "cell_type": "code",
   "execution_count": 34,
   "metadata": {},
   "outputs": [
    {
     "data": {
      "text/plain": [
       "tensor(0.01929463, requires_grad=True)"
      ]
     },
     "execution_count": 34,
     "metadata": {},
     "output_type": "execute_result"
    }
   ],
   "source": [
    "modified_cost(vqe_params)"
   ]
  },
  {
   "cell_type": "code",
   "execution_count": 35,
   "metadata": {
    "tags": []
   },
   "outputs": [],
   "source": [
    "import numpy as np\n",
    "from qiskit.quantum_info import Pauli, Statevector\n",
    "\n",
    "def construct_M_x(pauli_operators):\n",
    "    \"\"\"\n",
    "    Constructs the M_x matrix with expectation values of Pauli operators \n",
    "    with respect to computational basis states.\n",
    "\n",
    "    Parameters:\n",
    "    - pauli_operators: List of Pauli strings (e.g., ['ZI', 'ZZ']).\n",
    "    - num_cut_qubits: Number of cut qubits in the system. This is usually the last\n",
    "                      k-qubits from the end of the pauli_operators\n",
    "\n",
    "    Returns:\n",
    "    - M_x: A numpy matrix of shape (len(pauli_operators), 2^num_qubits).\n",
    "    \"\"\"\n",
    "\n",
    "    # Number of basis states\n",
    "    num_qubits = len(pauli_operators[0])\n",
    "    num_basis_states = 2 ** num_qubits\n",
    "\n",
    "    # Initialize the matrix M_x\n",
    "    M_x = np.zeros((num_basis_states, len(pauli_operators)))\n",
    "\n",
    "    # Compute expectation values for Pauli operator P_i\n",
    "    for col, pauli_str in enumerate(pauli_operators):\n",
    "\n",
    "        # Loop through all computational basis states\n",
    "        for row, state_int in enumerate(range(num_basis_states)):\n",
    "            # Generate the computational basis state |x⟩ as a Statevector\n",
    "            basis_state = Statevector.from_label(f\"{state_int:0{num_qubits}b}\")\n",
    "            pauli = Pauli(pauli_str)\n",
    "            expectation_value = basis_state.expectation_value(pauli)\n",
    "            M_x[row, col] = np.real(expectation_value)  # Store the real part\n",
    "        \n",
    "\n",
    "    return M_x\n",
    "\n",
    "# # Example usage:\n",
    "# pauli_operators = ['ZZ', 'ZI']  # List of Pauli strings for 1 qubit\n",
    "# # num_qubits = 2  # Number of qubits in the system\n",
    "# M_x = construct_M_x(pauli_operators)\n",
    "\n",
    "# print(\"Constructed M_x matrix:\")\n",
    "# print(M_x)\n"
   ]
  },
  {
   "cell_type": "code",
   "execution_count": 36,
   "metadata": {
    "tags": []
   },
   "outputs": [
    {
     "data": {
      "text/plain": [
       "['III', 'IXI', 'IYI', 'IZI']"
      ]
     },
     "execution_count": 36,
     "metadata": {},
     "output_type": "execute_result"
    }
   ],
   "source": [
    "AB_pauli_labels"
   ]
  },
  {
   "cell_type": "code",
   "execution_count": 37,
   "metadata": {},
   "outputs": [],
   "source": [
    "def ricco_optimizer(init_ricco_params, ricco_params, opt_list, vqe_params):\n",
    "    \"\"\"\n",
    "    This function performs optimization on the RICCO parameters alone.\n",
    "    Input---> opt_list: a list containing the observables in the Hamiltonian for \n",
    "                        subcircuit_AB to be optimized and their eigenvalues. Gotten from\n",
    "                        the results of this function `observables_and_eigenvalues_u(obs)`\n",
    "    Output--> opt_params_list: list containing the optimized values of the RICCO parameters\n",
    "                               for each observable in the Hamiltonian\n",
    "              opt_cost_list: a list of the cost during optimization for each observable in \n",
    "                             the Hamiltonian\n",
    "              opt_exec_list: list of the number of executions during the optimization of each\n",
    "                             observable of the Hamiltonian\n",
    "              outputs_list: a list of the optimized expectation values of observables for each\n",
    "                            Hamiltonian term (or observable)\n",
    "    \"\"\"\n",
    "    \n",
    "\n",
    "    opt_params_list = []\n",
    "    opt_cost_list = []\n",
    "    # opt_exec_list = []\n",
    "\n",
    "    labels_and_eignenvalues = []\n",
    "\n",
    "    for indx, opt in enumerate(opt_list):\n",
    "        # chose from init_ricco_params only after the first round of optimization\n",
    "        if init_ricco_params:\n",
    "            ricco_params = init_ricco_params[indx]\n",
    "        else:\n",
    "            ricco_params = ricco_params\n",
    "\n",
    "        N_A_pauli_word, AB_paulis, AB_pauli_labels, opt_paulis, eigvals = opt\n",
    "\n",
    "        labels_and_eignenvalues.append([N_A_pauli_word, AB_paulis, AB_pauli_labels, eigvals])\n",
    "\n",
    "#         def cost_function(ricco_params):\n",
    "            \n",
    "#             expvals = subcircuit_for_AB(vqe_params, ricco_params, opt_paulis)\n",
    "                \n",
    "#             F = (1 - ((1/2**N_B_wires)**(2**N_B_wires))*np.sum(expvals \n",
    "#                                                                * eigvals, axis=1))**2\n",
    "#             return np.prod(F)\n",
    "        \n",
    "        def cost_function(ricco_params):\n",
    "            expvals = subcircuit_for_AB(vqe_params, ricco_params, opt_paulis)\n",
    "            F = -np.abs(expvals)\n",
    "            return np.sum(F)\n",
    "        \n",
    "        # def cost_function(ricco_params):\n",
    "        #     expvals = subcircuit_for_AB(vqe_params, ricco_params, opt_paulis)\n",
    "        #     # F = np.abs(expvals)\n",
    "        #     F = expvals * eigvals\n",
    "        #     F = np.abs(F)\n",
    "        #     return -np.sum(F)\n",
    "        \n",
    "        # def cost_function(ricco_params):\n",
    "        #     expvals = subcircuit_for_AB(vqe_params, ricco_params, opt_paulis)\n",
    "        #     F = np.abs(expvals)\n",
    "        #     return (1 -(1/(2**N_B_wires-1))*np.sum(F))**2\n",
    "\n",
    "        \n",
    "        N_steps = 0\n",
    "        conv_tol = 1e-6\n",
    "        # step_size = step_size\n",
    "        tol = 10\n",
    "        ricco_opt = qml.AdamOptimizer(stepsize=step_size)\n",
    "        cost = []\n",
    "        prev_cost = 100\n",
    "        while tol > conv_tol:\n",
    "            cost.append(prev_cost)\n",
    "            ricco_params, new_cost = ricco_opt.step_and_cost(cost_function, ricco_params)\n",
    "\n",
    "            # Calculate difference between new and old energies\n",
    "            tol = np.abs((prev_cost - new_cost))\n",
    "            prev_cost = new_cost\n",
    "            N_steps += 1\n",
    "\n",
    "        opt_params_list.append(ricco_params)\n",
    "        opt_cost_list.append(cost)\n",
    "        # opt_exec_list.append(AB_tracker.totals[\"executions\"])\n",
    "        # outputs_list.append(subcircuit_for_test(vqe_params, ricco_params, AB_paulis))\n",
    "        \n",
    "    return opt_params_list, opt_cost_list"
   ]
  },
  {
   "cell_type": "code",
   "execution_count": null,
   "metadata": {},
   "outputs": [],
   "source": []
  },
  {
   "cell_type": "code",
   "execution_count": 38,
   "metadata": {},
   "outputs": [],
   "source": [
    "# Defining the first half of the cut circuit - Subcircuit_AB\n",
    "dev = qml.device(\"lightning.qubit\", wires=AB_wires)\n",
    "    \n",
    "@qml.qnode(dev)\n",
    "def subcircuit_for_AB_reconst(vqe_params, ricco_params, opt_paulis):\n",
    "    quantum_function_for_AB(vqe_params, ricco_params)\n",
    "    return [qml.expval(P) for P in opt_paulis]"
   ]
  },
  {
   "cell_type": "code",
   "execution_count": 39,
   "metadata": {},
   "outputs": [],
   "source": [
    "# Subcircuit_BC redefined to account for initializations\n",
    "dev = qml.device(\"lightning.qubit\", wires=BC_wires)\n",
    "\n",
    "@qml.qnode(dev)\n",
    "def subcircuit_for_BC_reconst(init, vqe_params, ricco_params, BC_paulis):\n",
    "    for i, state in enumerate(init):\n",
    "        if state == \"1\":\n",
    "            qml.PauliX(wires=B_wires[i])\n",
    "\n",
    "    quantum_function_for_BC(vqe_params, ricco_params)\n",
    "    return [qml.expval(P) for P in BC_paulis]"
   ]
  },
  {
   "cell_type": "code",
   "execution_count": 40,
   "metadata": {},
   "outputs": [],
   "source": [
    "def compute_expval(prepare_result, measure_result, opt_pauli_string, AB_pauli_labels, N_B_pauli_word):\n",
    "    expectations = []\n",
    "    for string in opt_pauli_string:\n",
    "        for indx, ob in enumerate(string):\n",
    "            if indx == 0:\n",
    "                x_state = meas_to_prep_state_dic[ob]\n",
    "                x_sign = meas_to_prep_sign_dic[ob]\n",
    "            else:\n",
    "                y_state = meas_to_prep_state_dic[ob]\n",
    "                y_sign = meas_to_prep_sign_dic[ob]\n",
    "\n",
    "                x_state = [m+n for m, n in list(product(x_state, y_state))]\n",
    "                x_sign = qml.math.kron(x_sign, y_sign)\n",
    "\n",
    "        p_word = [word for word, B in zip(AB_pauli_labels, N_B_pauli_word)\n",
    "               if all( [c in set(string) for c in B])][0]\n",
    "        meas_expval = measure_result[p_word]\n",
    "\n",
    "        prep_values = []\n",
    "        for state in x_state:\n",
    "            prep_values.append(prepare_result[state])\n",
    "\n",
    "\n",
    "        prep_expval = np.array(prep_values)\n",
    "\n",
    "        combined_expval = meas_expval * prep_expval\n",
    "        expectations.append(np.dot(combined_expval, x_sign))\n",
    "\n",
    "    total_expval = 1/(2**N_B_wires) * np.sum(np.array(expectations))\n",
    "\n",
    "    return total_expval"
   ]
  },
  {
   "cell_type": "code",
   "execution_count": 41,
   "metadata": {},
   "outputs": [],
   "source": [
    "# ###### Recontruction of Original Circuit's Expectation Value\n",
    "\n",
    "def ricco_reconstruction(vqe_params, opt_params_list, opt_list, bc_and_all_obs, num_shots):\n",
    "    \"\"\"\n",
    "    This function is used to reconstruct the expectation value of the Halmiltonian\n",
    "    after the optimization of RICCO parameters.\n",
    "    Input ---> opt_params_list: List of optimized RICCO parameters.\n",
    "               bc_and_all_obs: List of all obersavables in the Hamiltonian that belong\n",
    "                               to subcircuit_BC and the full observables that make up the \n",
    "                               Hamiltonian\n",
    "               num_shots:  The number of shots need to execute each circuit\n",
    "    Output --> ricco_expval: The expectation value of the reconstructed circuit using RICCO\n",
    "    \"\"\"\n",
    "    expvals = []\n",
    "    executions = []\n",
    "    for indx, ricco_params in enumerate(opt_params_list): \n",
    "        N_A_pauli_word, AB_paulis, AB_pauli_labels, opt_paulis, eigvals = opt_list[indx]\n",
    "        \n",
    "        # Measurement of Subcircuit_AB\n",
    "        meas = subcircuit_for_AB_reconst(vqe_params, ricco_params, opt_paulis, shots=num_shots)\n",
    "        # Dictionary for Subcircuit_AB expectation values\n",
    "        meas_labels = [word for word, B in zip(AB_pauli_labels, N_B_pauli_word)\n",
    "                       if all( [c in set('IZ') for c in B])]\n",
    "\n",
    "        # measure_result = {key: value.item() for key, value in zip(meas_labels, meas)}\n",
    "        measure_result = {key: value for key, value in zip(meas_labels, meas)}\n",
    "        \n",
    "        # Begin subcircuit_v\n",
    "        for j, obs in enumerate(bc_and_all_obs[indx]):\n",
    "            BC_paulis, BC_pauli_labels, op = obs\n",
    "            \n",
    "            coeffs = grouped_coeffs[indx][j]   # Get the coefficient associate with the observable\n",
    "\n",
    "            # states combinations for observables I and Z for one and two qubits\n",
    "            if N_B_wires == 1:\n",
    "                states = Z\n",
    "            else:\n",
    "                states = [m+n for m, n in list(product(I, Z))]\n",
    "\n",
    "            \n",
    "            # Measurement of Subcircuit_BC with initializations\n",
    "            prep_measurements = []\n",
    "            for init in states:\n",
    "                prep_meas = subcircuit_for_BC_reconst(init, vqe_params, ricco_params, BC_paulis)[0]\n",
    "                prep_measurements.append(prep_meas)\n",
    "\n",
    "            # Dictionary for Subcircuit_BC expectation values\n",
    "            prep = np.array(prep_measurements)\n",
    "            prep_labels = states\n",
    "            prepare_result = {key: value for key, value in zip(prep_labels, prep)}\n",
    "            \n",
    "            value = compute_expval(prepare_result, measure_result, opt_pauli_string, \n",
    "                                   AB_pauli_labels, N_B_pauli_word)\n",
    "            \n",
    "            expvals.append(coeffs * value)\n",
    "            \n",
    "            \n",
    "\n",
    "    ricco_expval = np.sum(np.array(expvals))\n",
    "    \n",
    "    return ricco_expval"
   ]
  },
  {
   "cell_type": "code",
   "execution_count": 42,
   "metadata": {},
   "outputs": [],
   "source": [
    "def ricco_expectation(vqe_params, opt_list, num_shots):\n",
    "    ricco_expval = ricco_reconstruction(vqe_params, opt_params_list, opt_list, \n",
    "                                        bc_and_all_obs, num_shots)\n",
    "    return ricco_expval"
   ]
  },
  {
   "cell_type": "code",
   "execution_count": 43,
   "metadata": {},
   "outputs": [
    {
     "data": {
      "text/plain": [
       "0.020044264593815017"
      ]
     },
     "execution_count": 43,
     "metadata": {},
     "output_type": "execute_result"
    }
   ],
   "source": [
    "init_ricco_params = []\n",
    "opt_params_list, opt_cost_list = ricco_optimizer(init_ricco_params, ricco_params, opt_list, vqe_params)\n",
    "ricco_reconstruction(vqe_params, opt_params_list, opt_list, bc_and_all_obs, num_shots=None)"
   ]
  },
  {
   "cell_type": "code",
   "execution_count": 44,
   "metadata": {},
   "outputs": [],
   "source": [
    "# ricco_reconstruction(vqe_params, opt_params_list, opt_list, bc_and_all_obs, num_shots=None)"
   ]
  },
  {
   "cell_type": "code",
   "execution_count": 45,
   "metadata": {},
   "outputs": [
    {
     "data": {
      "text/plain": [
       "tensor(0.01929463, requires_grad=True)"
      ]
     },
     "execution_count": 45,
     "metadata": {},
     "output_type": "execute_result"
    }
   ],
   "source": [
    "modified_cost(vqe_params)"
   ]
  },
  {
   "cell_type": "code",
   "execution_count": 46,
   "metadata": {},
   "outputs": [
    {
     "ename": "TypeError",
     "evalue": "unsupported format string passed to ArrayBox.__format__",
     "output_type": "error",
     "traceback": [
      "\u001b[0;31m---------------------------------------------------------------------------\u001b[0m",
      "\u001b[0;31mTypeError\u001b[0m                                 Traceback (most recent call last)",
      "\u001b[0;32m/tmp/ipykernel_58182/947216528.py\u001b[0m in \u001b[0;36m<module>\u001b[0;34m\u001b[0m\n\u001b[1;32m     38\u001b[0m                 \u001b[0;32mif\u001b[0m \u001b[0mn\u001b[0m \u001b[0;34m%\u001b[0m \u001b[0;36m20\u001b[0m \u001b[0;34m==\u001b[0m \u001b[0;36m0\u001b[0m\u001b[0;34m:\u001b[0m\u001b[0;34m\u001b[0m\u001b[0;34m\u001b[0m\u001b[0m\n\u001b[1;32m     39\u001b[0m                     print(\n\u001b[0;32m---> 40\u001b[0;31m                         \u001b[0;34m\"Iteration = {:},  Energy = {:.8f} Ha,  Convergence parameter = {\"\u001b[0m\u001b[0;34m\u001b[0m\u001b[0;34m\u001b[0m\u001b[0m\n\u001b[0m\u001b[1;32m     41\u001b[0m                         \u001b[0;34m\":.8f} Ha\"\u001b[0m\u001b[0;34m.\u001b[0m\u001b[0mformat\u001b[0m\u001b[0;34m(\u001b[0m\u001b[0mn\u001b[0m\u001b[0;34m,\u001b[0m \u001b[0menergy\u001b[0m\u001b[0;34m,\u001b[0m \u001b[0mconv\u001b[0m\u001b[0;34m)\u001b[0m\u001b[0;34m\u001b[0m\u001b[0;34m\u001b[0m\u001b[0m\n\u001b[1;32m     42\u001b[0m                     )\n",
      "\u001b[0;31mTypeError\u001b[0m: unsupported format string passed to ArrayBox.__format__"
     ]
    }
   ],
   "source": [
    "def vqe_cost_function(vqe_params):    \n",
    "    cost_expval = ricco_expectation(vqe_params, opt_list, num_shots=None)\n",
    "    return cost_expval\n",
    "\n",
    "vqe_opt = qml.AdamOptimizer(stepsize=step_size)\n",
    "\n",
    "prev_energy = 0.1\n",
    "\n",
    "# init_ricco_params = [ricco_params]*len(opt_list)\n",
    "init_ricco_params = []\n",
    "\n",
    "ricco_adam_param_history = [vqe_params]\n",
    "ricco_adam_cost_history = [prev_energy]\n",
    "\n",
    "with qml.Tracker(subcircuit_for_BC_reconst.device) as BC_tracker:\n",
    "    with qml.Tracker(subcircuit_for_AB_reconst.device) as AB_reconstruction_tracker:\n",
    "        with qml.Tracker(subcircuit_for_AB.device) as AB_optimization_tracker:\n",
    "            for n in range(max_iterations):\n",
    "\n",
    "                opt_params_list, opt_cost_list = ricco_optimizer(init_ricco_params, ricco_params, opt_list, vqe_params)\n",
    "\n",
    "                # update ricco_params\n",
    "                init_ricco_params = opt_params_list\n",
    "\n",
    "                # Take step for vqe optimization\n",
    "                vqe_params, energy = vqe_opt.step_and_cost(vqe_cost_function, vqe_params)\n",
    "\n",
    "                ricco_adam_param_history.append(vqe_params)\n",
    "                ricco_adam_cost_history.append(energy)\n",
    "\n",
    "\n",
    "                # Calculate difference between new and old energies\n",
    "                conv = np.abs(energy - prev_energy)\n",
    "\n",
    "                prev_energy = energy\n",
    "\n",
    "\n",
    "                if n % 20 == 0:\n",
    "                    print(\n",
    "                        \"Iteration = {:},  Energy = {:.8f} Ha,  Convergence parameter = {\"\n",
    "                        \":.8f} Ha\".format(n, energy, conv)\n",
    "                    )\n",
    "\n",
    "                if conv <= conv_tol:\n",
    "                    break\n",
    "\n",
    "            print()\n",
    "            print(\"Final value of the energy = {:.8f} Ha\".format(energy))\n",
    "            print(\"Number of iterations = \", n)"
   ]
  },
  {
   "cell_type": "code",
   "execution_count": null,
   "metadata": {},
   "outputs": [],
   "source": []
  },
  {
   "cell_type": "code",
   "execution_count": null,
   "metadata": {},
   "outputs": [],
   "source": []
  },
  {
   "cell_type": "markdown",
   "metadata": {},
   "source": [
    "### Qcut Starts Here!"
   ]
  },
  {
   "cell_type": "code",
   "execution_count": null,
   "metadata": {},
   "outputs": [],
   "source": [
    "dev = qml.device(\"lightning.qubit\", wires=qubits)\n",
    "@qml.cut_circuit(auto_cutter=True)\n",
    "@qml.qnode(dev)\n",
    "def qcut_cost(params):\n",
    "    ansatz(params)\n",
    "    return qml.expval(hamiltonian)"
   ]
  },
  {
   "cell_type": "code",
   "execution_count": null,
   "metadata": {},
   "outputs": [],
   "source": [
    "qcut_opt = qml.AdamOptimizer(stepsize=step_size)\n",
    "\n",
    "qcut_params = init_params\n",
    "\n",
    "qcut_adam_cost = []\n",
    "\n",
    "prev_energy = 0.1\n",
    "\n",
    "with qml.Tracker(qcut_cost.device) as qcut_tracker:\n",
    "    for n in range(max_iterations):\n",
    "        qcut_params, energy = qcut_opt.step_and_cost(qcut_cost, qcut_params)\n",
    "        qcut_adam_cost.append(energy)\n",
    "        \n",
    "        conv = np.abs(energy - prev_energy)\n",
    "        \n",
    "        prev_energy = energy\n",
    "\n",
    "        if n % 20 == 0:\n",
    "            print(\n",
    "                \"Iteration = {:},  Energy = {:.8f} Ha,  Convergence parameter = {\"\n",
    "                \":.8f} Ha\".format(n, energy, conv)\n",
    "            )\n",
    "\n",
    "\n",
    "        if conv <= conv_tol:\n",
    "            break\n",
    "\n",
    "\n",
    "    print()\n",
    "    print(\"Final convergence parameter = {:.8f} Ha\".format(conv))\n",
    "    print(\"Number of iterations = \", n)\n",
    "    print(\"Final value of the ground-state energy = {:.8f} Ha\".format(energy))\n",
    "    print(\n",
    "        \"Accuracy with respect to the FCI energy: {:.8f} Ha ({:.8f} kcal/mol)\".format(\n",
    "            np.abs(energy - exact_value), np.abs(energy - exact_value) * 627.503\n",
    "        )\n",
    "    )\n",
    "    print()\n",
    "    print(\"Final circuit parameters = \\n\", qcut_params)"
   ]
  },
  {
   "cell_type": "code",
   "execution_count": null,
   "metadata": {},
   "outputs": [],
   "source": [
    "qcut_tracker.totals['executions']"
   ]
  },
  {
   "cell_type": "code",
   "execution_count": null,
   "metadata": {},
   "outputs": [],
   "source": [
    "# AB_total_tracker.totals"
   ]
  },
  {
   "cell_type": "code",
   "execution_count": null,
   "metadata": {},
   "outputs": [],
   "source": [
    "AB_optimization_tracker.totals['executions']"
   ]
  },
  {
   "cell_type": "code",
   "execution_count": null,
   "metadata": {},
   "outputs": [],
   "source": [
    "BC_tracker.totals['executions']"
   ]
  },
  {
   "cell_type": "code",
   "execution_count": null,
   "metadata": {},
   "outputs": [],
   "source": [
    "AB_reconstruction_tracker.totals['executions']"
   ]
  },
  {
   "cell_type": "markdown",
   "metadata": {
    "tags": []
   },
   "source": [
    "Visualizing the results\n",
    "=======================\n",
    "\n",
    "(a) comparing the number of steps it takes to reach our ground state estimate\n"
   ]
  },
  {
   "cell_type": "code",
   "execution_count": null,
   "metadata": {},
   "outputs": [],
   "source": [
    "# Adjusting the data to handle varying lengths by padding with NaNs for alignment\n",
    "from pandas import DataFrame\n",
    "import numpy as np\n",
    "import os\n",
    "\n",
    "# Ensure the directory exists\n",
    "os.makedirs(\"ricco_vqe_plots\", exist_ok=True)\n",
    "\n",
    "# Finding the maximum length among the arrays\n",
    "max_length = max(len(ricco_adam_cost_history), len(adam_cost), len(qcut_adam_cost))\n",
    "\n",
    "# Padding shorter arrays with NaN values to match the maximum length\n",
    "ricco_adam_cost_history_padded = np.pad(ricco_adam_cost_history, \n",
    "                                        (0, max_length - len(ricco_adam_cost_history)), \n",
    "                                        constant_values=np.nan)\n",
    "adam_cost_padded = np.pad(adam_cost, \n",
    "                          (0, max_length - len(adam_cost)), \n",
    "                          constant_values=np.nan)\n",
    "qcut_adam_cost_padded = np.pad(qcut_adam_cost, \n",
    "                               (0, max_length - len(qcut_adam_cost)), \n",
    "                               constant_values=np.nan)\n",
    "\n",
    "# Create a DataFrame to store the aligned data\n",
    "aligned_data = DataFrame({\n",
    "    \"RICCO_Adam_Cost_History\": ricco_adam_cost_history_padded,\n",
    "    \"Adam_Cost\": adam_cost_padded,\n",
    "    \"QCUT_Adam_Cost\": qcut_adam_cost_padded\n",
    "})\n",
    "\n",
    "# Save the aligned data to a CSV file\n",
    "aligned_data_path = \"ricco_vqe_plots/ricco_vqe_cost_data.csv\"\n",
    "aligned_data.to_csv(aligned_data_path, index=False)\n",
    "\n",
    "aligned_data_path\n"
   ]
  },
  {
   "cell_type": "code",
   "execution_count": null,
   "metadata": {},
   "outputs": [],
   "source": [
    "# import os\n",
    "# import matplotlib.pyplot as plt\n",
    "# import numpy as np\n",
    "\n",
    "# # Ensure the directory exists\n",
    "# os.makedirs(\"plots_supremacy_cct\", exist_ok=True)\n",
    "\n",
    "# # Adjust the figure size and set DPI for higher quality output\n",
    "# plt.figure(figsize=(8, 6), dpi=700)  # Adjusted size to suit typical LaTeX document width\n",
    "\n",
    "# # Plot for QCUT with Adam\n",
    "# plt.plot(qcut_adam_cost, label='QCUT with Adam', marker='o', color='red', linestyle='-', \n",
    "#          markersize=4, linewidth=3)\n",
    "# # plt.plot(qcut_adam_cost, label='QCUT with Adam', color='red', linestyle='-', \n",
    "# #          markersize=4, linewidth=3)\n",
    "\n",
    "\n",
    "# # Plot for RICCO with Adam\n",
    "# plt.plot(ricco_adam_cost_history, label='RICCO with Adam', marker='^', color='green', \n",
    "#          linestyle='-', markersize=4, linewidth=3)\n",
    "# # plt.plot(ricco_adam_cost_history, label='RICCO with Adam', color='green', linestyle='-', \n",
    "# #          markersize=4, linewidth=3)\n",
    "\n",
    "# # Plot for Adam\n",
    "# plt.plot(adam_cost, label='Adam', marker='x', color='orange', linestyle='-', \n",
    "# markersize=4, linewidth=3)\n",
    "# # plt.plot(adam_cost, label='Adam', color='orange', linestyle='-', markersize=4, linewidth=3)\n",
    "\n",
    "# # Adding titles and labels with increased font size for better readability\n",
    "# plt.xlabel('Optimization Steps', fontsize=18, fontweight='bold')\n",
    "# plt.ylabel('Cost Function Value', fontsize=18, fontweight='bold')\n",
    "# plt.legend(prop={'size': 18, 'weight': 'bold'})\n",
    "\n",
    "# plt.xticks(fontweight='bold', fontsize=18)\n",
    "# plt.yticks(fontweight='bold', fontsize=18)\n",
    "\n",
    "# # Save the plot to file\n",
    "# fig_path = \"ricco_vqe_plots/Cost_function_value.pdf\"\n",
    "# plt.savefig(fig_path)\n",
    "\n",
    "# # Display the plot\n",
    "# plt.show()\n"
   ]
  },
  {
   "cell_type": "code",
   "execution_count": null,
   "metadata": {
    "tags": []
   },
   "outputs": [],
   "source": [
    "import os\n",
    "import matplotlib.pyplot as plt\n",
    "import numpy as np\n",
    "\n",
    "# Ensure the directory exists\n",
    "os.makedirs(\"ricco_vqe_plots\", exist_ok=True)\n",
    "\n",
    "# Adjust the figure size and DPI for high quality output\n",
    "fig = plt.figure(figsize=(8, 6), dpi=700)\n",
    "\n",
    "# Plot for QCUT with Adam\n",
    "plt.plot(qcut_adam_cost, label='QCUT with Adam', marker='o', color='red', linestyle='-', \n",
    "         markersize=4, linewidth=3)\n",
    "\n",
    "# Plot for RICCO with Adam\n",
    "plt.plot(ricco_adam_cost_history, label='RICCO with Adam', marker='^', color='green', \n",
    "         linestyle='-', markersize=4, linewidth=3)\n",
    "\n",
    "# Plot for Adam\n",
    "plt.plot(adam_cost, label='Adam', marker='x', color='orange', linestyle='-', \n",
    "         markersize=4, linewidth=3)\n",
    "\n",
    "# Adding titles and labels with increased font size for better readability\n",
    "plt.xlabel('Optimization Steps', fontsize=18, fontweight='bold')\n",
    "plt.ylabel('Cost Function Value', fontsize=18, fontweight='bold')\n",
    "plt.legend(prop={'size': 18, 'weight': 'bold'})\n",
    "\n",
    "plt.xticks(fontweight='bold', fontsize=18)\n",
    "plt.yticks(fontweight='bold', fontsize=18)\n",
    "\n",
    "# Use tight layout to ensure proper centering and spacing\n",
    "fig.tight_layout()\n",
    "\n",
    "# Save the plot with a tight bounding box to ensure centralization in the PDF\n",
    "fig_path = \"ricco_vqe_plots/Cost_function_value.pdf\"\n",
    "plt.savefig(fig_path, bbox_inches='tight')\n",
    "\n",
    "# Display the plot\n",
    "plt.show()\n"
   ]
  },
  {
   "cell_type": "code",
   "execution_count": null,
   "metadata": {},
   "outputs": [],
   "source": []
  },
  {
   "cell_type": "markdown",
   "metadata": {},
   "source": [
    "(b) comparing the final optimization energy to the exact value."
   ]
  },
  {
   "cell_type": "code",
   "execution_count": null,
   "metadata": {
    "tags": []
   },
   "outputs": [],
   "source": [
    "# Sample data for demonstration (replace with actual data)\n",
    "exact_value = -1.136189454088\n",
    "chemical_accuracy = 0.0016  # Given chemical accuracy\n",
    "\n",
    "# Ensure the directory exists\n",
    "os.makedirs(\"ricco_vqe_plots\", exist_ok=True)\n",
    "\n",
    "# Adjust the figure size and set DPI for higher quality output\n",
    "plt.figure(figsize=(8, 6), dpi=400)  # Adjusted size to suit typical LaTeX document width\n",
    "\n",
    "# Plot for RICCO with Adam\n",
    "plt.plot(np.array(ricco_adam_cost_history) - exact_value, label='RICCO with Adam',\n",
    "         marker='^', color='green', linestyle='-', markersize=4, linewidth=3)\n",
    "\n",
    "# Plot for Adam\n",
    "plt.plot(np.array(adam_cost) - exact_value, label='Adam',\n",
    "         marker='x', color='orange', linestyle='-', markersize=4, linewidth=3)\n",
    "\n",
    "# Plot for QCUT with Adam\n",
    "plt.plot(np.array(qcut_adam_cost) - exact_value, label='QCUT with Adam',\n",
    "         marker='o', color='red', linestyle='-', markersize=4, linewidth=3)\n",
    "\n",
    "# Add a horizontal line for chemical accuracy\n",
    "plt.axhline(y=chemical_accuracy, color='blue', linestyle='--', \n",
    "            label='Chemical Accuracy', linewidth=3)\n",
    "\n",
    "# Set the y-axis to logarithmic scale\n",
    "plt.yscale('log')\n",
    "\n",
    "# Adding titles and labels with increased font size for better readability\n",
    "plt.xlabel('Optimization Steps', fontsize=14, fontweight='bold')\n",
    "plt.ylabel('Energy Difference in Hartree', fontsize=14, fontweight='bold')\n",
    "plt.legend(prop={'size': 14, 'weight': 'bold'})\n",
    "\n",
    "# Adjusting tick font sizes for readability\n",
    "plt.xticks(fontweight='bold', fontsize=14)\n",
    "plt.yticks(fontweight='bold', fontsize=14)\n",
    "\n",
    "# Save the plot to file\n",
    "fig_path = \"ricco_vqe_plots/Energy_difference.pdf\"\n",
    "plt.savefig(fig_path)\n",
    "\n",
    "# Display the plot\n",
    "plt.show()\n"
   ]
  },
  {
   "cell_type": "code",
   "execution_count": null,
   "metadata": {},
   "outputs": [],
   "source": []
  },
  {
   "cell_type": "code",
   "execution_count": null,
   "metadata": {
    "tags": []
   },
   "outputs": [],
   "source": [
    "exact_value = -1.136189454088\n",
    "chemical_accuracy = 0.0016  # Given chemical accuracy\n",
    "\n",
    "# Ensure the directory exists\n",
    "os.makedirs(\"ricco_vqe_plots\", exist_ok=True)\n",
    "\n",
    "# Adjust the figure size and DPI for high quality output with increased font size\n",
    "fig = plt.figure(figsize=(8, 6), dpi=700)  # Adjusted size to suit typical LaTeX document width\n",
    "\n",
    "# Plot for RICCO with Adam\n",
    "plt.plot(np.array(ricco_adam_cost_history) - exact_value, label='RICCO with Adam',\n",
    "         marker='^', color='green', linestyle='-', markersize=4, linewidth=3)\n",
    "\n",
    "# Plot for Adam\n",
    "plt.plot(np.array(adam_cost) - exact_value, label='Adam',\n",
    "         marker='x', color='orange', linestyle='-', markersize=4, linewidth=3)\n",
    "\n",
    "# Plot for QCUT with Adam\n",
    "plt.plot(np.array(qcut_adam_cost) - exact_value, label='QCUT with Adam',\n",
    "         marker='o', color='red', linestyle='-', markersize=4, linewidth=3)\n",
    "\n",
    "# Add a horizontal line for chemical accuracy\n",
    "plt.axhline(y=chemical_accuracy, color='blue', linestyle='--', \n",
    "            label='Chemical Accuracy', linewidth=3)\n",
    "\n",
    "# Set the y-axis to logarithmic scale\n",
    "plt.yscale('log')\n",
    "\n",
    "# Adding titles and labels with increased font size for better readability\n",
    "plt.xlabel('Optimization Steps', fontsize=18, fontweight='bold')\n",
    "plt.ylabel('Energy Difference in Hartree', fontsize=18, fontweight='bold')\n",
    "plt.legend(prop={'size': 18, 'weight': 'bold'})\n",
    "\n",
    "# Adjust tick font sizes for readability\n",
    "plt.xticks(fontweight='bold', fontsize=18)\n",
    "plt.yticks(fontweight='bold', fontsize=18)\n",
    "\n",
    "# Use tight layout to ensure proper centering and spacing\n",
    "fig.tight_layout()\n",
    "\n",
    "# Save the plot with a tight bounding box to ensure centralization in the PDF\n",
    "fig_path = \"ricco_vqe_plots/Energy_difference.pdf\"\n",
    "plt.savefig(fig_path, bbox_inches='tight')\n",
    "\n",
    "# Display the plot\n",
    "plt.show()\n"
   ]
  },
  {
   "cell_type": "code",
   "execution_count": null,
   "metadata": {},
   "outputs": [],
   "source": []
  },
  {
   "cell_type": "code",
   "execution_count": null,
   "metadata": {
    "tags": []
   },
   "outputs": [],
   "source": [
    "# Re-import necessary modules due to code reset\n",
    "import os\n",
    "import matplotlib.pyplot as plt\n",
    "\n",
    "ricco_exec = BC_tracker.totals['executions'] + AB_reconstruction_tracker.totals['executions']\n",
    "qcut_exec = qcut_tracker.totals['executions']\n",
    "num_executions = {\"RICCO\": ricco_exec, \"QCUT\": qcut_exec}\n",
    "\n",
    "# Ensure the directory exists\n",
    "os.makedirs(\"ricco_vqe_plots\", exist_ok=True)\n",
    "\n",
    "# Adjust the figure size and DPI for high-quality output\n",
    "fig, ax = plt.subplots(figsize=(8, 6), dpi=700)  # Increased DPI for LaTeX compatibility\n",
    "\n",
    "# Plot a bar chart with custom colors\n",
    "ax.bar(\"RICCO\", num_executions[\"RICCO\"], color='green', width=0.4, label='RICCO with Adam')\n",
    "ax.bar(\"QCUT\", num_executions[\"QCUT\"], color='red', width=0.4, label='QCUT with Adam')\n",
    "\n",
    "# Use scientific notation on the y-axis with the exponent shown only once\n",
    "ax.ticklabel_format(style='sci', axis='y', scilimits=(0, 0))\n",
    "\n",
    "# Add labels with larger font sizes for readability\n",
    "ax.set_xlabel(\"Circuit Cutting Methods\", fontsize=18, fontweight='bold')\n",
    "ax.set_ylabel(\"Number of Executions\", fontsize=18, fontweight='bold')\n",
    "\n",
    "# Remove x-axis labels (horizontal labels)\n",
    "ax.set_xticklabels([])\n",
    "\n",
    "# # Adjust tick parameters and apply bold font properties\n",
    "# for label in ax.get_xticklabels() + ax.get_yticklabels():\n",
    "#     label.set_fontsize(18)\n",
    "#     label.set_fontweight('bold')\n",
    "\n",
    "# Adjust tick parameters and apply bold font properties\n",
    "for label in ax.get_yticklabels():\n",
    "    label.set_fontsize(18)\n",
    "    label.set_fontweight('bold')\n",
    "\n",
    "# Ensure bold formatting for the scientific notation text\n",
    "ax.yaxis.offsetText.set_fontsize(18)\n",
    "ax.yaxis.offsetText.set_fontweight('bold')\n",
    "\n",
    "# Add legend\n",
    "ax.legend(prop={'size': 18, 'weight': 'bold'})\n",
    "\n",
    "# Use tight layout to ensure proper centering and spacing\n",
    "fig.tight_layout()\n",
    "\n",
    "# Save the plot with a tight bounding box to ensure centralization in the PDF\n",
    "fig_path = \"ricco_vqe_plots/Number_of_executions.pdf\"\n",
    "plt.savefig(fig_path, bbox_inches='tight')\n",
    "\n",
    "# Display the plot\n",
    "plt.show()\n"
   ]
  },
  {
   "cell_type": "code",
   "execution_count": null,
   "metadata": {},
   "outputs": [],
   "source": []
  },
  {
   "cell_type": "code",
   "execution_count": null,
   "metadata": {
    "tags": []
   },
   "outputs": [],
   "source": [
    "# Re-import necessary modules\n",
    "import os\n",
    "import pandas as pd\n",
    "import matplotlib.pyplot as plt\n",
    "\n",
    "import pandas as pd\n",
    "# Adjust the plot to display a single scientific notation label for the y-axis\n",
    "ricco_exec = BC_tracker.totals['executions'] + AB_reconstruction_tracker.totals['executions']\n",
    "qcut_exec = qcut_tracker.totals['executions']\n",
    "ricco_opt_exec = AB_optimization_tracker.totals['executions']\n",
    "num_opt_executions = {\n",
    "    \"RICCO\": ricco_exec, \n",
    "    \"QCUT\": qcut_exec, \n",
    "    \"RICCO Optimization\": ricco_opt_exec\n",
    "}\n",
    "\n",
    "\n",
    "# Convert the dictionary to a DataFrame\n",
    "df = pd.DataFrame(list(num_opt_executions.items()), columns=[\"Method\", \"Executions\"])\n",
    "\n",
    "# Ensure the directory exists\n",
    "os.makedirs(\"ricco_vqe_plots\", exist_ok=True)\n",
    "\n",
    "# Save the DataFrame to a CSV file\n",
    "csv_path = \"ricco_vqe_plots/num_opt_executions.csv\"\n",
    "df.to_csv(csv_path, index=False)\n",
    "\n",
    "# Adjust the figure size and DPI for high-quality output\n",
    "fig, ax = plt.subplots(figsize=(8, 6), dpi=700)  # Increased DPI for LaTeX compatibility\n",
    "\n",
    "# Plot a bar chart with custom colors for each execution category\n",
    "ax.bar(\"RICCO\", num_opt_executions[\"RICCO\"], color='green', width=0.4, label='RICCO with Adam')\n",
    "ax.bar(\"QCUT\", num_opt_executions[\"QCUT\"], color='red', width=0.4, label='QCUT with Adam')\n",
    "ax.bar(\"RICCO Optimization\", num_opt_executions[\"RICCO Optimization\"], \n",
    "       color='blue', width=0.4, label='RICCO Optimization')\n",
    "\n",
    "# Scale the y-axis by dividing all values by 10^n to simplify tick labels\n",
    "ax.ticklabel_format(style='sci', axis='y', scilimits=(0, 0))\n",
    "\n",
    "# Add label for the y-axis only\n",
    "ax.set_xlabel(\"Circuit Cutting Methods\", fontsize=18, fontweight='bold')\n",
    "ax.set_ylabel(\"Number of Executions\", fontsize=18, fontweight='bold')\n",
    "\n",
    "# Remove x-axis labels (horizontal labels)\n",
    "ax.set_xticklabels([])\n",
    "\n",
    "# Adjust tick parameters and apply bold font properties for y-axis ticks\n",
    "for label in ax.get_yticklabels():\n",
    "    label.set_fontsize(18)\n",
    "    label.set_fontweight('bold')\n",
    "\n",
    "# Ensure bold scientific notation formatting\n",
    "ax.yaxis.offsetText.set_fontsize(18)\n",
    "ax.yaxis.offsetText.set_fontweight('bold')\n",
    "\n",
    "# Add legend\n",
    "ax.legend(prop={'size': 18, 'weight': 'bold'})\n",
    "\n",
    "# Use tight layout to ensure proper centering and spacing\n",
    "fig.tight_layout()\n",
    "\n",
    "# Save the plot with a tight bounding box to ensure centralization in the PDF\n",
    "fig_path = \"ricco_vqe_plots/total_number_of_executions.pdf\"\n",
    "plt.savefig(fig_path, bbox_inches='tight')\n",
    "\n",
    "# Display the plot\n",
    "plt.show()\n"
   ]
  },
  {
   "cell_type": "code",
   "execution_count": null,
   "metadata": {},
   "outputs": [],
   "source": []
  },
  {
   "cell_type": "code",
   "execution_count": null,
   "metadata": {
    "tags": []
   },
   "outputs": [],
   "source": [
    "# ricco_exec = BC_tracker.totals['executions'] + AB_reconstruction_tracker.totals['executions']\n",
    "# qcut_exec = qcut_tracker.totals['executions']\n",
    "# num_executions = {\"RICCO\": ricco_exec, \"QCUT\": qcut_exec}\n",
    "\n",
    "# # Ensure the directory exists\n",
    "# os.makedirs(\"ricco_vqe_plots\", exist_ok=True)\n",
    "\n",
    "# # Adjust the figure size and set DPI for high-quality output\n",
    "# fig, ax = plt.subplots(figsize=(8, 6), dpi=400)\n",
    "\n",
    "# # Plot a bar chart with custom colors\n",
    "# ax.bar(\"RICCO\", num_executions[\"RICCO\"], color='green', width=0.4, label='RICCO with Adam')\n",
    "# ax.bar(\"QCUT\", num_executions[\"QCUT\"], color='red', width=0.4, label='QCUT with Adam')\n",
    "\n",
    "# # Use scientific notation on the y-axis with the exponent shown only once\n",
    "# ax.ticklabel_format(style='sci', axis='y', scilimits=(0, 0))\n",
    "\n",
    "# # Add labels with larger font sizes for readability\n",
    "# ax.set_xlabel(\"Circuit Cutting Method\", fontsize=14, fontweight='bold')\n",
    "# ax.set_ylabel(\"Number of Executions\", fontsize=14, fontweight='bold')\n",
    "\n",
    "# # Adjust tick parameters and apply bold font properties\n",
    "# for label in ax.get_xticklabels() + ax.get_yticklabels():\n",
    "#     label.set_fontsize(14)\n",
    "#     label.set_fontweight('bold')\n",
    "\n",
    "# # Add legend\n",
    "# ax.legend(prop={'size': 14, 'weight': 'bold'})\n",
    "\n",
    "# # Save the plot to a file with a tight bounding box\n",
    "# fig_path = \"ricco_vqe_plots/Number_of_executions.pdf\"\n",
    "# plt.savefig(fig_path, bbox_inches='tight')\n",
    "\n",
    "# # Display the plot\n",
    "# plt.show()\n"
   ]
  },
  {
   "cell_type": "code",
   "execution_count": null,
   "metadata": {
    "tags": []
   },
   "outputs": [],
   "source": [
    "# # Re-import necessary modules due to code reset\n",
    "# import os\n",
    "# import matplotlib.pyplot as plt\n",
    "\n",
    "# ricco_exec = BC_tracker.totals['executions'] + AB_reconstruction_tracker.totals['executions']\n",
    "# qcut_exec = qcut_tracker.totals['executions']\n",
    "# num_executions = {\"RICCO\": ricco_exec, \"QCUT\": qcut_exec}\n",
    "\n",
    "# # Ensure the directory exists\n",
    "# os.makedirs(\"ricco_vqe_plots\", exist_ok=True)\n",
    "\n",
    "# # Adjust the figure size and DPI for high-quality output\n",
    "# fig, ax = plt.subplots(figsize=(8, 6), dpi=700)  # Increased DPI for better LaTeX compatibility\n",
    "\n",
    "# # Plot a bar chart with custom colors\n",
    "# ax.bar(\"RICCO\", num_executions[\"RICCO\"], color='green', width=0.4, label='RICCO with Adam')\n",
    "# ax.bar(\"QCUT\", num_executions[\"QCUT\"], color='red', width=0.4, label='QCUT with Adam')\n",
    "\n",
    "# # Use scientific notation on the y-axis with the exponent shown only once\n",
    "# ax.ticklabel_format(style='sci', axis='y', scilimits=(0, 0))\n",
    "\n",
    "# # Add labels with larger font sizes for readability\n",
    "# ax.set_xlabel(\"Circuit Cutting Method\", fontsize=18, fontweight='bold')\n",
    "# ax.set_ylabel(\"Number of Executions\", fontsize=18, fontweight='bold')\n",
    "\n",
    "# # Adjust tick parameters and apply bold font properties\n",
    "# for label in ax.get_xticklabels() + ax.get_yticklabels():\n",
    "#     label.set_fontsize(18)\n",
    "#     label.set_fontweight('bold')\n",
    "\n",
    "# # Add legend\n",
    "# ax.legend(prop={'size': 18, 'weight': 'bold'})\n",
    "\n",
    "# # Use tight layout to ensure proper centering and spacing\n",
    "# fig.tight_layout()\n",
    "\n",
    "# # Save the plot with a tight bounding box to ensure centralization in the PDF\n",
    "# fig_path = \"ricco_vqe_plots/Number_of_executions.pdf\"\n",
    "# plt.savefig(fig_path, bbox_inches='tight')\n",
    "\n",
    "# # Display the plot\n",
    "# plt.show()\n"
   ]
  },
  {
   "cell_type": "code",
   "execution_count": null,
   "metadata": {},
   "outputs": [],
   "source": []
  },
  {
   "cell_type": "code",
   "execution_count": null,
   "metadata": {},
   "outputs": [],
   "source": []
  },
  {
   "cell_type": "code",
   "execution_count": null,
   "metadata": {},
   "outputs": [],
   "source": []
  },
  {
   "cell_type": "code",
   "execution_count": null,
   "metadata": {
    "tags": []
   },
   "outputs": [],
   "source": [
    "# import pandas as pd\n",
    "# # Adjust the plot to display a single scientific notation label for the y-axis\n",
    "# ricco_exec = BC_tracker.totals['executions'] + AB_reconstruction_tracker.totals['executions']\n",
    "# qcut_exec = qcut_tracker.totals['executions']\n",
    "# ricco_opt_exec = AB_optimization_tracker.totals['executions']\n",
    "# num_opt_executions = {\n",
    "#     \"RICCO\": ricco_exec, \n",
    "#     \"QCUT\": qcut_exec, \n",
    "#     \"RICCO Optimization\": ricco_opt_exec\n",
    "# }\n",
    "\n",
    "# # Convert the dictionary to a DataFrame\n",
    "# df = pd.DataFrame(list(num_opt_executions.items()), columns=[\"Method\", \"Executions\"])\n",
    "\n",
    "# # Ensure the directory exists\n",
    "# os.makedirs(\"ricco_vqe_plots\", exist_ok=True)\n",
    "\n",
    "# # Save the DataFrame to a CSV file\n",
    "# csv_path = \"ricco_vqe_plots/num_opt_executions.csv\"\n",
    "# df.to_csv(csv_path, index=False)\n",
    "\n",
    "# fig, ax = plt.subplots(figsize=(8, 6), dpi=400)\n",
    "\n",
    "# # Plot a bar chart with custom colors for each execution category\n",
    "# ax.bar(\"RICCO\", num_opt_executions[\"RICCO\"], color='green', width=0.4, label='RICCO with Adam')\n",
    "# ax.bar(\"QCUT\", num_opt_executions[\"QCUT\"], color='red', width=0.4, label='QCUT with Adam')\n",
    "# ax.bar(\"RICCO Optimization\", num_opt_executions[\"RICCO Optimization\"], \n",
    "#        color='blue', width=0.4, label='RICCO Optimization')\n",
    "\n",
    "# # Scale the y-axis by dividing all values by 10^n to simplify tick labels\n",
    "# ax.ticklabel_format(style='sci', axis='y', scilimits=(0, 0))\n",
    "\n",
    "# # Add labels with larger font sizes for readability\n",
    "# ax.set_xlabel(\"Circuit Cutting Method\", fontsize=14, fontweight='bold')\n",
    "# ax.set_ylabel(\"Number of Executions\", fontsize=14, fontweight='bold')\n",
    "\n",
    "# # Adjust tick parameters and apply bold font properties\n",
    "# for label in ax.get_xticklabels() + ax.get_yticklabels():\n",
    "#     label.set_fontsize(14)\n",
    "#     label.set_fontweight('bold')\n",
    "\n",
    "# # Add legend\n",
    "# ax.legend(prop={'size': 14, 'weight': 'bold'})\n",
    "\n",
    "# # Save the plot to a file with a tight bounding box\n",
    "# fig_path = \"ricco_vqe_plots/total_number_of_executions.pdf\"\n",
    "# plt.savefig(fig_path, bbox_inches='tight')\n",
    "\n",
    "# # Display the plot\n",
    "# plt.show()\n"
   ]
  },
  {
   "cell_type": "code",
   "execution_count": null,
   "metadata": {},
   "outputs": [],
   "source": []
  },
  {
   "cell_type": "code",
   "execution_count": null,
   "metadata": {
    "tags": []
   },
   "outputs": [],
   "source": [
    "# # Re-import necessary modules\n",
    "# import os\n",
    "# import pandas as pd\n",
    "# import matplotlib.pyplot as plt\n",
    "\n",
    "# import pandas as pd\n",
    "# # Adjust the plot to display a single scientific notation label for the y-axis\n",
    "# ricco_exec = BC_tracker.totals['executions'] + AB_reconstruction_tracker.totals['executions']\n",
    "# qcut_exec = qcut_tracker.totals['executions']\n",
    "# ricco_opt_exec = AB_optimization_tracker.totals['executions']\n",
    "# num_opt_executions = {\n",
    "#     \"RICCO\": ricco_exec, \n",
    "#     \"QCUT\": qcut_exec, \n",
    "#     \"RICCO Optimization\": ricco_opt_exec\n",
    "# }\n",
    "\n",
    "\n",
    "# # Convert the dictionary to a DataFrame\n",
    "# df = pd.DataFrame(list(num_opt_executions.items()), columns=[\"Method\", \"Executions\"])\n",
    "\n",
    "# # Ensure the directory exists\n",
    "# os.makedirs(\"ricco_vqe_plots\", exist_ok=True)\n",
    "\n",
    "# # Save the DataFrame to a CSV file\n",
    "# csv_path = \"ricco_vqe_plots/num_opt_executions.csv\"\n",
    "# df.to_csv(csv_path, index=False)\n",
    "\n",
    "# # Adjust the figure size and DPI for high-quality output\n",
    "# fig, ax = plt.subplots(figsize=(8, 6), dpi=700)  # Increased DPI for LaTeX compatibility\n",
    "\n",
    "# # Plot a bar chart with custom colors for each execution category\n",
    "# ax.bar(\"RICCO\", num_opt_executions[\"RICCO\"], color='green', width=0.4, label='RICCO with Adam')\n",
    "# ax.bar(\"QCUT\", num_opt_executions[\"QCUT\"], color='red', width=0.4, label='QCUT with Adam')\n",
    "# ax.bar(\"RICCO Optimization\", num_opt_executions[\"RICCO Optimization\"], \n",
    "#        color='blue', width=0.4, label='RICCO Optimization')\n",
    "\n",
    "# # Scale the y-axis by dividing all values by 10^n to simplify tick labels\n",
    "# ax.ticklabel_format(style='sci', axis='y', scilimits=(0, 0))\n",
    "\n",
    "# # Add labels with larger font sizes for readability\n",
    "# ax.set_xlabel(\"Circuit Cutting Method\", fontsize=18, fontweight='bold')\n",
    "# ax.set_ylabel(\"Number of Executions\", fontsize=18, fontweight='bold')\n",
    "\n",
    "# # Adjust tick parameters and apply bold font properties\n",
    "# for label in ax.get_xticklabels() + ax.get_yticklabels():\n",
    "#     label.set_fontsize(18)\n",
    "#     label.set_fontweight('bold')\n",
    "\n",
    "# # Add legend\n",
    "# ax.legend(prop={'size': 18, 'weight': 'bold'})\n",
    "\n",
    "# # Use tight layout to ensure proper centering and spacing\n",
    "# fig.tight_layout()\n",
    "\n",
    "# # Save the plot with a tight bounding box to ensure centralization in the PDF\n",
    "# fig_path = \"ricco_vqe_plots/total_number_of_executions.pdf\"\n",
    "# plt.savefig(fig_path, bbox_inches='tight')\n",
    "\n",
    "# # Display the plot\n",
    "# plt.show()\n"
   ]
  },
  {
   "cell_type": "code",
   "execution_count": null,
   "metadata": {
    "tags": []
   },
   "outputs": [],
   "source": [
    "# # Re-import necessary modules\n",
    "# import os\n",
    "# import pandas as pd\n",
    "# import matplotlib.pyplot as plt\n",
    "\n",
    "# import pandas as pd\n",
    "# # Adjust the plot to display a single scientific notation label for the y-axis\n",
    "# ricco_exec = BC_tracker.totals['executions'] + AB_reconstruction_tracker.totals['executions']\n",
    "# qcut_exec = qcut_tracker.totals['executions']\n",
    "# ricco_opt_exec = AB_optimization_tracker.totals['executions']\n",
    "# num_opt_executions = {\n",
    "#     \"RICCO\": ricco_exec, \n",
    "#     \"QCUT\": qcut_exec, \n",
    "#     \"RICCO Optimization\": ricco_opt_exec\n",
    "# }\n",
    "\n",
    "\n",
    "# # Convert the dictionary to a DataFrame\n",
    "# df = pd.DataFrame(list(num_opt_executions.items()), columns=[\"Method\", \"Executions\"])\n",
    "\n",
    "# # Ensure the directory exists\n",
    "# os.makedirs(\"ricco_vqe_plots\", exist_ok=True)\n",
    "\n",
    "# # Save the DataFrame to a CSV file\n",
    "# csv_path = \"ricco_vqe_plots/num_opt_executions.csv\"\n",
    "# df.to_csv(csv_path, index=False)\n",
    "\n",
    "\n",
    "# # Adjust the figure size and DPI for high-quality output\n",
    "# fig, ax = plt.subplots(figsize=(8, 6), dpi=700)  # Increased DPI for LaTeX compatibility\n",
    "\n",
    "# # Plot a bar chart with custom colors for each execution category\n",
    "# ax.bar(\"RICCO\", num_opt_executions[\"RICCO\"], color='green', width=0.4, label='RICCO with Adam')\n",
    "# ax.bar(\"QCUT\", num_opt_executions[\"QCUT\"], color='red', width=0.4, label='QCUT with Adam')\n",
    "# ax.bar(\"RICCO Optimization\", num_opt_executions[\"RICCO Optimization\"], \n",
    "#        color='blue', width=0.4, label='RICCO Optimization')\n",
    "\n",
    "# # Scale the y-axis by dividing all values by 10^n to simplify tick labels\n",
    "# ax.ticklabel_format(style='sci', axis='y', scilimits=(0, 0))\n",
    "\n",
    "# # Add label for the y-axis only\n",
    "# ax.set_xlabel(\"Circuit Cutting Method\", fontsize=18, fontweight='bold')\n",
    "# ax.set_ylabel(\"Number of Executions\", fontsize=18, fontweight='bold')\n",
    "\n",
    "# # Remove x-axis labels (horizontal labels)\n",
    "# ax.set_xticklabels([])\n",
    "\n",
    "# # Adjust tick parameters and apply bold font properties for y-axis ticks\n",
    "# for label in ax.get_yticklabels():\n",
    "#     label.set_fontsize(18)\n",
    "#     label.set_fontweight('bold')\n",
    "\n",
    "# # Add legend\n",
    "# ax.legend(prop={'size': 18, 'weight': 'bold'})\n",
    "\n",
    "# # Use tight layout to ensure proper centering and spacing\n",
    "# fig.tight_layout()\n",
    "\n",
    "# # Save the plot with a tight bounding box to ensure centralization in the PDF\n",
    "# fig_path = \"ricco_vqe_plots/total_number_of_executions.pdf\"\n",
    "# plt.savefig(fig_path, bbox_inches='tight')\n",
    "\n",
    "# # Display the plot\n",
    "# plt.show()\n"
   ]
  },
  {
   "cell_type": "code",
   "execution_count": null,
   "metadata": {},
   "outputs": [],
   "source": []
  },
  {
   "cell_type": "code",
   "execution_count": null,
   "metadata": {
    "tags": []
   },
   "outputs": [],
   "source": []
  },
  {
   "cell_type": "code",
   "execution_count": null,
   "metadata": {},
   "outputs": [],
   "source": []
  },
  {
   "cell_type": "code",
   "execution_count": null,
   "metadata": {},
   "outputs": [],
   "source": []
  },
  {
   "cell_type": "code",
   "execution_count": null,
   "metadata": {},
   "outputs": [],
   "source": [
    "# plt.figure().add_subplot(111).set_aspect(20)\n",
    "# # plt.rcParams.update({'font.size': 800})\n",
    "# plt.rc('font', size=15)\n",
    "# plt.style.use(\"seaborn\")\n",
    "# plt.plot(np.array(ricco_adam_cost_history) - exact_value, \"g\", label=\"RICCO with Adam\")\n",
    "# plt.plot(np.array(adam_cost) - exact_value, \"orange\", label=\"Adam\")\n",
    "# plt.plot(np.array(qcut_adam_cost) - exact_value, \"r\", label=\"QCUT with Adam\")\n",
    "# # plt.plot(np.array(qngd_cost) - exact_value, \"k\", label=\"Quantum natural gradient descent\")\n",
    "# plt.yscale(\"log\")\n",
    "# plt.ylabel(\"Energy difference\", fontsize='large')\n",
    "# plt.xlabel(\"Step\", fontsize='large')\n",
    "# plt.legend(fontsize='medium')\n",
    "# # plt.show()\n",
    "# plt.savefig(\"Energy_difference.pdf\")"
   ]
  },
  {
   "cell_type": "code",
   "execution_count": null,
   "metadata": {
    "tags": []
   },
   "outputs": [],
   "source": [
    "# Ensure the directory exists\n",
    "os.makedirs(\"ricco_vqe_plots\", exist_ok=True)\n",
    "\n",
    "# Adjust the figure size and set DPI for high-quality output\n",
    "plt.figure(figsize=(8, 6), dpi=400).add_subplot(111).set_aspect(20)\n",
    "\n",
    "# Plot for RICCO with Adam\n",
    "plt.plot(np.array(ricco_adam_cost_history) - exact_value, label='RICCO with Adam',\n",
    "         marker='^', color='green', linestyle='-', markersize=4)\n",
    "\n",
    "# Plot for Adam\n",
    "plt.plot(np.array(adam_cost) - exact_value, label='Adam',\n",
    "         marker='x', color='orange', linestyle='-', markersize=4)\n",
    "\n",
    "# Plot for QCUT with Adam\n",
    "plt.plot(np.array(qcut_adam_cost) - exact_value, label='QCUT with Adam',\n",
    "         marker='o', color='red', linestyle='-', markersize=4)\n",
    "\n",
    "# Set the y-axis to logarithmic scale\n",
    "plt.yscale('log')\n",
    "\n",
    "# Add labels with larger font sizes for readability\n",
    "plt.xlabel('Step', fontsize=14, fontweight='bold')\n",
    "plt.ylabel('Energy Difference', fontsize=14, fontweight='bold')\n",
    "\n",
    "# Adjust the legend font size and position\n",
    "plt.legend(fontsize=14, prop={'weight': 'bold'})\n",
    "\n",
    "# Adjust tick font sizes for readability\n",
    "plt.xticks(fontsize=14, fontweight='bold')\n",
    "plt.yticks(fontsize=14, fontweight='bold')\n",
    "\n",
    "# Save the plot to a file\n",
    "fig_path = \"ricco_vqe_plots/Energy_difference_v03.pdf\"\n",
    "plt.savefig(fig_path)\n",
    "\n",
    "# Display the plot\n",
    "plt.show()\n"
   ]
  },
  {
   "cell_type": "code",
   "execution_count": null,
   "metadata": {},
   "outputs": [],
   "source": [
    "# qcut_exec"
   ]
  },
  {
   "cell_type": "code",
   "execution_count": null,
   "metadata": {
    "tags": []
   },
   "outputs": [],
   "source": [
    "# ricco_exec = BC_tracker.totals['executions'] + AB_reconstruction_tracker.totals['executions']\n",
    "# qcut_exec = qcut_tracker.totals['executions']\n",
    "# num_executions = {\"RICCO\": ricco_exec, \"QCUT\": qcut_exec}\n",
    "\n",
    "# # Ensure the directory exists\n",
    "# os.makedirs(\"ricco_vqe_plots\", exist_ok=True)\n",
    "\n",
    "# # Adjust the figure size and set DPI for high-quality output\n",
    "# plt.figure(figsize=(8, 6), dpi=400)\n",
    "\n",
    "# # Plot a bar chart for the number of executions with custom colors\n",
    "# plt.bar(\"RICCO\", num_executions[\"RICCO\"], color='green', width=0.4, label='RICCO with Adam')  # Green for RICCO\n",
    "# plt.bar(\"QCUT\", num_executions[\"QCUT\"], color='red', width=0.4, label='QCUT with Adam')  # Red for QCUT\n",
    "\n",
    "# # Set the y-axis to logarithmic scale\n",
    "# plt.yscale('log')\n",
    "\n",
    "# # Add labels with larger font sizes for readability\n",
    "# plt.xlabel(\"Circuit Cutting Method\", fontsize=14, fontweight='bold')\n",
    "# plt.ylabel(\"Number of Executions\", fontsize=14, fontweight='bold')\n",
    "\n",
    "# # Adjust tick font sizes for readability\n",
    "# plt.xticks(fontsize=14, fontweight='bold')\n",
    "# plt.yticks(fontsize=14, fontweight='bold')\n",
    "\n",
    "# # Add legend\n",
    "# plt.legend(prop={'size': 14, 'weight': 'bold'})\n",
    "\n",
    "# # Save the plot to a file with a tight bounding box\n",
    "# fig_path = \"ricco_vqe_plots/Number_of_executions_v04.pdf\"\n",
    "# plt.savefig(fig_path, bbox_inches='tight')\n",
    "\n",
    "\n",
    "\n",
    "# # Display the plot\n",
    "# plt.show()\n"
   ]
  },
  {
   "cell_type": "code",
   "execution_count": null,
   "metadata": {
    "tags": []
   },
   "outputs": [],
   "source": []
  },
  {
   "cell_type": "code",
   "execution_count": null,
   "metadata": {
    "tags": []
   },
   "outputs": [],
   "source": [
    "# # Adjust the figure size and set DPI for high-quality output\n",
    "# plt.figure(figsize=(8, 6), dpi=400)\n",
    "\n",
    "# # Plot a bar chart with custom colors\n",
    "# plt.bar(\"RICCO\", num_executions[\"RICCO\"], color='green', width=0.4, label='RICCO with Adam')\n",
    "# plt.bar(\"QCUT\", num_executions[\"QCUT\"], color='red', width=0.4, label='QCUT with Adam')\n",
    "\n",
    "# # Set the y-axis to logarithmic scale\n",
    "# # plt.yscale('log')\n",
    "\n",
    "# # Add labels with larger font sizes for readability\n",
    "# plt.xlabel(\"Circuit Cutting Method\", fontsize=14, fontweight='bold')\n",
    "# plt.ylabel(\"Number of Executions\", fontsize=14, fontweight='bold')\n",
    "\n",
    "# # Adjust tick font sizes for readability and ensure bold y-tick labels\n",
    "# plt.xticks(fontsize=14, fontweight='bold')\n",
    "# plt.yticks(fontsize=14, fontweight='bold')\n",
    "\n",
    "# # Add legend\n",
    "# plt.legend(prop={'size': 14, 'weight': 'bold'})\n",
    "\n",
    "# # Save the plot to a file with a tight bounding box\n",
    "# fig_path = \"ricco_vqe_plots/Number_of_executions_v04_log.pdf\"\n",
    "# plt.savefig(fig_path, bbox_inches='tight')\n",
    "\n",
    "# # Display the plot\n",
    "# plt.show()\n"
   ]
  },
  {
   "cell_type": "code",
   "execution_count": null,
   "metadata": {},
   "outputs": [],
   "source": []
  },
  {
   "cell_type": "code",
   "execution_count": null,
   "metadata": {},
   "outputs": [],
   "source": []
  },
  {
   "cell_type": "code",
   "execution_count": null,
   "metadata": {
    "tags": []
   },
   "outputs": [],
   "source": [
    "# # Define a formatter to display numbers in bold scientific notation\n",
    "# def scientific_notation(x, _):\n",
    "#     if x == 0:\n",
    "#         return \"0\"\n",
    "#     exponent = int(np.floor(np.log10(abs(x))))\n",
    "#     coeff = x / 10**exponent\n",
    "#     return r\"$\\mathbf{{{:.1f} \\times 10^{{{}}}}}$\".format(coeff, exponent)\n",
    "\n",
    "# # Adjust the plot with the custom bold scientific notation for y-axis ticks\n",
    "# fig, ax = plt.subplots(figsize=(8, 6), dpi=400)\n",
    "\n",
    "# # Plot a bar chart with custom colors\n",
    "# ax.bar(\"RICCO\", num_executions[\"RICCO\"], color='green', width=0.4, label='RICCO with Adam')\n",
    "# ax.bar(\"QCUT\", num_executions[\"QCUT\"], color='red', width=0.4, label='QCUT with Adam')\n",
    "\n",
    "# # Set the y-axis to use the custom bold scientific notation\n",
    "# ax.yaxis.set_major_formatter(ticker.FuncFormatter(scientific_notation))\n",
    "\n",
    "# # Add labels with larger font sizes for readability\n",
    "# ax.set_xlabel(\"Circuit Cutting Method\", fontsize=14, fontweight='bold')\n",
    "# ax.set_ylabel(\"Number of Executions\", fontsize=14, fontweight='bold')\n",
    "\n",
    "# # Adjust tick parameters and apply bold font properties\n",
    "# for label in ax.get_xticklabels() + ax.get_yticklabels():\n",
    "#     label.set_fontsize(14)\n",
    "#     label.set_fontweight('bold')\n",
    "\n",
    "# # Add legend\n",
    "# ax.legend(prop={'size': 14, 'weight': 'bold'})\n",
    "\n",
    "# # Save the plot to a file with a tight bounding box\n",
    "# fig_path = \"ricco_vqe_plots/Number_of_executions_v04_bold_scientific.pdf\"\n",
    "# plt.savefig(fig_path, bbox_inches='tight')\n",
    "\n",
    "# # Display the plot\n",
    "# plt.show()\n"
   ]
  },
  {
   "cell_type": "code",
   "execution_count": null,
   "metadata": {},
   "outputs": [],
   "source": []
  },
  {
   "cell_type": "code",
   "execution_count": null,
   "metadata": {
    "tags": []
   },
   "outputs": [],
   "source": [
    "# ricco_exec = BC_tracker.totals['executions'] + AB_reconstruction_tracker.totals['executions']\n",
    "# qcut_exec = qcut_tracker.totals['executions']\n",
    "# ricco_opt_exec = AB_optimization_tracker.totals['executions']\n",
    "# num_opt_executions = {\n",
    "#     \"RICCO\": ricco_exec, \n",
    "#     \"QCUT\": qcut_exec, \n",
    "#     \"RICCO Optimization\": ricco_opt_exec\n",
    "# }\n",
    "\n",
    "# # Ensure the directory exists\n",
    "# os.makedirs(\"ricco_vqe_plots\", exist_ok=True)\n",
    "\n",
    "# # Define a formatter to display numbers in bold scientific notation\n",
    "# def scientific_notation(x, _):\n",
    "#     if x == 0:\n",
    "#         return \"0\"\n",
    "#     exponent = int(np.floor(np.log10(abs(x))))\n",
    "#     coeff = x / 10**exponent\n",
    "#     return r\"$\\mathbf{{{:.1f} \\times 10^{{{}}}}}$\".format(coeff, exponent)\n",
    "\n",
    "# # Adjust the figure size and set DPI for high-quality output\n",
    "# fig, ax = plt.subplots(figsize=(8, 6), dpi=400)\n",
    "\n",
    "# # Plot a bar chart with custom colors for each execution category\n",
    "# ax.bar(\"RICCO\", num_opt_executions[\"RICCO\"], color='green', width=0.4, label='RICCO with Adam')\n",
    "# ax.bar(\"QCUT\", num_opt_executions[\"QCUT\"], color='red', width=0.4, label='QCUT with Adam')\n",
    "# ax.bar(\"RICCO Optimization\", num_opt_executions[\"RICCO Optimization\"], \n",
    "#        color='blue', width=0.4, label='RICCO Optimization')\n",
    "\n",
    "# # Set the y-axis to use the custom bold scientific notation\n",
    "# ax.yaxis.set_major_formatter(ticker.FuncFormatter(scientific_notation))\n",
    "\n",
    "# # Add labels with larger font sizes for readability\n",
    "# ax.set_xlabel(\"Circuit Cutting Method\", fontsize=14, fontweight='bold')\n",
    "# ax.set_ylabel(\"Number of Executions\", fontsize=14, fontweight='bold')\n",
    "\n",
    "# # Adjust tick parameters and apply bold font properties\n",
    "# for label in ax.get_xticklabels() + ax.get_yticklabels():\n",
    "#     label.set_fontsize(14)\n",
    "#     label.set_fontweight('bold')\n",
    "\n",
    "# # Add legend\n",
    "# ax.legend(prop={'size': 14, 'weight': 'bold'})\n",
    "\n",
    "# # Save the plot to a file with a tight bounding box\n",
    "# fig_path = \"ricco_vqe_plots/total_number_of_executions_v05_bold_scientific.pdf\"\n",
    "# plt.savefig(fig_path, bbox_inches='tight')\n",
    "\n",
    "# # Display the plot\n",
    "# plt.show()\n"
   ]
  },
  {
   "cell_type": "code",
   "execution_count": null,
   "metadata": {
    "tags": []
   },
   "outputs": [],
   "source": [
    "# # Adjust the plot to display a single scientific notation label for the y-axis\n",
    "# ricco_exec = BC_tracker.totals['executions'] + AB_reconstruction_tracker.totals['executions']\n",
    "# qcut_exec = qcut_tracker.totals['executions']\n",
    "# ricco_opt_exec = AB_optimization_tracker.totals['executions']\n",
    "# num_opt_executions = {\n",
    "#     \"RICCO\": ricco_exec, \n",
    "#     \"QCUT\": qcut_exec, \n",
    "#     \"RICCO Optimization\": ricco_opt_exec\n",
    "# }\n",
    "\n",
    "# fig, ax = plt.subplots(figsize=(8, 6), dpi=400)\n",
    "\n",
    "# # Plot a bar chart with custom colors for each execution category\n",
    "# ax.bar(\"RICCO\", num_opt_executions[\"RICCO\"], color='green', width=0.4, label='RICCO with Adam')\n",
    "# ax.bar(\"QCUT\", num_opt_executions[\"QCUT\"], color='red', width=0.4, label='QCUT with Adam')\n",
    "# ax.bar(\"RICCO Optimization\", num_opt_executions[\"RICCO Optimization\"], \n",
    "#        color='blue', width=0.4, label='RICCO Optimization')\n",
    "\n",
    "# # Scale the y-axis by dividing all values by 10^n to simplify tick labels\n",
    "# ax.ticklabel_format(style='sci', axis='y', scilimits=(0, 0))\n",
    "\n",
    "# # Add labels with larger font sizes for readability\n",
    "# ax.set_xlabel(\"Circuit Cutting Method\", fontsize=14, fontweight='bold')\n",
    "# ax.set_ylabel(\"Number of Executions\", fontsize=14, fontweight='bold')\n",
    "\n",
    "# # Adjust tick parameters and apply bold font properties\n",
    "# for label in ax.get_xticklabels() + ax.get_yticklabels():\n",
    "#     label.set_fontsize(14)\n",
    "#     label.set_fontweight('bold')\n",
    "\n",
    "# # Add legend\n",
    "# ax.legend(prop={'size': 14, 'weight': 'bold'})\n",
    "\n",
    "# # Save the plot to a file with a tight bounding box\n",
    "# fig_path = \"ricco_vqe_plots/total_number_of_executions_v05_axis_notation.pdf\"\n",
    "# plt.savefig(fig_path, bbox_inches='tight')\n",
    "\n",
    "# # Display the plot\n",
    "# plt.show()\n"
   ]
  },
  {
   "cell_type": "code",
   "execution_count": null,
   "metadata": {
    "tags": []
   },
   "outputs": [],
   "source": []
  },
  {
   "cell_type": "code",
   "execution_count": null,
   "metadata": {},
   "outputs": [],
   "source": []
  },
  {
   "cell_type": "code",
   "execution_count": null,
   "metadata": {},
   "outputs": [],
   "source": []
  },
  {
   "cell_type": "code",
   "execution_count": null,
   "metadata": {},
   "outputs": [],
   "source": []
  },
  {
   "cell_type": "code",
   "execution_count": null,
   "metadata": {},
   "outputs": [],
   "source": []
  },
  {
   "cell_type": "code",
   "execution_count": null,
   "metadata": {},
   "outputs": [],
   "source": []
  }
 ],
 "metadata": {
  "citation-manager": {
   "items": {}
  },
  "kernelspec": {
   "display_name": "Python 3 (ipykernel)",
   "language": "python",
   "name": "python3"
  },
  "language_info": {
   "codemirror_mode": {
    "name": "ipython",
    "version": 3
   },
   "file_extension": ".py",
   "mimetype": "text/x-python",
   "name": "python",
   "nbconvert_exporter": "python",
   "pygments_lexer": "ipython3",
   "version": "3.9.21"
  }
 },
 "nbformat": 4,
 "nbformat_minor": 4
}
